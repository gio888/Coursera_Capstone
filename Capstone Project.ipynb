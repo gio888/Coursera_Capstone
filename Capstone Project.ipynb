{
 "cells": [
  {
   "cell_type": "markdown",
   "metadata": {},
   "source": [
    "# Introduction/Business Problem\n",
    "The COVID-19 pandemic has taken an unprecedented toll globally, already affecting over 2M people, taking over 200K lives and, according to WEF, will likely cost the world 2 trillion USD in economic losses.\n",
    "\n",
    "In the Philippines, the responsibility of managing the quarantine falls on the shoulders of the mayors of the cities and municipalities.\n",
    "\n",
    "Not all cities are affected by the virus the same way. Some cities are overwhelmed by the number of cases. Some cities have seen the peak and are now slowly coming down in terms of cases. Some cities are growing in terms of the number of cases.\n",
    "\n",
    "The mayors will be interested to see where their city is relative to cases. Is their city on the downward path or in the growth path?\n",
    "\n",
    "The citizens, on the other hand, will be interested to know where the hospitals are near their location.\n",
    "\n",
    "This is the problem we want to solve with data analysis.\n",
    "\n",
    "As an application, we would have an interface for mayors to see if their daily rates of cases are growing or decreasing.\n",
    "\n",
    "For citizens, they can find out the nearest health facilities and testing centers are so they can go there in case they need to be tested or see a healthcare professional."
   ]
  },
  {
   "cell_type": "markdown",
   "metadata": {},
   "source": [
    "# Data Section\n",
    "For this exercise, we will be using the following datasets:\n",
    "\n",
    "1. Case Information dataset provided by the Philippine Department of Health. We will use this dataset to determine the growth rates per city. This dataset includes the following fields:\n",
    "\t* CaseCode : Random code assigned for labelling cases\n",
    "\t* Age : Age\n",
    "\t* AgeGroup : Five-year age group\n",
    "\t* Sex : Sex\n",
    "\t* DateRepConf : Date publicly announced as confirmed case\n",
    "\t* DateRecover : Date recovered\n",
    "\t* DateDied : Date died\n",
    "\t* RemovalType : Type of removal (recovery or death)\n",
    "\t* DateRepRem : Date publicly announced as removed\n",
    "\t* Admitted : Binary variable indicating patient has been admitted to hospital\n",
    "\t* RegionRes : Region of residence\n",
    "\t* ProvCityRes : Province of residence\n",
    "\t* RegionPSGC : Philippine Standard Geographic Code of Region of Residence\n",
    "\t* ProvPSGC : Philippine Standard Geographic Code of Province of Residence\n",
    "\t* MunCityPSGC : Philippine Standard Geographic Code of Municipality or City of Residence\n",
    "\t* HealthStatus : Known current health status of patient (asymptomatic, mild, severe, critical, died, recovered)\n",
    "\t* Quarantined : Ever been home quarantined, not necessarily currently in home quarantine\n",
    "2. Geojson dataset of cities and municipalities in the Philippines. We will use this dataset to provide the mapping boundaries of the different cities and municipalities in the Philippines.\n",
    "\t* ID_0 : Unique ID 0\n",
    "\t* ISO : ISO Country Code\n",
    "\t* NAME_0 : Country Name\n",
    "\t* NAME_2 : Municipality or City Name\n",
    "\t* PROVINCE : Province Name\n",
    "\t* REGION : Regiona Name\n",
    "\t* geometry : Polygon, coordinates\n",
    "3. Foursquare Search API. We will use this dataset to provide us with with information of health related venues especially their location expressed in latitudes and longitudes. We will also use the categories as a filter. We will bash this data with the boundaries provided by the city geojson dataset above. The Foursquare Search API returns the following data:\n",
    "\t* id : A unique string identifier for this venue.\n",
    "\t* name : The best known name for this venue.\n",
    "\t* location : An object containing none, some, or all of address (street address), crossStreet, city, state, postalCode, country, lat, lng, and distance. All fields are strings, except for lat, lng, and distance. Distance is measured in meters. Some venues have their locations intentionally hidden for privacy reasons (such as private residences). If this is the case, the parameter isFuzzed will be set to true, and the lat/lng parameters will have reduced precision.\n",
    "\t* categories : An array, possibly empty, of categories that have been applied to this venue. One of the categories will have a primary field indicating that it is the primary category for the venue. For the complete category tree, see categories."
   ]
  },
  {
   "cell_type": "markdown",
   "metadata": {},
   "source": [
    "# Methodology\n",
    "section which represents the main component of the report where you discuss and describe any exploratory data analysis that you did, any inferential statistical testing that you performed, if any, and what machine learnings were used and why.\n",
    "\n",
    "We will use the CRISP-DM (Cross-Industry Process for Data Mining) methodology. The CRISP-DM methodology is well-proven methodology in data science. CRISP-DM loosely and iteratively follows six major phases:\n",
    "\n",
    "1. Business Understanding\n",
    "2. Data Understanding\n",
    "3. Data Preparation\n",
    "4. Modeling\n",
    "5. Evaluation\n",
    "6. Deployment\n",
    "\n",
    "As we have have covered #1 and #2 previously, we will continue with Data Preparation."
   ]
  },
  {
   "cell_type": "markdown",
   "metadata": {},
   "source": [
    "## Data Preparation"
   ]
  },
  {
   "cell_type": "markdown",
   "metadata": {},
   "source": [
    "We start by importing all necessary libraries and installing all dependencies for the project."
   ]
  },
  {
   "cell_type": "code",
   "execution_count": null,
   "metadata": {},
   "outputs": [],
   "source": [
    "import numpy as np\n",
    "import pandas as pd\n",
    "import json5 # library to handle JSON files\n",
    "import requests\n",
    "from pandas.io.json import json_normalize # tranform JSON file into a pandas dataframe\n",
    "import matplotlib.cm as cm\n",
    "import matplotlib.colors as colors\n",
    "import folium # map rendering library\n",
    "import seaborn as sns\n",
    "print('Libraries imported.')"
   ]
  },
  {
   "cell_type": "code",
   "execution_count": null,
   "metadata": {},
   "outputs": [],
   "source": [
    "#explore DOH data\n",
    "#cases_df = pd.read_csv('DOH COVID Data Drop_ 20200510 - 05 Case Information.csv',\n",
    "#                       parse_dates=[5,6,7,9])\n",
    "cases_df = pd.read_csv('https://storage.googleapis.com/doh_datadrops/DOH%20Data%20Drop%2020200518.csv',\n",
    "                      parse_dates=[5,6,7,9,17])"
   ]
  },
  {
   "cell_type": "code",
   "execution_count": null,
   "metadata": {},
   "outputs": [],
   "source": [
    "cases_df.dtypes"
   ]
  },
  {
   "cell_type": "code",
   "execution_count": null,
   "metadata": {},
   "outputs": [],
   "source": [
    "#cast data to appropriate types for easy handling\n",
    "for col in ['AgeGroup', 'Sex','RemovalType', 'Admitted', 'RegionRes','ProvRes','CityMunRes',\n",
    "            'CityMuniPSGC','HealthStatus','Quarantined','Pregnanttab']:\n",
    "    cases_df[col] = cases_df[col].astype('category')\n",
    "for col in ['DateRepConf', 'DateDied', 'DateRecover', 'DateRepRem','DateOnset']:\n",
    "    cases_df[col] = cases_df[col].astype('datetime64')\n",
    "cases_df.Age = cases_df.Age.astype('Int64')"
   ]
  },
  {
   "cell_type": "code",
   "execution_count": null,
   "metadata": {},
   "outputs": [],
   "source": [
    "cases_df.dtypes"
   ]
  },
  {
   "cell_type": "code",
   "execution_count": null,
   "metadata": {},
   "outputs": [],
   "source": [
    "cases_df.info() "
   ]
  },
  {
   "cell_type": "code",
   "execution_count": null,
   "metadata": {},
   "outputs": [],
   "source": [
    "cases_df.DateRepConf.max()"
   ]
  },
  {
   "cell_type": "code",
   "execution_count": null,
   "metadata": {},
   "outputs": [],
   "source": [
    "list_cities = cases_df.CityMunRes.unique()"
   ]
  },
  {
   "cell_type": "code",
   "execution_count": null,
   "metadata": {},
   "outputs": [],
   "source": [
    "list_cities"
   ]
  },
  {
   "cell_type": "code",
   "execution_count": null,
   "metadata": {},
   "outputs": [],
   "source": [
    "#create dataframe grouping cases dataset and looking at their growth rates in daily cases\n",
    "#cases_by_city = cases_df.groupby([\"CityMunRes\",\"DateRepConf\"])\n",
    "#cases_by_city.get_group('CITY OF PARAÑAQUE')\n",
    "#gb_cases_by_city = cases_df.groupby(['CityMunRes'],as_index =False)\n",
    "#gb_cases_by_citytrue = cases_df.groupby(['CityMunRes'])\n",
    "#cases_by_province = cases_df.groupby(['ProvRes'])['CaseCode'].count()\n",
    "#cases_by_region = cases_df.groupby(['RegionRes'])['CaseCode'].count()\n",
    "gb_cases_by_city_by_date = cases_df.groupby(['CityMunRes','DateRepConf'],as_index =False)\n",
    "gb_cases_by_city_by_date_true = cases_df.groupby(['CityMunRes','DateRepConf'])\n",
    "#cases_by_region.sort_values()"
   ]
  },
  {
   "cell_type": "code",
   "execution_count": null,
   "metadata": {},
   "outputs": [],
   "source": [
    "df_cases_by_city = gb_cases_by_city['CaseCode'].count()\n",
    "df_cases_by_city.head()"
   ]
  },
  {
   "cell_type": "code",
   "execution_count": null,
   "metadata": {},
   "outputs": [],
   "source": [
    "df_cases_by_citytrue = gb_cases_by_citytrue['CaseCode'].count()\n",
    "df_cases_by_citytrue.head()"
   ]
  },
  {
   "cell_type": "code",
   "execution_count": null,
   "metadata": {},
   "outputs": [],
   "source": [
    "df_cases_by_city_by_date = gb_cases_by_city_by_date['CaseCode'].count()\n",
    "df_cases_by_city_by_date.rename(columns={\"CityMunRes\": \"City\", \"DateRepConf\": \"Date\",\"CaseCode\":\"Casecount\"},\n",
    "                                inplace = True)\n",
    "#lst_by_city = df_cases_by_city_by_date.loc[('ABUCAY')]\n",
    "#print(type(df2))\n",
    "#print(df2.index)\n",
    "#df2.iloc[-7:1]\n",
    "#lst_by_city.plot()\n",
    "#df_cases_by_city_by_date.index"
   ]
  },
  {
   "cell_type": "code",
   "execution_count": null,
   "metadata": {},
   "outputs": [],
   "source": [
    "df_cases_by_city_by_date.info()"
   ]
  },
  {
   "cell_type": "code",
   "execution_count": null,
   "metadata": {},
   "outputs": [],
   "source": [
    "df_cases_by_city_by_date.head()"
   ]
  },
  {
   "cell_type": "code",
   "execution_count": null,
   "metadata": {},
   "outputs": [],
   "source": [
    "df_cases_by_city_by_date.loc['ABUCAY',:]"
   ]
  },
  {
   "cell_type": "code",
   "execution_count": null,
   "metadata": {},
   "outputs": [],
   "source": [
    "df_cases_by_city_by_date_true = gb_cases_by_city_by_date_true['CaseCode'].count()\n",
    "#df_cases_by_city_by_date_true.rename(columns={\"CityMunRes\": \"City\", \"DateRepConf\": \"Date\",\"CaseCode\":\"Casecount\"},\n",
    "                                #inplace = True)"
   ]
  },
  {
   "cell_type": "code",
   "execution_count": null,
   "metadata": {},
   "outputs": [],
   "source": [
    "df_cases_by_city_by_date_true.head()"
   ]
  },
  {
   "cell_type": "code",
   "execution_count": null,
   "metadata": {},
   "outputs": [],
   "source": [
    "df_cases_by_city_by_date_true.loc['ABUCAY','2020-05-01':'2020-05-10']"
   ]
  },
  {
   "cell_type": "code",
   "execution_count": null,
   "metadata": {},
   "outputs": [],
   "source": [
    "df_cases_by_city_by_date_true_cum = gb_cases_by_city_by_date_true['CaseCode'].count().cumsum().pct_change().tail(14).mean()"
   ]
  },
  {
   "cell_type": "code",
   "execution_count": null,
   "metadata": {},
   "outputs": [],
   "source": [
    "list_cases_by_city_by_date = cases_df.groupby(['CityMunRes','DateRepConf'])['CaseCode'].count().cumsum().pct_change()"
   ]
  },
  {
   "cell_type": "code",
   "execution_count": null,
   "metadata": {},
   "outputs": [],
   "source": [
    "list_cases_by_city_by_date"
   ]
  },
  {
   "cell_type": "code",
   "execution_count": null,
   "metadata": {},
   "outputs": [],
   "source": [
    "list_cases_by_city_by_date.loc['ABUCAY'].tail(14).mean()"
   ]
  },
  {
   "cell_type": "code",
   "execution_count": null,
   "metadata": {},
   "outputs": [],
   "source": [
    "a = list_cases_by_city_by_date.index.get_level_values('CityMunRes')"
   ]
  },
  {
   "cell_type": "code",
   "execution_count": null,
   "metadata": {},
   "outputs": [],
   "source": [
    "a"
   ]
  },
  {
   "cell_type": "code",
   "execution_count": null,
   "metadata": {},
   "outputs": [],
   "source": [
    "d = {city: list_cases_by_city_by_date.loc[city].tail(14).mean() \n",
    "     for city in list_cases_by_city_by_date.index.get_level_values('CityMunRes')}\n",
    "\n",
    "df_cities_growth = pd.DataFrame(data=d.values(), index=d.keys(), columns=['mean'])"
   ]
  },
  {
   "cell_type": "code",
   "execution_count": null,
   "metadata": {},
   "outputs": [],
   "source": [
    "df_cities_growth.describe()"
   ]
  },
  {
   "cell_type": "code",
   "execution_count": null,
   "metadata": {},
   "outputs": [],
   "source": [
    "df_cities_growth.loc[df_cities_growth['mean']>0.000009].plot.hist(bins=500)"
   ]
  },
  {
   "cell_type": "code",
   "execution_count": null,
   "metadata": {},
   "outputs": [],
   "source": [
    "df_cities_growth.head()"
   ]
  },
  {
   "cell_type": "code",
   "execution_count": null,
   "metadata": {},
   "outputs": [],
   "source": [
    "df_cases_by_city_by_date_true_cum"
   ]
  },
  {
   "cell_type": "code",
   "execution_count": null,
   "metadata": {},
   "outputs": [],
   "source": [
    "df_cases_by_city_by_date_true_cum.loc['ABUCAY'].tail(14).mean()"
   ]
  },
  {
   "cell_type": "code",
   "execution_count": null,
   "metadata": {},
   "outputs": [],
   "source": [
    "df_cases_by_city_by_date_pctchg = gb_cases_by_city_by_date['CaseCode'].pct_change()"
   ]
  },
  {
   "cell_type": "code",
   "execution_count": null,
   "metadata": {},
   "outputs": [],
   "source": [
    "print(df_cases_by_city_by_date_pctchg.tail())\n",
    "type(df_cases_by_city_by_date_pctchg)"
   ]
  },
  {
   "cell_type": "code",
   "execution_count": null,
   "metadata": {},
   "outputs": [],
   "source": [
    "gb_df_cases_by_city_by_date"
   ]
  },
  {
   "cell_type": "code",
   "execution_count": null,
   "metadata": {},
   "outputs": [],
   "source": [
    "#df_cases_by_city_by_date['ABUCAY':'ALFONSO',:]\n",
    "#df_cases_by_city_by_date[['ABUCAY', 'ALFONSO']]\n",
    "#df_cases_by_city_by_date[('ABUCAY':'ALFONSO',:)]\n",
    "df_cases_by_city_by_date.loc[(slice('ABUCAY', 'AGOO')), :]"
   ]
  },
  {
   "cell_type": "code",
   "execution_count": null,
   "metadata": {},
   "outputs": [],
   "source": [
    "df_cases_by_city_by_date_true = gb_cases_by_city_by_date_true['CaseCode'].count()"
   ]
  },
  {
   "cell_type": "code",
   "execution_count": null,
   "metadata": {},
   "outputs": [],
   "source": [
    "type(df_cases_by_city_by_date_true)"
   ]
  },
  {
   "cell_type": "code",
   "execution_count": null,
   "metadata": {},
   "outputs": [],
   "source": [
    "df_cases_by_city_by_date_true.head()"
   ]
  },
  {
   "cell_type": "code",
   "execution_count": null,
   "metadata": {},
   "outputs": [],
   "source": [
    "df2"
   ]
  },
  {
   "cell_type": "code",
   "execution_count": null,
   "metadata": {},
   "outputs": [],
   "source": [
    "x = df2.pct_change().tail(7)"
   ]
  },
  {
   "cell_type": "code",
   "execution_count": null,
   "metadata": {},
   "outputs": [],
   "source": [
    "x.shape"
   ]
  },
  {
   "cell_type": "code",
   "execution_count": null,
   "metadata": {},
   "outputs": [],
   "source": [
    "df3 = cases_by_city_by_date.size"
   ]
  },
  {
   "cell_type": "code",
   "execution_count": null,
   "metadata": {},
   "outputs": [],
   "source": [
    "df3"
   ]
  },
  {
   "cell_type": "code",
   "execution_count": null,
   "metadata": {},
   "outputs": [],
   "source": [
    "#%matplotlib inline\n",
    "cases_by_city['CaseCode'].count()"
   ]
  },
  {
   "cell_type": "markdown",
   "metadata": {},
   "source": [
    "# Results\n",
    "section where you discuss the results."
   ]
  },
  {
   "cell_type": "markdown",
   "metadata": {},
   "source": [
    "# Discussion\n",
    "section where you discuss any observations you noted and any recommendations you can make based on the results."
   ]
  },
  {
   "cell_type": "markdown",
   "metadata": {},
   "source": [
    "# Conclusion\n",
    "section where you conclude the report."
   ]
  },
  {
   "cell_type": "code",
   "execution_count": null,
   "metadata": {},
   "outputs": [],
   "source": []
  }
 ],
 "metadata": {
  "kernelspec": {
   "display_name": "Python 3",
   "language": "python",
   "name": "python3"
  },
  "language_info": {
   "codemirror_mode": {
    "name": "ipython",
    "version": 3
   },
   "file_extension": ".py",
   "mimetype": "text/x-python",
   "name": "python",
   "nbconvert_exporter": "python",
   "pygments_lexer": "ipython3",
   "version": "3.7.7"
  }
 },
 "nbformat": 4,
 "nbformat_minor": 4
}
