{
 "cells": [
  {
   "cell_type": "markdown",
   "metadata": {},
   "source": [
    "# Introduction/Business Problem\n",
    "The COVID-19 pandemic has taken an unprecedented toll globally, already affecting over 2M people, taking over 200K lives and, according to WEF, will likely cost the world 2 trillion USD in economic losses.\n",
    "\n",
    "Not all cities are affected by the virus the same way. We want to see how poverty incidence, a metric used to measured the level of poverty in a geographic area, is a predictor for severity of problem as measured by cases per capita."
   ]
  },
  {
   "cell_type": "markdown",
   "metadata": {},
   "source": [
    "# Data Section\n",
    "For this exercise, we will be using the following datasets:\n",
    "\n",
    "1. **Case Information dataset**\n",
    "    \n",
    "    **Source:** Philippine Department of Health. See https://www.doh.gov.ph/2019-nCoV\n",
    "    \n",
    "    **Description:** List of confirmed COVID-19 cases from the DOH Epidemiological Bureau.\n",
    "\n",
    "    **Dataset fields:**\n",
    "\t* CaseCode : Random code assigned for labelling cases\n",
    "\t* Age : Age\n",
    "\t* AgeGroup : Five-year age group\n",
    "\t* Sex : Sex\n",
    "\t* DateRepConf : Date publicly announced as confirmed case\n",
    "\t* DateRecover : Date recovered\n",
    "\t* DateDied : Date died\n",
    "\t* RemovalType : Type of removal (recovery or death)\n",
    "\t* DateRepRem : Date publicly announced as removed\n",
    "\t* Admitted : Binary variable indicating patient has been admitted to hospital\n",
    "\t* RegionRes : Region of residence\n",
    "\t* ProvCityRes : Province of residence\n",
    "\t* RegionPSGC : Philippine Standard Geographic Code of Region of Residence\n",
    "\t* ProvPSGC : Philippine Standard Geographic Code of Province of Residence\n",
    "\t* MunCityPSGC : Philippine Standard Geographic Code of Municipality or City of Residence\n",
    "\t* HealthStatus : Known current health status of patient (asymptomatic, mild, severe, critical, died, recovered)\n",
    "\t* Quarantined : Ever been home quarantined, not necessarily currently in home quarantine\n",
    "\n",
    "\n",
    "2. **Municipal and City Level Poverty Estimates**\n",
    "\n",
    "    **Source:** The Philippine Statistics Authority (PSA). See https://psa.gov.ph/content/psa-releases-2015-municipal-and-city-level-poverty-estimates\n",
    "\n",
    "    **Description:** This is a set of estimates using the small area estimation (SAE) technique. See https://psa.gov.ph/sites/default/files/Technical%20Notes%20on%202015%20SAE.pdf\n",
    "\n",
    "    **Dataset fields:**\n",
    "    * PSGC\n",
    "    * Region/Province\n",
    "    * Municipality/City\n",
    "    * Poverty Incidence\n",
    "\n",
    "\n",
    "2. **Philippine Standard Geographic Code (PSGC)**\n",
    "\n",
    "    **Source:** The Philippine Statistics Authority (PSA). See https://psa.gov.ph/content/psa-releases-2015-municipal-and-city-level-poverty-estimates\n",
    "\n",
    "    **Description:** The PSGC is a systematic classification and coding of geographic areas in the Philippines. It is based on the four (4) well-established hierarchical levels of geographical-political subdivisions of the country, namely, the administrative region, the province, the municipality/city, and the barangay.\n",
    "\n",
    "    **Dataset fields:**\n",
    "    \n",
    "    * Column \"Code\": PSGC Code\n",
    "    * Column \"Income Classification\"\n",
    "    * Column \"Class\" (Average Annual Income)\n",
    "        * Provinces:\n",
    "            * 1st\tP 450M or more\n",
    "            * 2nd\tP 360M or more but less than P 450M\n",
    "            * 3rd\tP 270M or more but less than P 360M\n",
    "            * 4th\tP 180M or more but less than P 270M\n",
    "            * 5th\tP 90M or more but less than P 180M\n",
    "            * 6th\tBelow P 90M\n",
    "        * Cities\n",
    "            * 1st\tP 400M or more\n",
    "            * 2nd\tP 320M or more but less than P 400M\n",
    "            * 3rd\tP 240M or more but less than P 320M\n",
    "            * 4th\tP 160M or more but less than P 240M\n",
    "            * 5th\tP 80M or more but less than P 160M\n",
    "            * 6th\tBelow P 80M\n",
    "        * Municipalities\n",
    "            * 1st\tP 55M or more\n",
    "            * 2nd\tP 45M or more but less than P 55M\n",
    "            * 3rd\tP 35M or more but less than P 45M\n",
    "            * 4th\tP 25M or more but less than P 35M\n",
    "            * 5th\tP 15M or more but less than P 25M\n",
    "            * 6th\tBelow P 15M\t\t\n",
    "    * Column \"Urban / Rural\"\n",
    "\t* Column \"Population\"\t\n",
    "    \n",
    "\n",
    "\n",
    "2. Geojson dataset of cities and municipalities in the Philippines. We will use this dataset to provide the mapping boundaries of the different cities and municipalities in the Philippines.\n",
    "\t* ID_0 : Unique ID 0\n",
    "\t* ISO : ISO Country Code\n",
    "\t* NAME_0 : Country Name\n",
    "\t* NAME_2 : Municipality or City Name\n",
    "\t* PROVINCE : Province Name\n",
    "\t* REGION : Regiona Name\n",
    "\t* geometry : Polygon, coordinates"
   ]
  },
  {
   "cell_type": "markdown",
   "metadata": {},
   "source": [
    "# Methodology\n",
    "section which represents the main component of the report where you discuss and describe any exploratory data analysis that you did, any inferential statistical testing that you performed, if any, and what machine learnings were used and why.\n",
    "\n",
    "We will use the CRISP-DM (Cross-Industry Process for Data Mining) methodology. The CRISP-DM methodology is well-proven methodology in data science. CRISP-DM loosely and iteratively follows six major phases:\n",
    "\n",
    "1. Business Understanding\n",
    "2. Data Understanding\n",
    "3. Data Preparation\n",
    "4. Modeling\n",
    "5. Evaluation\n",
    "6. Deployment\n",
    "\n",
    "As we have have covered #1 and #2 previously, we will continue with Data Preparation."
   ]
  },
  {
   "cell_type": "markdown",
   "metadata": {},
   "source": [
    "# Results"
   ]
  },
  {
   "cell_type": "markdown",
   "metadata": {},
   "source": [
    "# Discussion"
   ]
  },
  {
   "cell_type": "markdown",
   "metadata": {},
   "source": [
    "# Conclusion"
   ]
  },
  {
   "cell_type": "markdown",
   "metadata": {},
   "source": [
    "## Data Preparation"
   ]
  },
  {
   "cell_type": "markdown",
   "metadata": {},
   "source": [
    "### Loading Data"
   ]
  },
  {
   "cell_type": "markdown",
   "metadata": {},
   "source": [
    "1. We start by importing all necessary libraries and installing all dependencies for the project."
   ]
  },
  {
   "cell_type": "markdown",
   "metadata": {},
   "source": [
    "## plan\n",
    "\n",
    "- [Setup](#setup)\n",
    "    - import libraries\n",
    "- [Prepare data](#data_prep)\n",
    "    - DOH data\n",
    "        - explore\n",
    "        - clean\n",
    "        - select\n",
    "    - Poverty data\n",
    "        - explore\n",
    "        - clean\n",
    "        - select\n",
    "    - City index data\n",
    "        - explore\n",
    "        - clean\n",
    "        - select\n",
    "    - City Latlong\n",
    "        - load json\n",
    "        - explore\n",
    "        - clean\n",
    "        - select\n",
    "    - Merge data\n",
    "        - calculate case/pop as predicted variable\n",
    "        - calculate distance from manila as additional feature\n",
    "- Predict\n",
    "- Visualize"
   ]
  },
  {
   "cell_type": "markdown",
   "metadata": {},
   "source": [
    "<a name=\"setup\"></a>\n",
    "### Setup"
   ]
  },
  {
   "cell_type": "markdown",
   "metadata": {},
   "source": [
    "<a name=\"import_lib\"></a>\n",
    "#### Import libraries"
   ]
  },
  {
   "cell_type": "code",
   "execution_count": 1,
   "metadata": {},
   "outputs": [
    {
     "name": "stdout",
     "output_type": "stream",
     "text": [
      "Libraries imported.\n"
     ]
    }
   ],
   "source": [
    "import numpy as np\n",
    "import pandas as pd\n",
    "import json5 as json # library to handle JSON files\n",
    "import requests\n",
    "from pandas.io.json import json_normalize # tranform JSON file into a pandas dataframe\n",
    "import matplotlib.cm as cm\n",
    "import matplotlib.colors as colors\n",
    "import folium # map rendering library\n",
    "import seaborn as sns\n",
    "import xlrd\n",
    "import shapely\n",
    "import fiona\n",
    "import pyproj\n",
    "import geopandas as gpd\n",
    "\n",
    "#prep\n",
    "from sklearn.model_selection import train_test_split, GridSearchCV, RandomizedSearchCV\n",
    "from sklearn.preprocessing import LabelEncoder, StandardScaler, MaxAbsScaler, QuantileTransformer\n",
    "\n",
    "#models\n",
    "from sklearn.linear_model import LogisticRegression, LogisticRegressionCV, LinearRegression, Ridge, RidgeCV\n",
    "from sklearn.tree import DecisionTreeRegressor\n",
    "from sklearn.ensemble import RandomForestRegressor\n",
    "\n",
    "#validation libraries\n",
    "from sklearn.model_selection import KFold, StratifiedKFold\n",
    "from IPython.display import display\n",
    "from sklearn import metrics\n",
    "\n",
    "\n",
    "\n",
    "print('Libraries imported.')"
   ]
  },
  {
   "cell_type": "markdown",
   "metadata": {},
   "source": [
    "<a name='data_prep'></a>\n",
    "### Data Preparation"
   ]
  },
  {
   "cell_type": "markdown",
   "metadata": {},
   "source": [
    "#### DOH Data"
   ]
  },
  {
   "cell_type": "markdown",
   "metadata": {},
   "source": [
    "1. We define the columns and their proper data types."
   ]
  },
  {
   "cell_type": "code",
   "execution_count": 2,
   "metadata": {},
   "outputs": [],
   "source": [
    "#define column types\n",
    "col_types = {'Age' : 'float64', \n",
    "             'AgeGroup' : 'category', \n",
    "             'Sex' : 'category', \n",
    "             'RemovalType' : 'category', \n",
    "             'Admitted' : 'category', \n",
    "             'RegionRes' : 'category', \n",
    "             'ProvRes' : 'category', \n",
    "             'CityMunRes' : 'category', \n",
    "             'CityMuniPSGC' : 'category',\n",
    "             'BarangayRes' : 'category',\n",
    "             'BarangayPSGC' : 'category',\n",
    "             'HealthStatus' : 'category', \n",
    "             'Quarantined' : 'category', \n",
    "             'Pregnanttab' : 'category', \n",
    "             'ValidationStatus' : 'category'}\n",
    "col_date = [4, 5, 6, 7, 8, 19]"
   ]
  },
  {
   "cell_type": "markdown",
   "metadata": {},
   "source": [
    "3. We read the csv and load it into a data frame."
   ]
  },
  {
   "cell_type": "code",
   "execution_count": 3,
   "metadata": {},
   "outputs": [],
   "source": [
    "df_cases_raw = pd.read_csv(\"DOH COVID Data Drop_ 20201013 - 04 Case Information.csv\", dtype = col_types, parse_dates = col_date)"
   ]
  },
  {
   "cell_type": "markdown",
   "metadata": {},
   "source": [
    "##### Exploratory Data Analysis\n",
    "1. We do a quick check on the dataframe"
   ]
  },
  {
   "cell_type": "code",
   "execution_count": 4,
   "metadata": {},
   "outputs": [
    {
     "name": "stdout",
     "output_type": "stream",
     "text": [
      "<class 'pandas.core.frame.DataFrame'>\n",
      "RangeIndex: 344713 entries, 0 to 344712\n",
      "Data columns (total 22 columns):\n",
      " #   Column             Non-Null Count   Dtype         \n",
      "---  ------             --------------   -----         \n",
      " 0   CaseCode           344713 non-null  object        \n",
      " 1   Age                342504 non-null  float64       \n",
      " 2   AgeGroup           342504 non-null  category      \n",
      " 3   Sex                344713 non-null  category      \n",
      " 4   DateSpecimen       296568 non-null  datetime64[ns]\n",
      " 5   DateResultRelease  298652 non-null  datetime64[ns]\n",
      " 6   DateRepConf        344713 non-null  datetime64[ns]\n",
      " 7   DateDied           6334 non-null    datetime64[ns]\n",
      " 8   DateRecover        74015 non-null   datetime64[ns]\n",
      " 9   RemovalType        299755 non-null  category      \n",
      " 10  Admitted           344559 non-null  category      \n",
      " 11  RegionRes          340934 non-null  category      \n",
      " 12  ProvRes            319787 non-null  category      \n",
      " 13  CityMunRes         309212 non-null  category      \n",
      " 14  CityMuniPSGC       309212 non-null  category      \n",
      " 15  BarangayRes        116502 non-null  category      \n",
      " 16  BarangayPSGC       116502 non-null  category      \n",
      " 17  HealthStatus       344713 non-null  category      \n",
      " 18  Quarantined        344555 non-null  category      \n",
      " 19  DateOnset          107945 non-null  datetime64[ns]\n",
      " 20  Pregnanttab        154846 non-null  category      \n",
      " 21  ValidationStatus   229852 non-null  category      \n",
      "dtypes: category(14), datetime64[ns](6), float64(1), object(1)\n",
      "memory usage: 28.2+ MB\n"
     ]
    },
    {
     "data": {
      "text/html": [
       "<div>\n",
       "<style scoped>\n",
       "    .dataframe tbody tr th:only-of-type {\n",
       "        vertical-align: middle;\n",
       "    }\n",
       "\n",
       "    .dataframe tbody tr th {\n",
       "        vertical-align: top;\n",
       "    }\n",
       "\n",
       "    .dataframe thead th {\n",
       "        text-align: right;\n",
       "    }\n",
       "</style>\n",
       "<table border=\"1\" class=\"dataframe\">\n",
       "  <thead>\n",
       "    <tr style=\"text-align: right;\">\n",
       "      <th></th>\n",
       "      <th>CaseCode</th>\n",
       "      <th>Age</th>\n",
       "      <th>AgeGroup</th>\n",
       "      <th>Sex</th>\n",
       "      <th>DateSpecimen</th>\n",
       "      <th>DateResultRelease</th>\n",
       "      <th>DateRepConf</th>\n",
       "      <th>DateDied</th>\n",
       "      <th>DateRecover</th>\n",
       "      <th>RemovalType</th>\n",
       "      <th>...</th>\n",
       "      <th>ProvRes</th>\n",
       "      <th>CityMunRes</th>\n",
       "      <th>CityMuniPSGC</th>\n",
       "      <th>BarangayRes</th>\n",
       "      <th>BarangayPSGC</th>\n",
       "      <th>HealthStatus</th>\n",
       "      <th>Quarantined</th>\n",
       "      <th>DateOnset</th>\n",
       "      <th>Pregnanttab</th>\n",
       "      <th>ValidationStatus</th>\n",
       "    </tr>\n",
       "  </thead>\n",
       "  <tbody>\n",
       "    <tr>\n",
       "      <th>0</th>\n",
       "      <td>C900280</td>\n",
       "      <td>35.0</td>\n",
       "      <td>35 to 39</td>\n",
       "      <td>MALE</td>\n",
       "      <td>2020-07-03</td>\n",
       "      <td>2020-07-29</td>\n",
       "      <td>2020-08-05</td>\n",
       "      <td>NaT</td>\n",
       "      <td>NaT</td>\n",
       "      <td>RECOVERED</td>\n",
       "      <td>...</td>\n",
       "      <td>CAVITE</td>\n",
       "      <td>IMUS CITY</td>\n",
       "      <td>PH042109000</td>\n",
       "      <td>NaN</td>\n",
       "      <td>NaN</td>\n",
       "      <td>RECOVERED</td>\n",
       "      <td>NO</td>\n",
       "      <td>NaT</td>\n",
       "      <td>NaN</td>\n",
       "      <td>Removal Type is \"Recovered\", but no Recovered ...</td>\n",
       "    </tr>\n",
       "    <tr>\n",
       "      <th>1</th>\n",
       "      <td>C778257</td>\n",
       "      <td>32.0</td>\n",
       "      <td>30 to 34</td>\n",
       "      <td>FEMALE</td>\n",
       "      <td>2020-07-15</td>\n",
       "      <td>2020-07-17</td>\n",
       "      <td>2020-07-20</td>\n",
       "      <td>NaT</td>\n",
       "      <td>NaT</td>\n",
       "      <td>RECOVERED</td>\n",
       "      <td>...</td>\n",
       "      <td>COTABATO CITY (NOT A PROVINCE)</td>\n",
       "      <td>NaN</td>\n",
       "      <td>NaN</td>\n",
       "      <td>NaN</td>\n",
       "      <td>NaN</td>\n",
       "      <td>RECOVERED</td>\n",
       "      <td>NO</td>\n",
       "      <td>NaT</td>\n",
       "      <td>NO</td>\n",
       "      <td>Removal Type is \"Recovered\", but no Recovered ...</td>\n",
       "    </tr>\n",
       "    <tr>\n",
       "      <th>2</th>\n",
       "      <td>C778303</td>\n",
       "      <td>54.0</td>\n",
       "      <td>50 to 54</td>\n",
       "      <td>MALE</td>\n",
       "      <td>2020-07-24</td>\n",
       "      <td>2020-07-29</td>\n",
       "      <td>2020-08-02</td>\n",
       "      <td>NaT</td>\n",
       "      <td>NaT</td>\n",
       "      <td>RECOVERED</td>\n",
       "      <td>...</td>\n",
       "      <td>NCR</td>\n",
       "      <td>CITY OF MANILA</td>\n",
       "      <td>PH133901000</td>\n",
       "      <td>NaN</td>\n",
       "      <td>NaN</td>\n",
       "      <td>RECOVERED</td>\n",
       "      <td>NO</td>\n",
       "      <td>NaT</td>\n",
       "      <td>NaN</td>\n",
       "      <td>Health Status is \"Recovered\", but no Date Reco...</td>\n",
       "    </tr>\n",
       "    <tr>\n",
       "      <th>3</th>\n",
       "      <td>C928860</td>\n",
       "      <td>33.0</td>\n",
       "      <td>30 to 34</td>\n",
       "      <td>MALE</td>\n",
       "      <td>NaT</td>\n",
       "      <td>NaT</td>\n",
       "      <td>2020-06-01</td>\n",
       "      <td>NaT</td>\n",
       "      <td>NaT</td>\n",
       "      <td>RECOVERED</td>\n",
       "      <td>...</td>\n",
       "      <td>NaN</td>\n",
       "      <td>NaN</td>\n",
       "      <td>NaN</td>\n",
       "      <td>NaN</td>\n",
       "      <td>NaN</td>\n",
       "      <td>RECOVERED</td>\n",
       "      <td>YES</td>\n",
       "      <td>NaT</td>\n",
       "      <td>NaN</td>\n",
       "      <td>Health Status is \"Recovered\", but no Date Reco...</td>\n",
       "    </tr>\n",
       "    <tr>\n",
       "      <th>4</th>\n",
       "      <td>C620602</td>\n",
       "      <td>1.0</td>\n",
       "      <td>0 to 4</td>\n",
       "      <td>FEMALE</td>\n",
       "      <td>2020-07-13</td>\n",
       "      <td>2020-07-16</td>\n",
       "      <td>2020-07-30</td>\n",
       "      <td>NaT</td>\n",
       "      <td>2020-07-30</td>\n",
       "      <td>RECOVERED</td>\n",
       "      <td>...</td>\n",
       "      <td>NCR</td>\n",
       "      <td>NaN</td>\n",
       "      <td>NaN</td>\n",
       "      <td>NaN</td>\n",
       "      <td>NaN</td>\n",
       "      <td>RECOVERED</td>\n",
       "      <td>NO</td>\n",
       "      <td>NaT</td>\n",
       "      <td>NO</td>\n",
       "      <td>NaN</td>\n",
       "    </tr>\n",
       "  </tbody>\n",
       "</table>\n",
       "<p>5 rows × 22 columns</p>\n",
       "</div>"
      ],
      "text/plain": [
       "  CaseCode   Age  AgeGroup     Sex DateSpecimen DateResultRelease DateRepConf  \\\n",
       "0  C900280  35.0  35 to 39    MALE   2020-07-03        2020-07-29  2020-08-05   \n",
       "1  C778257  32.0  30 to 34  FEMALE   2020-07-15        2020-07-17  2020-07-20   \n",
       "2  C778303  54.0  50 to 54    MALE   2020-07-24        2020-07-29  2020-08-02   \n",
       "3  C928860  33.0  30 to 34    MALE          NaT               NaT  2020-06-01   \n",
       "4  C620602   1.0    0 to 4  FEMALE   2020-07-13        2020-07-16  2020-07-30   \n",
       "\n",
       "  DateDied DateRecover RemovalType  ...                         ProvRes  \\\n",
       "0      NaT         NaT   RECOVERED  ...                          CAVITE   \n",
       "1      NaT         NaT   RECOVERED  ...  COTABATO CITY (NOT A PROVINCE)   \n",
       "2      NaT         NaT   RECOVERED  ...                             NCR   \n",
       "3      NaT         NaT   RECOVERED  ...                             NaN   \n",
       "4      NaT  2020-07-30   RECOVERED  ...                             NCR   \n",
       "\n",
       "       CityMunRes CityMuniPSGC BarangayRes BarangayPSGC HealthStatus  \\\n",
       "0       IMUS CITY  PH042109000         NaN          NaN    RECOVERED   \n",
       "1             NaN          NaN         NaN          NaN    RECOVERED   \n",
       "2  CITY OF MANILA  PH133901000         NaN          NaN    RECOVERED   \n",
       "3             NaN          NaN         NaN          NaN    RECOVERED   \n",
       "4             NaN          NaN         NaN          NaN    RECOVERED   \n",
       "\n",
       "  Quarantined DateOnset Pregnanttab  \\\n",
       "0          NO       NaT         NaN   \n",
       "1          NO       NaT          NO   \n",
       "2          NO       NaT         NaN   \n",
       "3         YES       NaT         NaN   \n",
       "4          NO       NaT          NO   \n",
       "\n",
       "                                    ValidationStatus  \n",
       "0  Removal Type is \"Recovered\", but no Recovered ...  \n",
       "1  Removal Type is \"Recovered\", but no Recovered ...  \n",
       "2  Health Status is \"Recovered\", but no Date Reco...  \n",
       "3  Health Status is \"Recovered\", but no Date Reco...  \n",
       "4                                                NaN  \n",
       "\n",
       "[5 rows x 22 columns]"
      ]
     },
     "execution_count": 4,
     "metadata": {},
     "output_type": "execute_result"
    }
   ],
   "source": [
    "#check our dataframe\n",
    "df_cases_raw.info()\n",
    "df_cases_raw.head()\n"
   ]
  },
  {
   "cell_type": "code",
   "execution_count": 5,
   "metadata": {},
   "outputs": [
    {
     "data": {
      "text/plain": [
       "CaseCode             344713\n",
       "Age                     104\n",
       "AgeGroup                 17\n",
       "Sex                       2\n",
       "DateSpecimen            225\n",
       "DateResultRelease       224\n",
       "DateRepConf             225\n",
       "DateDied                217\n",
       "DateRecover             223\n",
       "RemovalType               2\n",
       "Admitted                  2\n",
       "RegionRes                18\n",
       "ProvRes                  84\n",
       "CityMunRes             1360\n",
       "CityMuniPSGC           1561\n",
       "BarangayRes            8784\n",
       "BarangayPSGC          12338\n",
       "HealthStatus              6\n",
       "Quarantined               2\n",
       "DateOnset               227\n",
       "Pregnanttab               2\n",
       "ValidationStatus        502\n",
       "dtype: int64"
      ]
     },
     "execution_count": 5,
     "metadata": {},
     "output_type": "execute_result"
    }
   ],
   "source": [
    "#determine unique values per column\n",
    "df_cases_raw.nunique(axis=0)"
   ]
  },
  {
   "cell_type": "markdown",
   "metadata": {},
   "source": [
    "2. Since our study wants to see if certain city statistic predicts cases, we will limit our variables to cases and cities, i.e CityMuniPSGC"
   ]
  },
  {
   "cell_type": "code",
   "execution_count": 6,
   "metadata": {},
   "outputs": [],
   "source": [
    "df_cases = df_cases_raw"
   ]
  },
  {
   "cell_type": "code",
   "execution_count": 7,
   "metadata": {},
   "outputs": [],
   "source": [
    "df_cases = df_cases[['CaseCode','DateRepConf','CityMuniPSGC','CityMunRes']]"
   ]
  },
  {
   "cell_type": "markdown",
   "metadata": {},
   "source": [
    "3. We drop the rows where we can't identify the cities"
   ]
  },
  {
   "cell_type": "code",
   "execution_count": 8,
   "metadata": {},
   "outputs": [],
   "source": [
    "#drop Nan cities\n",
    "df_cases = df_cases.loc[-df_cases.CityMuniPSGC.isna(),:]"
   ]
  },
  {
   "cell_type": "markdown",
   "metadata": {},
   "source": [
    "4. For consistency, we rename CityMuniPSGC column to PSGC, which stands for Philippine Standard Geographic Code."
   ]
  },
  {
   "cell_type": "code",
   "execution_count": 9,
   "metadata": {},
   "outputs": [],
   "source": [
    "df_cases = df_cases.rename(columns={\"CityMuniPSGC\": \"PSGC\"})"
   ]
  },
  {
   "cell_type": "markdown",
   "metadata": {},
   "source": [
    "5. Then we group the dataframe into cities are represented by PSGC and count the cases."
   ]
  },
  {
   "cell_type": "code",
   "execution_count": 10,
   "metadata": {},
   "outputs": [],
   "source": [
    "df_cases_by_city = df_cases.groupby(['PSGC','CityMunRes'])['CaseCode'].count().reset_index()"
   ]
  },
  {
   "cell_type": "markdown",
   "metadata": {},
   "source": [
    "6. Then we transform PSGC to standard nine-digit code for consistency"
   ]
  },
  {
   "cell_type": "code",
   "execution_count": 11,
   "metadata": {},
   "outputs": [
    {
     "name": "stdout",
     "output_type": "stream",
     "text": [
      "<class 'pandas.core.frame.DataFrame'>\n",
      "Index: 2122960 entries, 012802000 to 175917000\n",
      "Data columns (total 2 columns):\n",
      " #   Column  Dtype   \n",
      "---  ------  -----   \n",
      " 0   Name    category\n",
      " 1   Cases   int64   \n",
      "dtypes: category(1), int64(1)\n",
      "memory usage: 36.5+ MB\n"
     ]
    }
   ],
   "source": [
    "df_cases_by_city.PSGC = df_cases_by_city.PSGC.str.replace('PH','')\n",
    "df_cases_by_city.rename(columns={\"CaseCode\": \"Cases\"}, inplace = True)\n",
    "df_cases_by_city.rename(columns={\"CityMunRes\": \"Name\"}, inplace = True)\n",
    "df_cases_by_city.sort_values('PSGC', inplace = True)\n",
    "df_cases_by_city.set_index('PSGC', inplace = True)\n",
    "#check\n",
    "df_cases_by_city.info()"
   ]
  },
  {
   "cell_type": "code",
   "execution_count": 12,
   "metadata": {},
   "outputs": [],
   "source": [
    "df_cases_by_city = df_cases_by_city.loc[df_cases_by_city.Cases > 0,:].copy()"
   ]
  },
  {
   "cell_type": "code",
   "execution_count": 13,
   "metadata": {},
   "outputs": [
    {
     "data": {
      "text/html": [
       "<div>\n",
       "<style scoped>\n",
       "    .dataframe tbody tr th:only-of-type {\n",
       "        vertical-align: middle;\n",
       "    }\n",
       "\n",
       "    .dataframe tbody tr th {\n",
       "        vertical-align: top;\n",
       "    }\n",
       "\n",
       "    .dataframe thead th {\n",
       "        text-align: right;\n",
       "    }\n",
       "</style>\n",
       "<table border=\"1\" class=\"dataframe\">\n",
       "  <thead>\n",
       "    <tr style=\"text-align: right;\">\n",
       "      <th></th>\n",
       "      <th>Name</th>\n",
       "      <th>Cases</th>\n",
       "    </tr>\n",
       "    <tr>\n",
       "      <th>PSGC</th>\n",
       "      <th></th>\n",
       "      <th></th>\n",
       "    </tr>\n",
       "  </thead>\n",
       "  <tbody>\n",
       "    <tr>\n",
       "      <th>012802000</th>\n",
       "      <td>BACARRA</td>\n",
       "      <td>4</td>\n",
       "    </tr>\n",
       "    <tr>\n",
       "      <th>012803000</th>\n",
       "      <td>BADOC</td>\n",
       "      <td>8</td>\n",
       "    </tr>\n",
       "    <tr>\n",
       "      <th>012804000</th>\n",
       "      <td>BANGUI</td>\n",
       "      <td>7</td>\n",
       "    </tr>\n",
       "    <tr>\n",
       "      <th>012805000</th>\n",
       "      <td>CITY OF BATAC</td>\n",
       "      <td>16</td>\n",
       "    </tr>\n",
       "    <tr>\n",
       "      <th>012806000</th>\n",
       "      <td>BURGOS</td>\n",
       "      <td>4</td>\n",
       "    </tr>\n",
       "  </tbody>\n",
       "</table>\n",
       "</div>"
      ],
      "text/plain": [
       "                    Name  Cases\n",
       "PSGC                           \n",
       "012802000        BACARRA      4\n",
       "012803000          BADOC      8\n",
       "012804000         BANGUI      7\n",
       "012805000  CITY OF BATAC     16\n",
       "012806000         BURGOS      4"
      ]
     },
     "execution_count": 13,
     "metadata": {},
     "output_type": "execute_result"
    }
   ],
   "source": [
    "df_cases_by_city.head()"
   ]
  },
  {
   "cell_type": "markdown",
   "metadata": {},
   "source": [
    "### Poverty data"
   ]
  },
  {
   "cell_type": "code",
   "execution_count": 14,
   "metadata": {},
   "outputs": [],
   "source": [
    "#read city stats\n",
    "df_poverty = pd.read_csv('City and Municipal-level Small Area Poverty Estimates_ 2009, 2012 and 2015_0.csv',\n",
    "                  skiprows = [0,1,2,3,4],\n",
    "                  encoding = \"ISO-8859-1\",\n",
    "                  names = ['PSGC_ID','Poverty Incidence'],\n",
    "                  usecols = [0,5],\n",
    "                  dtype = {'PSGC_ID':'object','Poverty Incidence':np.float16})"
   ]
  },
  {
   "cell_type": "code",
   "execution_count": 15,
   "metadata": {},
   "outputs": [],
   "source": [
    "#drop NaN indexes\n",
    "df_poverty = df_poverty.loc[df_poverty.index.dropna()]"
   ]
  },
  {
   "cell_type": "code",
   "execution_count": 16,
   "metadata": {},
   "outputs": [],
   "source": [
    "#drop other invalid rows\n",
    "df_poverty = df_poverty.loc[-df_poverty.PSGC_ID.isna()]"
   ]
  },
  {
   "cell_type": "code",
   "execution_count": 17,
   "metadata": {},
   "outputs": [
    {
     "name": "stdout",
     "output_type": "stream",
     "text": [
      "<class 'pandas.core.frame.DataFrame'>\n",
      "Index: 1644 entries, 012801000 to 175917000\n",
      "Data columns (total 1 columns):\n",
      " #   Column             Non-Null Count  Dtype  \n",
      "---  ------             --------------  -----  \n",
      " 0   Poverty Incidence  1644 non-null   float16\n",
      "dtypes: float16(1)\n",
      "memory usage: 16.1+ KB\n"
     ]
    }
   ],
   "source": [
    "df_poverty['PSGC'] = df_poverty.PSGC_ID.str.zfill(6)\n",
    "df_poverty['PSGC'] = df_poverty.PSGC.str.ljust(9, '0')\n",
    "df_poverty.sort_values('PSGC', inplace = True)\n",
    "df_poverty.drop('PSGC_ID', axis =1, inplace = True)\n",
    "df_poverty.set_index('PSGC', inplace = True)\n",
    "df_poverty.sort_index(inplace = True)\n",
    "#check\n",
    "df_poverty.info()"
   ]
  },
  {
   "cell_type": "markdown",
   "metadata": {},
   "source": [
    "### City index data"
   ]
  },
  {
   "cell_type": "code",
   "execution_count": 18,
   "metadata": {},
   "outputs": [],
   "source": [
    "#load city data\n",
    "df_cityindex = pd.read_excel('PSGC 2Q 2020 Publication.xlsx',\n",
    "                    sheet_name = 'PSGC',\n",
    "                    usecols = [i for i in range(7)],\n",
    "                    names = ['PSGC',\n",
    "                             'Name',\n",
    "                             'Geographic Level',\n",
    "                             'City Class',\n",
    "                             'Income Classification',\n",
    "                             'Urban Rural',\n",
    "                             'Population'])"
   ]
  },
  {
   "cell_type": "code",
   "execution_count": 19,
   "metadata": {},
   "outputs": [],
   "source": [
    "#filter to only include cities, municipalities and sub municipalities\n",
    "df_cityindex = df_cityindex[df_cityindex['Geographic Level'].isin(['City','Mun','SubMun'])]"
   ]
  },
  {
   "cell_type": "code",
   "execution_count": 20,
   "metadata": {},
   "outputs": [],
   "source": [
    "#replace NaNs with UNK\n",
    "df_cityindex = df_cityindex.fillna('UNK')"
   ]
  },
  {
   "cell_type": "code",
   "execution_count": 21,
   "metadata": {},
   "outputs": [
    {
     "name": "stdout",
     "output_type": "stream",
     "text": [
      "<class 'pandas.core.frame.DataFrame'>\n",
      "Int64Index: 1648 entries, 2 to 43788\n",
      "Data columns (total 7 columns):\n",
      " #   Column                 Non-Null Count  Dtype \n",
      "---  ------                 --------------  ----- \n",
      " 0   PSGC                   1648 non-null   int64 \n",
      " 1   Name                   1648 non-null   object\n",
      " 2   Geographic Level       1648 non-null   object\n",
      " 3   City Class             1648 non-null   object\n",
      " 4   Income Classification  1648 non-null   object\n",
      " 5   Urban Rural            1648 non-null   object\n",
      " 6   Population             1648 non-null   int64 \n",
      "dtypes: int64(2), object(5)\n",
      "memory usage: 103.0+ KB\n"
     ]
    }
   ],
   "source": [
    "df_cityindex.info()"
   ]
  },
  {
   "cell_type": "code",
   "execution_count": 22,
   "metadata": {},
   "outputs": [
    {
     "data": {
      "text/plain": [
       "PSGC                     1648\n",
       "Name                     1445\n",
       "Geographic Level            3\n",
       "City Class                  4\n",
       "Income Classification      17\n",
       "Urban Rural                 1\n",
       "Population               1636\n",
       "dtype: int64"
      ]
     },
     "execution_count": 22,
     "metadata": {},
     "output_type": "execute_result"
    }
   ],
   "source": [
    "df_cityindex.nunique()"
   ]
  },
  {
   "cell_type": "code",
   "execution_count": 23,
   "metadata": {},
   "outputs": [],
   "source": [
    "df_cityindex['Geographic Level'].unique()\n",
    "\n",
    "df_cityindex['City Class'].unique()\n",
    "\n",
    "df_cityindex['Income Classification'].unique()\n",
    "\n",
    "df_cityindex['Urban Rural'].unique()\n",
    "\n",
    "df_cityindex['Income Classification'] = df_cityindex['Income Classification'].str.replace(r'\\*.*','')\n",
    "\n",
    "df_cityindex['Income Classification'] = df_cityindex['Income Classification'].str.replace(r' .*','')\n",
    "\n",
    "df_cityindex['Income Classification'] = df_cityindex['Income Classification'].str.replace('-','UNK')\n",
    "\n",
    "df_cityindex.drop('Urban Rural', axis =1, inplace = True)\n",
    "\n",
    "df_cityindex.PSGC = df_cityindex.PSGC.astype('str')\n",
    "\n",
    "df_cityindex.PSGC = df_cityindex.PSGC.str.zfill(9)\n",
    "\n",
    "df_cityindex = df_cityindex.astype(dtype = {'PSGC':'category', 'Name':'category',\n",
    "                    'Geographic Level':'category',\n",
    "                    'City Class':'category',\n",
    "                    'Income Classification':'category'})\n",
    "\n",
    "df_cityindex.sort_values('PSGC', inplace = True)\n",
    "\n",
    "df_cityindex.set_index('PSGC', inplace = True)\n",
    "\n",
    "df_cityindex.sort_index(inplace = True)"
   ]
  },
  {
   "cell_type": "code",
   "execution_count": 24,
   "metadata": {},
   "outputs": [
    {
     "name": "stdout",
     "output_type": "stream",
     "text": [
      "<class 'pandas.core.frame.DataFrame'>\n",
      "CategoricalIndex: 1648 entries, 012801000 to 175917000\n",
      "Data columns (total 5 columns):\n",
      " #   Column                 Non-Null Count  Dtype   \n",
      "---  ------                 --------------  -----   \n",
      " 0   Name                   1648 non-null   category\n",
      " 1   Geographic Level       1648 non-null   category\n",
      " 2   City Class             1648 non-null   category\n",
      " 3   Income Classification  1648 non-null   category\n",
      " 4   Population             1648 non-null   int64   \n",
      "dtypes: category(4), int64(1)\n",
      "memory usage: 169.0 KB\n"
     ]
    }
   ],
   "source": [
    "df_cityindex.info()"
   ]
  },
  {
   "cell_type": "code",
   "execution_count": 25,
   "metadata": {
    "scrolled": true
   },
   "outputs": [
    {
     "data": {
      "text/html": [
       "<div>\n",
       "<style scoped>\n",
       "    .dataframe tbody tr th:only-of-type {\n",
       "        vertical-align: middle;\n",
       "    }\n",
       "\n",
       "    .dataframe tbody tr th {\n",
       "        vertical-align: top;\n",
       "    }\n",
       "\n",
       "    .dataframe thead th {\n",
       "        text-align: right;\n",
       "    }\n",
       "</style>\n",
       "<table border=\"1\" class=\"dataframe\">\n",
       "  <thead>\n",
       "    <tr style=\"text-align: right;\">\n",
       "      <th></th>\n",
       "      <th>Name</th>\n",
       "      <th>Geographic Level</th>\n",
       "      <th>City Class</th>\n",
       "      <th>Income Classification</th>\n",
       "      <th>Population</th>\n",
       "    </tr>\n",
       "    <tr>\n",
       "      <th>PSGC</th>\n",
       "      <th></th>\n",
       "      <th></th>\n",
       "      <th></th>\n",
       "      <th></th>\n",
       "      <th></th>\n",
       "    </tr>\n",
       "  </thead>\n",
       "  <tbody>\n",
       "    <tr>\n",
       "      <th>012801000</th>\n",
       "      <td>ADAMS</td>\n",
       "      <td>Mun</td>\n",
       "      <td>UNK</td>\n",
       "      <td>5th</td>\n",
       "      <td>1792</td>\n",
       "    </tr>\n",
       "    <tr>\n",
       "      <th>012802000</th>\n",
       "      <td>BACARRA</td>\n",
       "      <td>Mun</td>\n",
       "      <td>UNK</td>\n",
       "      <td>3rd</td>\n",
       "      <td>32215</td>\n",
       "    </tr>\n",
       "    <tr>\n",
       "      <th>012803000</th>\n",
       "      <td>BADOC</td>\n",
       "      <td>Mun</td>\n",
       "      <td>UNK</td>\n",
       "      <td>3rd</td>\n",
       "      <td>31616</td>\n",
       "    </tr>\n",
       "    <tr>\n",
       "      <th>012804000</th>\n",
       "      <td>BANGUI</td>\n",
       "      <td>Mun</td>\n",
       "      <td>UNK</td>\n",
       "      <td>4th</td>\n",
       "      <td>14672</td>\n",
       "    </tr>\n",
       "    <tr>\n",
       "      <th>012805000</th>\n",
       "      <td>CITY OF BATAC</td>\n",
       "      <td>City</td>\n",
       "      <td>CC</td>\n",
       "      <td>5th</td>\n",
       "      <td>55201</td>\n",
       "    </tr>\n",
       "  </tbody>\n",
       "</table>\n",
       "</div>"
      ],
      "text/plain": [
       "                    Name Geographic Level City Class Income Classification  \\\n",
       "PSGC                                                                         \n",
       "012801000          ADAMS              Mun        UNK                   5th   \n",
       "012802000        BACARRA              Mun        UNK                   3rd   \n",
       "012803000          BADOC              Mun        UNK                   3rd   \n",
       "012804000         BANGUI              Mun        UNK                   4th   \n",
       "012805000  CITY OF BATAC             City         CC                   5th   \n",
       "\n",
       "           Population  \n",
       "PSGC                   \n",
       "012801000        1792  \n",
       "012802000       32215  \n",
       "012803000       31616  \n",
       "012804000       14672  \n",
       "012805000       55201  "
      ]
     },
     "execution_count": 25,
     "metadata": {},
     "output_type": "execute_result"
    }
   ],
   "source": [
    "df_cityindex.head()"
   ]
  },
  {
   "cell_type": "markdown",
   "metadata": {},
   "source": [
    "### Cities Geodata"
   ]
  },
  {
   "cell_type": "code",
   "execution_count": 26,
   "metadata": {},
   "outputs": [
    {
     "data": {
      "text/html": [
       "<div>\n",
       "<style scoped>\n",
       "    .dataframe tbody tr th:only-of-type {\n",
       "        vertical-align: middle;\n",
       "    }\n",
       "\n",
       "    .dataframe tbody tr th {\n",
       "        vertical-align: top;\n",
       "    }\n",
       "\n",
       "    .dataframe thead th {\n",
       "        text-align: right;\n",
       "    }\n",
       "</style>\n",
       "<table border=\"1\" class=\"dataframe\">\n",
       "  <thead>\n",
       "    <tr style=\"text-align: right;\">\n",
       "      <th></th>\n",
       "      <th>ID_0</th>\n",
       "      <th>ISO</th>\n",
       "      <th>NAME_0</th>\n",
       "      <th>ID_1</th>\n",
       "      <th>NAME_1</th>\n",
       "      <th>ID_2</th>\n",
       "      <th>NAME_2</th>\n",
       "      <th>NL_NAME_2</th>\n",
       "      <th>VARNAME_2</th>\n",
       "      <th>TYPE_2</th>\n",
       "      <th>ENGTYPE_2</th>\n",
       "      <th>PROVINCE</th>\n",
       "      <th>REGION</th>\n",
       "      <th>geometry</th>\n",
       "    </tr>\n",
       "  </thead>\n",
       "  <tbody>\n",
       "    <tr>\n",
       "      <th>0</th>\n",
       "      <td>177</td>\n",
       "      <td>PHL</td>\n",
       "      <td>Philippines</td>\n",
       "      <td>1</td>\n",
       "      <td>Abra</td>\n",
       "      <td>20</td>\n",
       "      <td>Sallapadan</td>\n",
       "      <td></td>\n",
       "      <td></td>\n",
       "      <td>Bayan|Munisipyo</td>\n",
       "      <td>Municipality</td>\n",
       "      <td>Abra</td>\n",
       "      <td>Cordillera Administrative Region (CAR)</td>\n",
       "      <td>POLYGON ((120.78956 17.41699, 120.76131 17.416...</td>\n",
       "    </tr>\n",
       "    <tr>\n",
       "      <th>1</th>\n",
       "      <td>177</td>\n",
       "      <td>PHL</td>\n",
       "      <td>Philippines</td>\n",
       "      <td>1</td>\n",
       "      <td>Abra</td>\n",
       "      <td>21</td>\n",
       "      <td>San Isidro</td>\n",
       "      <td></td>\n",
       "      <td></td>\n",
       "      <td>Bayan|Munisipyo</td>\n",
       "      <td>Municipality</td>\n",
       "      <td>Abra</td>\n",
       "      <td>Cordillera Administrative Region (CAR)</td>\n",
       "      <td>POLYGON ((120.63078 17.43194, 120.57896 17.441...</td>\n",
       "    </tr>\n",
       "    <tr>\n",
       "      <th>2</th>\n",
       "      <td>177</td>\n",
       "      <td>PHL</td>\n",
       "      <td>Philippines</td>\n",
       "      <td>1</td>\n",
       "      <td>Abra</td>\n",
       "      <td>22</td>\n",
       "      <td>San Juan</td>\n",
       "      <td></td>\n",
       "      <td></td>\n",
       "      <td>Bayan|Munisipyo</td>\n",
       "      <td>Municipality</td>\n",
       "      <td>Abra</td>\n",
       "      <td>Cordillera Administrative Region (CAR)</td>\n",
       "      <td>POLYGON ((120.78275 17.71497, 120.77975 17.665...</td>\n",
       "    </tr>\n",
       "    <tr>\n",
       "      <th>3</th>\n",
       "      <td>177</td>\n",
       "      <td>PHL</td>\n",
       "      <td>Philippines</td>\n",
       "      <td>1</td>\n",
       "      <td>Abra</td>\n",
       "      <td>23</td>\n",
       "      <td>San Quintin</td>\n",
       "      <td></td>\n",
       "      <td></td>\n",
       "      <td>Bayan|Munisipyo</td>\n",
       "      <td>Municipality</td>\n",
       "      <td>Abra</td>\n",
       "      <td>Cordillera Administrative Region (CAR)</td>\n",
       "      <td>POLYGON ((120.58414 17.48283, 120.58454 17.476...</td>\n",
       "    </tr>\n",
       "    <tr>\n",
       "      <th>4</th>\n",
       "      <td>177</td>\n",
       "      <td>PHL</td>\n",
       "      <td>Philippines</td>\n",
       "      <td>1</td>\n",
       "      <td>Abra</td>\n",
       "      <td>24</td>\n",
       "      <td>Tayum</td>\n",
       "      <td></td>\n",
       "      <td></td>\n",
       "      <td>Bayan|Munisipyo</td>\n",
       "      <td>Municipality</td>\n",
       "      <td>Abra</td>\n",
       "      <td>Cordillera Administrative Region (CAR)</td>\n",
       "      <td>POLYGON ((120.71574 17.62419, 120.72351 17.623...</td>\n",
       "    </tr>\n",
       "  </tbody>\n",
       "</table>\n",
       "</div>"
      ],
      "text/plain": [
       "   ID_0  ISO       NAME_0  ID_1 NAME_1  ID_2       NAME_2 NL_NAME_2 VARNAME_2  \\\n",
       "0   177  PHL  Philippines     1   Abra    20   Sallapadan                       \n",
       "1   177  PHL  Philippines     1   Abra    21   San Isidro                       \n",
       "2   177  PHL  Philippines     1   Abra    22     San Juan                       \n",
       "3   177  PHL  Philippines     1   Abra    23  San Quintin                       \n",
       "4   177  PHL  Philippines     1   Abra    24        Tayum                       \n",
       "\n",
       "            TYPE_2     ENGTYPE_2 PROVINCE  \\\n",
       "0  Bayan|Munisipyo  Municipality     Abra   \n",
       "1  Bayan|Munisipyo  Municipality     Abra   \n",
       "2  Bayan|Munisipyo  Municipality     Abra   \n",
       "3  Bayan|Munisipyo  Municipality     Abra   \n",
       "4  Bayan|Munisipyo  Municipality     Abra   \n",
       "\n",
       "                                   REGION  \\\n",
       "0  Cordillera Administrative Region (CAR)   \n",
       "1  Cordillera Administrative Region (CAR)   \n",
       "2  Cordillera Administrative Region (CAR)   \n",
       "3  Cordillera Administrative Region (CAR)   \n",
       "4  Cordillera Administrative Region (CAR)   \n",
       "\n",
       "                                            geometry  \n",
       "0  POLYGON ((120.78956 17.41699, 120.76131 17.416...  \n",
       "1  POLYGON ((120.63078 17.43194, 120.57896 17.441...  \n",
       "2  POLYGON ((120.78275 17.71497, 120.77975 17.665...  \n",
       "3  POLYGON ((120.58414 17.48283, 120.58454 17.476...  \n",
       "4  POLYGON ((120.71574 17.62419, 120.72351 17.623...  "
      ]
     },
     "execution_count": 26,
     "metadata": {},
     "output_type": "execute_result"
    }
   ],
   "source": [
    "#geojson_path = 'https://github.com/faeldon/philippines-json-maps/tree/master/geojson/municties/medres'\n",
    "#geojson_path = 'https://github.com/justinelliotmeyers/official_philippines_shapefile_data_2016'\n",
    "#geojson_path = 'https://raw.githubusercontent.com/macoymejia/geojsonph/master/MuniCities/MuniCities.json'\n",
    "geojson_path = 'https://raw.githubusercontent.com/macoymejia/geojsonph/master/MuniCities/MuniCities.minimal.json'\n",
    "#geojson_path = '/Users/gio/Google Drive/Education/IBM Data Science Professional Certificate/Capstone/Coursera_Capstone/municities.json'\n",
    "df1 = gpd.read_file(geojson_path)\n",
    "df1.head()"
   ]
  },
  {
   "cell_type": "code",
   "execution_count": 27,
   "metadata": {},
   "outputs": [],
   "source": [
    "df1['Centroid'] = df1.geometry.centroid"
   ]
  },
  {
   "cell_type": "code",
   "execution_count": 28,
   "metadata": {},
   "outputs": [
    {
     "data": {
      "text/plain": [
       "0    POINT (120.79004 17.48027)\n",
       "1    POINT (120.61827 17.47013)\n",
       "2    POINT (120.75506 17.70716)\n",
       "3    POINT (120.51443 17.51870)\n",
       "4    POINT (120.67967 17.60724)\n",
       "Name: Centroid, dtype: geometry"
      ]
     },
     "execution_count": 28,
     "metadata": {},
     "output_type": "execute_result"
    }
   ],
   "source": [
    "df1.Centroid.head()"
   ]
  },
  {
   "cell_type": "code",
   "execution_count": 30,
   "metadata": {},
   "outputs": [
    {
     "data": {
      "text/plain": [
       "0    POINT (120.97480 14.58226)\n",
       "Name: geometry, dtype: geometry"
      ]
     },
     "execution_count": 30,
     "metadata": {},
     "output_type": "execute_result"
    }
   ],
   "source": [
    "manila_loc = gpd.tools.geocode('Manila')\n",
    "manila_loc.geometry"
   ]
  },
  {
   "cell_type": "code",
   "execution_count": 31,
   "metadata": {},
   "outputs": [
    {
     "data": {
      "text/plain": [
       "shapely.geometry.point.Point"
      ]
     },
     "execution_count": 31,
     "metadata": {},
     "output_type": "execute_result"
    }
   ],
   "source": [
    "type(manila_loc.iloc[0,0])"
   ]
  },
  {
   "cell_type": "code",
   "execution_count": 32,
   "metadata": {},
   "outputs": [],
   "source": [
    "df1['cent_gs'] = gpd.GeoSeries(df1.Centroid)"
   ]
  },
  {
   "cell_type": "code",
   "execution_count": 33,
   "metadata": {},
   "outputs": [],
   "source": [
    "df1 = df1.assign(Manila = manila_loc.iloc[0,0])"
   ]
  },
  {
   "cell_type": "code",
   "execution_count": 34,
   "metadata": {},
   "outputs": [],
   "source": [
    "df1['dist_mnl'] = gpd.GeoSeries(df1.Centroid).distance(manila_loc.iloc[0,0])"
   ]
  },
  {
   "cell_type": "code",
   "execution_count": 35,
   "metadata": {},
   "outputs": [
    {
     "data": {
      "text/html": [
       "<div>\n",
       "<style scoped>\n",
       "    .dataframe tbody tr th:only-of-type {\n",
       "        vertical-align: middle;\n",
       "    }\n",
       "\n",
       "    .dataframe tbody tr th {\n",
       "        vertical-align: top;\n",
       "    }\n",
       "\n",
       "    .dataframe thead th {\n",
       "        text-align: right;\n",
       "    }\n",
       "</style>\n",
       "<table border=\"1\" class=\"dataframe\">\n",
       "  <thead>\n",
       "    <tr style=\"text-align: right;\">\n",
       "      <th></th>\n",
       "      <th>ID_0</th>\n",
       "      <th>ISO</th>\n",
       "      <th>NAME_0</th>\n",
       "      <th>ID_1</th>\n",
       "      <th>NAME_1</th>\n",
       "      <th>ID_2</th>\n",
       "      <th>NAME_2</th>\n",
       "      <th>NL_NAME_2</th>\n",
       "      <th>VARNAME_2</th>\n",
       "      <th>TYPE_2</th>\n",
       "      <th>ENGTYPE_2</th>\n",
       "      <th>PROVINCE</th>\n",
       "      <th>REGION</th>\n",
       "      <th>geometry</th>\n",
       "      <th>Centroid</th>\n",
       "      <th>cent_gs</th>\n",
       "      <th>Manila</th>\n",
       "      <th>dist_mnl</th>\n",
       "    </tr>\n",
       "  </thead>\n",
       "  <tbody>\n",
       "    <tr>\n",
       "      <th>995</th>\n",
       "      <td>177</td>\n",
       "      <td>PHL</td>\n",
       "      <td>Philippines</td>\n",
       "      <td>47</td>\n",
       "      <td>Metropolitan Manila</td>\n",
       "      <td>955</td>\n",
       "      <td>Manila</td>\n",
       "      <td></td>\n",
       "      <td>City of Manila|Manila, City of</td>\n",
       "      <td>Lungsod|Siyudad</td>\n",
       "      <td>City</td>\n",
       "      <td>Metropolitan Manila</td>\n",
       "      <td>Metropolitan Manila</td>\n",
       "      <td>POLYGON ((120.98952 14.63567, 120.98637 14.625...</td>\n",
       "      <td>POINT (120.98570 14.59947)</td>\n",
       "      <td>POINT (120.98570 14.59947)</td>\n",
       "      <td>POINT (120.974800109198 14.5822591781238)</td>\n",
       "      <td>0.020368</td>\n",
       "    </tr>\n",
       "    <tr>\n",
       "      <th>1000</th>\n",
       "      <td>177</td>\n",
       "      <td>PHL</td>\n",
       "      <td>Philippines</td>\n",
       "      <td>47</td>\n",
       "      <td>Metropolitan Manila</td>\n",
       "      <td>960</td>\n",
       "      <td>Pasay City</td>\n",
       "      <td></td>\n",
       "      <td></td>\n",
       "      <td>Lungsod|Siyudad</td>\n",
       "      <td>City</td>\n",
       "      <td>Metropolitan Manila</td>\n",
       "      <td>Metropolitan Manila</td>\n",
       "      <td>POLYGON ((121.00084 14.50921, 120.99825 14.535...</td>\n",
       "      <td>POINT (121.00359 14.53193)</td>\n",
       "      <td>POINT (121.00359 14.53193)</td>\n",
       "      <td>POINT (120.974800109198 14.5822591781238)</td>\n",
       "      <td>0.057981</td>\n",
       "    </tr>\n",
       "    <tr>\n",
       "      <th>1004</th>\n",
       "      <td>177</td>\n",
       "      <td>PHL</td>\n",
       "      <td>Philippines</td>\n",
       "      <td>47</td>\n",
       "      <td>Metropolitan Manila</td>\n",
       "      <td>964</td>\n",
       "      <td>San Juan</td>\n",
       "      <td></td>\n",
       "      <td></td>\n",
       "      <td>Lungsod|Siyudad</td>\n",
       "      <td>City</td>\n",
       "      <td>Metropolitan Manila</td>\n",
       "      <td>Metropolitan Manila</td>\n",
       "      <td>POLYGON ((121.05712 14.60199, 121.03236 14.591...</td>\n",
       "      <td>POINT (121.03392 14.60252)</td>\n",
       "      <td>POINT (121.03392 14.60252)</td>\n",
       "      <td>POINT (120.974800109198 14.5822591781238)</td>\n",
       "      <td>0.062499</td>\n",
       "    </tr>\n",
       "    <tr>\n",
       "      <th>994</th>\n",
       "      <td>177</td>\n",
       "      <td>PHL</td>\n",
       "      <td>Philippines</td>\n",
       "      <td>47</td>\n",
       "      <td>Metropolitan Manila</td>\n",
       "      <td>954</td>\n",
       "      <td>Mandaluyong</td>\n",
       "      <td></td>\n",
       "      <td>Mandaluyong, City of</td>\n",
       "      <td>Lungsod|Siyudad</td>\n",
       "      <td>City</td>\n",
       "      <td>Metropolitan Manila</td>\n",
       "      <td>Metropolitan Manila</td>\n",
       "      <td>POLYGON ((121.05753 14.58912, 121.05501 14.574...</td>\n",
       "      <td>POINT (121.03895 14.58382)</td>\n",
       "      <td>POINT (121.03895 14.58382)</td>\n",
       "      <td>POINT (120.974800109198 14.5822591781238)</td>\n",
       "      <td>0.064168</td>\n",
       "    </tr>\n",
       "    <tr>\n",
       "      <th>992</th>\n",
       "      <td>177</td>\n",
       "      <td>PHL</td>\n",
       "      <td>Philippines</td>\n",
       "      <td>47</td>\n",
       "      <td>Metropolitan Manila</td>\n",
       "      <td>952</td>\n",
       "      <td>Makati City</td>\n",
       "      <td></td>\n",
       "      <td>Makati, City of</td>\n",
       "      <td>Lungsod|Siyudad</td>\n",
       "      <td>City</td>\n",
       "      <td>Metropolitan Manila</td>\n",
       "      <td>Metropolitan Manila</td>\n",
       "      <td>POLYGON ((121.04446 14.56964, 121.06603 14.560...</td>\n",
       "      <td>POINT (121.03380 14.54904)</td>\n",
       "      <td>POINT (121.03380 14.54904)</td>\n",
       "      <td>POINT (120.974800109198 14.5822591781238)</td>\n",
       "      <td>0.067708</td>\n",
       "    </tr>\n",
       "    <tr>\n",
       "      <th>...</th>\n",
       "      <td>...</td>\n",
       "      <td>...</td>\n",
       "      <td>...</td>\n",
       "      <td>...</td>\n",
       "      <td>...</td>\n",
       "      <td>...</td>\n",
       "      <td>...</td>\n",
       "      <td>...</td>\n",
       "      <td>...</td>\n",
       "      <td>...</td>\n",
       "      <td>...</td>\n",
       "      <td>...</td>\n",
       "      <td>...</td>\n",
       "      <td>...</td>\n",
       "      <td>...</td>\n",
       "      <td>...</td>\n",
       "      <td>...</td>\n",
       "      <td>...</td>\n",
       "    </tr>\n",
       "    <tr>\n",
       "      <th>805</th>\n",
       "      <td>177</td>\n",
       "      <td>PHL</td>\n",
       "      <td>Philippines</td>\n",
       "      <td>40</td>\n",
       "      <td>Laguna</td>\n",
       "      <td>765</td>\n",
       "      <td>Kalibato Lake</td>\n",
       "      <td></td>\n",
       "      <td></td>\n",
       "      <td>Waterbody</td>\n",
       "      <td>Waterbody</td>\n",
       "      <td>Laguna</td>\n",
       "      <td>CALABARZON (Region IV-A)</td>\n",
       "      <td>None</td>\n",
       "      <td>None</td>\n",
       "      <td>None</td>\n",
       "      <td>POINT (120.974800109198 14.5822591781238)</td>\n",
       "      <td>NaN</td>\n",
       "    </tr>\n",
       "    <tr>\n",
       "      <th>818</th>\n",
       "      <td>177</td>\n",
       "      <td>PHL</td>\n",
       "      <td>Philippines</td>\n",
       "      <td>40</td>\n",
       "      <td>Laguna</td>\n",
       "      <td>778</td>\n",
       "      <td>Palakpakin Lake</td>\n",
       "      <td></td>\n",
       "      <td></td>\n",
       "      <td>Waterbody</td>\n",
       "      <td>Waterbody</td>\n",
       "      <td>Laguna</td>\n",
       "      <td>CALABARZON (Region IV-A)</td>\n",
       "      <td>None</td>\n",
       "      <td>None</td>\n",
       "      <td>None</td>\n",
       "      <td>POINT (120.974800109198 14.5822591781238)</td>\n",
       "      <td>NaN</td>\n",
       "    </tr>\n",
       "    <tr>\n",
       "      <th>822</th>\n",
       "      <td>177</td>\n",
       "      <td>PHL</td>\n",
       "      <td>Philippines</td>\n",
       "      <td>40</td>\n",
       "      <td>Laguna</td>\n",
       "      <td>782</td>\n",
       "      <td>Sampaloc Lake</td>\n",
       "      <td></td>\n",
       "      <td></td>\n",
       "      <td>Waterbody</td>\n",
       "      <td>Waterbody</td>\n",
       "      <td>Laguna</td>\n",
       "      <td>CALABARZON (Region IV-A)</td>\n",
       "      <td>None</td>\n",
       "      <td>None</td>\n",
       "      <td>None</td>\n",
       "      <td>POINT (120.974800109198 14.5822591781238)</td>\n",
       "      <td>NaN</td>\n",
       "    </tr>\n",
       "    <tr>\n",
       "      <th>830</th>\n",
       "      <td>177</td>\n",
       "      <td>PHL</td>\n",
       "      <td>Philippines</td>\n",
       "      <td>40</td>\n",
       "      <td>Laguna</td>\n",
       "      <td>790</td>\n",
       "      <td>Waterbody</td>\n",
       "      <td></td>\n",
       "      <td></td>\n",
       "      <td>Waterbody</td>\n",
       "      <td>Waterbody</td>\n",
       "      <td>Laguna</td>\n",
       "      <td>CALABARZON (Region IV-A)</td>\n",
       "      <td>None</td>\n",
       "      <td>None</td>\n",
       "      <td>None</td>\n",
       "      <td>POINT (120.974800109198 14.5822591781238)</td>\n",
       "      <td>NaN</td>\n",
       "    </tr>\n",
       "    <tr>\n",
       "      <th>1339</th>\n",
       "      <td>177</td>\n",
       "      <td>PHL</td>\n",
       "      <td>Philippines</td>\n",
       "      <td>62</td>\n",
       "      <td>Quezon</td>\n",
       "      <td>1299</td>\n",
       "      <td>Hinunangan</td>\n",
       "      <td></td>\n",
       "      <td></td>\n",
       "      <td>Bayan|Munisipyo</td>\n",
       "      <td>Municipality</td>\n",
       "      <td>Quezon</td>\n",
       "      <td>CALABARZON (Region IV-A)</td>\n",
       "      <td>None</td>\n",
       "      <td>None</td>\n",
       "      <td>None</td>\n",
       "      <td>POINT (120.974800109198 14.5822591781238)</td>\n",
       "      <td>NaN</td>\n",
       "    </tr>\n",
       "  </tbody>\n",
       "</table>\n",
       "<p>1647 rows × 18 columns</p>\n",
       "</div>"
      ],
      "text/plain": [
       "      ID_0  ISO       NAME_0  ID_1               NAME_1  ID_2  \\\n",
       "995    177  PHL  Philippines    47  Metropolitan Manila   955   \n",
       "1000   177  PHL  Philippines    47  Metropolitan Manila   960   \n",
       "1004   177  PHL  Philippines    47  Metropolitan Manila   964   \n",
       "994    177  PHL  Philippines    47  Metropolitan Manila   954   \n",
       "992    177  PHL  Philippines    47  Metropolitan Manila   952   \n",
       "...    ...  ...          ...   ...                  ...   ...   \n",
       "805    177  PHL  Philippines    40               Laguna   765   \n",
       "818    177  PHL  Philippines    40               Laguna   778   \n",
       "822    177  PHL  Philippines    40               Laguna   782   \n",
       "830    177  PHL  Philippines    40               Laguna   790   \n",
       "1339   177  PHL  Philippines    62               Quezon  1299   \n",
       "\n",
       "               NAME_2 NL_NAME_2                       VARNAME_2  \\\n",
       "995            Manila            City of Manila|Manila, City of   \n",
       "1000       Pasay City                                             \n",
       "1004         San Juan                                             \n",
       "994       Mandaluyong                      Mandaluyong, City of   \n",
       "992       Makati City                           Makati, City of   \n",
       "...               ...       ...                             ...   \n",
       "805     Kalibato Lake                                             \n",
       "818   Palakpakin Lake                                             \n",
       "822     Sampaloc Lake                                             \n",
       "830         Waterbody                                             \n",
       "1339       Hinunangan                                             \n",
       "\n",
       "               TYPE_2     ENGTYPE_2             PROVINCE  \\\n",
       "995   Lungsod|Siyudad          City  Metropolitan Manila   \n",
       "1000  Lungsod|Siyudad          City  Metropolitan Manila   \n",
       "1004  Lungsod|Siyudad          City  Metropolitan Manila   \n",
       "994   Lungsod|Siyudad          City  Metropolitan Manila   \n",
       "992   Lungsod|Siyudad          City  Metropolitan Manila   \n",
       "...               ...           ...                  ...   \n",
       "805         Waterbody     Waterbody               Laguna   \n",
       "818         Waterbody     Waterbody               Laguna   \n",
       "822         Waterbody     Waterbody               Laguna   \n",
       "830         Waterbody     Waterbody               Laguna   \n",
       "1339  Bayan|Munisipyo  Municipality               Quezon   \n",
       "\n",
       "                        REGION  \\\n",
       "995        Metropolitan Manila   \n",
       "1000       Metropolitan Manila   \n",
       "1004       Metropolitan Manila   \n",
       "994        Metropolitan Manila   \n",
       "992        Metropolitan Manila   \n",
       "...                        ...   \n",
       "805   CALABARZON (Region IV-A)   \n",
       "818   CALABARZON (Region IV-A)   \n",
       "822   CALABARZON (Region IV-A)   \n",
       "830   CALABARZON (Region IV-A)   \n",
       "1339  CALABARZON (Region IV-A)   \n",
       "\n",
       "                                               geometry  \\\n",
       "995   POLYGON ((120.98952 14.63567, 120.98637 14.625...   \n",
       "1000  POLYGON ((121.00084 14.50921, 120.99825 14.535...   \n",
       "1004  POLYGON ((121.05712 14.60199, 121.03236 14.591...   \n",
       "994   POLYGON ((121.05753 14.58912, 121.05501 14.574...   \n",
       "992   POLYGON ((121.04446 14.56964, 121.06603 14.560...   \n",
       "...                                                 ...   \n",
       "805                                                None   \n",
       "818                                                None   \n",
       "822                                                None   \n",
       "830                                                None   \n",
       "1339                                               None   \n",
       "\n",
       "                        Centroid                     cent_gs  \\\n",
       "995   POINT (120.98570 14.59947)  POINT (120.98570 14.59947)   \n",
       "1000  POINT (121.00359 14.53193)  POINT (121.00359 14.53193)   \n",
       "1004  POINT (121.03392 14.60252)  POINT (121.03392 14.60252)   \n",
       "994   POINT (121.03895 14.58382)  POINT (121.03895 14.58382)   \n",
       "992   POINT (121.03380 14.54904)  POINT (121.03380 14.54904)   \n",
       "...                          ...                         ...   \n",
       "805                         None                        None   \n",
       "818                         None                        None   \n",
       "822                         None                        None   \n",
       "830                         None                        None   \n",
       "1339                        None                        None   \n",
       "\n",
       "                                         Manila  dist_mnl  \n",
       "995   POINT (120.974800109198 14.5822591781238)  0.020368  \n",
       "1000  POINT (120.974800109198 14.5822591781238)  0.057981  \n",
       "1004  POINT (120.974800109198 14.5822591781238)  0.062499  \n",
       "994   POINT (120.974800109198 14.5822591781238)  0.064168  \n",
       "992   POINT (120.974800109198 14.5822591781238)  0.067708  \n",
       "...                                         ...       ...  \n",
       "805   POINT (120.974800109198 14.5822591781238)       NaN  \n",
       "818   POINT (120.974800109198 14.5822591781238)       NaN  \n",
       "822   POINT (120.974800109198 14.5822591781238)       NaN  \n",
       "830   POINT (120.974800109198 14.5822591781238)       NaN  \n",
       "1339  POINT (120.974800109198 14.5822591781238)       NaN  \n",
       "\n",
       "[1647 rows x 18 columns]"
      ]
     },
     "execution_count": 35,
     "metadata": {},
     "output_type": "execute_result"
    }
   ],
   "source": [
    "df1.sort_values(by = 'dist_mnl')"
   ]
  },
  {
   "cell_type": "code",
   "execution_count": null,
   "metadata": {},
   "outputs": [],
   "source": []
  },
  {
   "cell_type": "code",
   "execution_count": null,
   "metadata": {},
   "outputs": [],
   "source": [
    "df1.Centroid.GeoSeries.distance(manila_loc.geometry)"
   ]
  },
  {
   "cell_type": "markdown",
   "metadata": {},
   "source": [
    "### Merge data"
   ]
  },
  {
   "cell_type": "code",
   "execution_count": null,
   "metadata": {},
   "outputs": [],
   "source": [
    "df_merged = df_cases_by_city"
   ]
  },
  {
   "cell_type": "code",
   "execution_count": null,
   "metadata": {},
   "outputs": [],
   "source": [
    "df_merged = df_merged.merge(df_cityindex, how = 'left', left_index=True, right_index=True)"
   ]
  },
  {
   "cell_type": "code",
   "execution_count": null,
   "metadata": {},
   "outputs": [],
   "source": [
    "df_merged = df_merged.merge(df_poverty, how = 'left', left_index=True, right_index=True)"
   ]
  },
  {
   "cell_type": "code",
   "execution_count": null,
   "metadata": {},
   "outputs": [],
   "source": [
    "df_merged"
   ]
  },
  {
   "cell_type": "markdown",
   "metadata": {},
   "source": [
    "#### calculate case/pop as predicted variable\n",
    "calculate distance from manila as additional feature"
   ]
  },
  {
   "cell_type": "code",
   "execution_count": null,
   "metadata": {},
   "outputs": [],
   "source": [
    "df_merged['Case Per Capita'] = df_merged.Cases/df_merged.Population"
   ]
  },
  {
   "cell_type": "code",
   "execution_count": null,
   "metadata": {},
   "outputs": [],
   "source": [
    "df_merged.dropna(axis=0, how='any', thresh=None, subset=None, inplace=True)"
   ]
  },
  {
   "cell_type": "code",
   "execution_count": null,
   "metadata": {},
   "outputs": [],
   "source": [
    "df_merged.shape"
   ]
  },
  {
   "cell_type": "markdown",
   "metadata": {},
   "source": [
    "### "
   ]
  },
  {
   "cell_type": "markdown",
   "metadata": {},
   "source": [
    "### Exploratory Data Analysis\n",
    "So now we have a dataset of cities and municipalities with feature statistics like city class, income classification, population and poverty incidences as possible predictors of cases per capita."
   ]
  },
  {
   "cell_type": "code",
   "execution_count": null,
   "metadata": {},
   "outputs": [],
   "source": [
    "df_merged.sort_values('Case Per Capita', ascending = False)"
   ]
  },
  {
   "cell_type": "code",
   "execution_count": null,
   "metadata": {},
   "outputs": [],
   "source": [
    "df_merged.info()"
   ]
  },
  {
   "cell_type": "markdown",
   "metadata": {},
   "source": [
    "Since we have explicitly changed NaNs to literal UNK categorical values, it would be worth checking how many UNKs are there."
   ]
  },
  {
   "cell_type": "code",
   "execution_count": null,
   "metadata": {},
   "outputs": [],
   "source": [
    "#change UNK for different columns\n",
    "for columns in df_merged.columns:\n",
    "    print(f'Percent UNK Column {columns} = {((sum(df_merged[columns] == \"UNK\"))/len(df_merged[columns])):.0%}')"
   ]
  },
  {
   "cell_type": "markdown",
   "metadata": {},
   "source": [
    "This points to feature City Class to have mostly UNKs so let's get that off our list of features."
   ]
  },
  {
   "cell_type": "code",
   "execution_count": null,
   "metadata": {},
   "outputs": [],
   "source": [
    "df_merged = df_merged[['Geographic Level','Income Classification',\n",
    "           'Population','Poverty Incidence','Case Per Capita']]"
   ]
  },
  {
   "cell_type": "code",
   "execution_count": null,
   "metadata": {},
   "outputs": [],
   "source": [
    "df_merged.tail()"
   ]
  },
  {
   "cell_type": "markdown",
   "metadata": {},
   "source": [
    "1. Doing pairplots and correlattion analysis shows that of the features mentioned above, none is a strong predictor."
   ]
  },
  {
   "cell_type": "code",
   "execution_count": null,
   "metadata": {},
   "outputs": [],
   "source": [
    "g = sns.pairplot(df_merged)\n",
    "g.fig.suptitle(\"Pair Plot\", y=1.08)"
   ]
  },
  {
   "cell_type": "code",
   "execution_count": null,
   "metadata": {},
   "outputs": [],
   "source": [
    "sns.heatmap(df_merged.corr(),annot=True,lw=1)"
   ]
  },
  {
   "cell_type": "code",
   "execution_count": null,
   "metadata": {},
   "outputs": [],
   "source": [
    "df_merged.corr()"
   ]
  },
  {
   "cell_type": "markdown",
   "metadata": {},
   "source": [
    "2. Separating the analysis by geographic level shows correlation to be stronger at City level."
   ]
  },
  {
   "cell_type": "markdown",
   "metadata": {},
   "source": [
    "Let us now explore our data if we group them according to Geographic Level and Income Classification."
   ]
  },
  {
   "cell_type": "markdown",
   "metadata": {},
   "source": [
    "First let's do a quick pairplot correlation analysis while differentiating the colors by Geographic Level."
   ]
  },
  {
   "cell_type": "code",
   "execution_count": null,
   "metadata": {},
   "outputs": [],
   "source": [
    "sns.pairplot(df_merged, hue = \"Geographic Level\")"
   ]
  },
  {
   "cell_type": "code",
   "execution_count": null,
   "metadata": {},
   "outputs": [],
   "source": [
    "geo_levels = df_merged['Geographic Level'].unique()"
   ]
  },
  {
   "cell_type": "code",
   "execution_count": null,
   "metadata": {},
   "outputs": [],
   "source": [
    "for level in geo_levels:\n",
    "    sub_df = df_merged.loc[df_merged['Geographic Level'] == level,['Population', 'Poverty Incidence','Case Per Capita']]\n",
    "    print(level)\n",
    "    #print('\\n')\n",
    "    print(sub_df_cases_raw.corr())\n",
    "    print('\\n\\n')\n",
    "    g = sns.pairplot(sub_df)\n",
    "    g.fig.suptitle(level, y=1.08)"
   ]
  },
  {
   "cell_type": "markdown",
   "metadata": {},
   "source": [
    "We can also see no strong correlation. Relatively, the strongest correlation we see is with Poverty Incidence at -0.52, a moderately negative correlation between Poverty Incidence and Case Per Capita."
   ]
  },
  {
   "cell_type": "markdown",
   "metadata": {},
   "source": [
    "Examining the effects if we group them by Income Classification."
   ]
  },
  {
   "cell_type": "code",
   "execution_count": null,
   "metadata": {},
   "outputs": [],
   "source": [
    "sns.pairplot(df_merged, hue = \"Income Classification\")"
   ]
  },
  {
   "cell_type": "code",
   "execution_count": null,
   "metadata": {},
   "outputs": [],
   "source": [
    "income_classes = df_merged['Income Classification'].unique()\n",
    "\n",
    "for level in income_classes:\n",
    "    sub_df = df_merged.loc[df_merged['Income Classification'] == level,['Population', 'Poverty Incidence','Case Per Capita']]\n",
    "    print(level)\n",
    "    #print('\\n')\n",
    "    print(sub_df_cases_raw.corr())\n",
    "    print('\\n\\n')\n",
    "    g = sns.pairplot(sub_df)\n",
    "    g.fig.suptitle(level, y=1.08)"
   ]
  },
  {
   "cell_type": "markdown",
   "metadata": {},
   "source": [
    "We can also see no strong correlation. Although only moderate, we do see a moderate positive correlation between Population and Cases per Capita when you're a 6th Class City at 0.64. We also see a moderate negative correlation between Poverty Incidence and Cases per Capita when you are an unclassified city or municipality."
   ]
  },
  {
   "cell_type": "markdown",
   "metadata": {},
   "source": [
    "Since most the of cases occur in Metro Manila, let us see if there's Poverty Incidence is a strong predictor of Cases Per Capita in the Metro Manila Area."
   ]
  },
  {
   "cell_type": "markdown",
   "metadata": {},
   "source": [
    "We know that cities in the National Capital Region of Metro Manila has a PSGC of 130000000 or more. Limiting our dataset to Metro Manila cities we have:"
   ]
  },
  {
   "cell_type": "code",
   "execution_count": null,
   "metadata": {},
   "outputs": [],
   "source": [
    "#psgc_mm = ['133900000', '137401000', '137402000', '137403000', '137404000', '137405000', '137501000', '137502000', '137503000', '137504000', '137601000', '137602000', '137603000', '137604000', '137606000', '137605000', '137607000']\n",
    "psgc_mm = ['137401000', '137402000', '137403000', '137404000', '137405000', '137501000', '137502000', '137503000', '137504000', '137601000', '137602000', '137603000', '137604000', '137606000', '137605000', '137607000']\n",
    "df_mm = df_merged.loc[psgc_mm]"
   ]
  },
  {
   "cell_type": "code",
   "execution_count": null,
   "metadata": {},
   "outputs": [],
   "source": [
    "sns.pairplot(df_mm)"
   ]
  },
  {
   "cell_type": "code",
   "execution_count": null,
   "metadata": {},
   "outputs": [],
   "source": [
    "sns.heatmap(df_mm.corr(),annot=True,lw=1)"
   ]
  },
  {
   "cell_type": "code",
   "execution_count": null,
   "metadata": {},
   "outputs": [],
   "source": [
    "df_mm.corr()"
   ]
  },
  {
   "cell_type": "markdown",
   "metadata": {},
   "source": [
    "We can also see no strong correlation. We also see a moderate negative correlation between Population and Cases per Capita for the largest cities in the Philippines and the epicenter of the pandemic.\n",
    "\n",
    "For now, we can conclude that Poverty Incidence is not a strong predictor of severity as measured by Cases Per Capita."
   ]
  },
  {
   "cell_type": "code",
   "execution_count": null,
   "metadata": {},
   "outputs": [],
   "source": []
  },
  {
   "cell_type": "code",
   "execution_count": null,
   "metadata": {},
   "outputs": [],
   "source": [
    "#dummy variables\n",
    "\n",
    "#change UNK for different columns\n",
    "for columns in df_merged.columns:\n",
    "    print(f'Number of Unknowns for Column {columns} = {sum(df_merged[columns] == \"UNK\")}')"
   ]
  },
  {
   "cell_type": "code",
   "execution_count": null,
   "metadata": {},
   "outputs": [],
   "source": [
    "df_merged = pd.get_dummies(df_merged, \n",
    "               columns = ['Geographic Level', 'Income Classification'], \n",
    "               prefix = ['GL','IC'])"
   ]
  },
  {
   "cell_type": "code",
   "execution_count": null,
   "metadata": {},
   "outputs": [],
   "source": [
    "df_merged = df_merged[['Name', 'Population', 'Poverty Incidence', 'GL_City', \n",
    "     'GL_Mun', 'GL_SubMun', 'IC_1st', 'IC_2nd','IC_3rd', 'IC_4th', \n",
    "     'IC_5th', 'IC_6th', 'IC_Special', 'IC_UNK','Case Per Capita']]"
   ]
  },
  {
   "cell_type": "code",
   "execution_count": null,
   "metadata": {},
   "outputs": [],
   "source": [
    "#check histogram of population\n",
    "df_merged['Population'][df_merged['IC_3rd'] == 1].hist()"
   ]
  },
  {
   "cell_type": "code",
   "execution_count": null,
   "metadata": {},
   "outputs": [],
   "source": [
    "#normalize population\\\n",
    "ss = StandardScaler()\n",
    "df_merged['Population Normalized'] = ss.fit_transform(df_merged[['Population']])"
   ]
  },
  {
   "cell_type": "code",
   "execution_count": null,
   "metadata": {},
   "outputs": [],
   "source": [
    "df_merged.corr().loc['Case Per Capita']"
   ]
  },
  {
   "cell_type": "code",
   "execution_count": null,
   "metadata": {},
   "outputs": [],
   "source": [
    "df_merged.head()"
   ]
  },
  {
   "cell_type": "markdown",
   "metadata": {},
   "source": [
    "### Inference"
   ]
  },
  {
   "cell_type": "code",
   "execution_count": null,
   "metadata": {},
   "outputs": [],
   "source": [
    "#define target variable\n",
    "y = df_merged['Case Per Capita']"
   ]
  },
  {
   "cell_type": "code",
   "execution_count": null,
   "metadata": {},
   "outputs": [],
   "source": [
    "y"
   ]
  },
  {
   "cell_type": "code",
   "execution_count": null,
   "metadata": {},
   "outputs": [],
   "source": [
    "X = df_merged[['Population Normalized', 'Poverty Incidence', 'GL_City', 'GL_Mun', 'GL_SubMun', 'IC_1st', 'IC_2nd','IC_3rd', 'IC_4th', 'IC_5th', 'IC_6th', 'IC_Special', 'IC_UNK']]"
   ]
  },
  {
   "cell_type": "code",
   "execution_count": null,
   "metadata": {},
   "outputs": [],
   "source": [
    "X"
   ]
  },
  {
   "cell_type": "code",
   "execution_count": null,
   "metadata": {},
   "outputs": [],
   "source": [
    "#split into training and test sets\n",
    "X_train, X_valid, y_train, y_valid = train_test_split(X,y, test_size=0.2)\n",
    "print(X_train.shape, X_valid.shape, y_train.shape, y_valid.shape)"
   ]
  },
  {
   "cell_type": "code",
   "execution_count": null,
   "metadata": {},
   "outputs": [],
   "source": [
    "#fitting a linear model\n",
    "lm = LinearRegression()\n",
    "lm.fit(X_train,y_train)"
   ]
  },
  {
   "cell_type": "code",
   "execution_count": null,
   "metadata": {},
   "outputs": [],
   "source": [
    "lm.score(X_train,y_train)"
   ]
  },
  {
   "cell_type": "code",
   "execution_count": null,
   "metadata": {},
   "outputs": [],
   "source": [
    "lm.score(X_valid,y_valid)"
   ]
  },
  {
   "cell_type": "code",
   "execution_count": null,
   "metadata": {},
   "outputs": [],
   "source": [
    "y_pred = lm.predict(X_valid)\n",
    "rmse = np.sqrt(metrics.mean_squared_error(y_pred, y_valid))\n",
    "rmse"
   ]
  },
  {
   "cell_type": "code",
   "execution_count": null,
   "metadata": {},
   "outputs": [],
   "source": [
    "rdgCV = RidgeCV(alphas=[0.01,0.1,1,10,100,1000], cv=5)\n",
    "rdgCV.fit(X_train,y_train)"
   ]
  },
  {
   "cell_type": "code",
   "execution_count": null,
   "metadata": {},
   "outputs": [],
   "source": [
    "print(rdgCV.alpha_)"
   ]
  },
  {
   "cell_type": "code",
   "execution_count": null,
   "metadata": {},
   "outputs": [],
   "source": [
    "rdg = Ridge(alpha=10)\n",
    "rdg.fit(X_train, y_train)\n",
    "rdg.score(X_valid, y_valid)"
   ]
  },
  {
   "cell_type": "code",
   "execution_count": null,
   "metadata": {},
   "outputs": [],
   "source": [
    "y_pred = rdg.predict(X_valid)\n",
    "rmse = np.sqrt(metrics.mean_squared_error(y_pred, y_valid))\n",
    "rmse"
   ]
  },
  {
   "cell_type": "code",
   "execution_count": null,
   "metadata": {},
   "outputs": [],
   "source": [
    "rfr = RandomForestRegressor(n_jobs=-1, n_estimators=100)\n",
    "rfr.fit(X,y)"
   ]
  },
  {
   "cell_type": "code",
   "execution_count": null,
   "metadata": {},
   "outputs": [],
   "source": [
    "rfr.score(X_valid,y_valid)"
   ]
  },
  {
   "cell_type": "code",
   "execution_count": null,
   "metadata": {},
   "outputs": [],
   "source": [
    "y_pred = rfr.predict(X_valid)\n",
    "rmse = np.sqrt(metrics.mean_squared_error(y_pred, y_valid))\n",
    "rmse"
   ]
  },
  {
   "cell_type": "code",
   "execution_count": null,
   "metadata": {},
   "outputs": [],
   "source": [
    "print(lm.coef_)\n",
    "print(np.argmax(lm.coef_))\n",
    "print(df_merged.columns[np.argmax(lm.coef_)])\n",
    "print(rdgCV.coef_)\n",
    "print(np.argmax(rdgCV.coef_))"
   ]
  },
  {
   "cell_type": "code",
   "execution_count": null,
   "metadata": {},
   "outputs": [],
   "source": [
    "rfr.fit(X_train,y_train)\n",
    "\n",
    "y_lm_pred = lm.predict(X_train)\n",
    "y_rdgCV_pred = rdgCV.predict(X_train)\n",
    "y_rfr_pred = rfr.predict(X_train)\n",
    "\n",
    "print('-----training score ---')\n",
    "print(lm.score(X_train, y_train))\n",
    "print(rdgCV.score(X_train, y_train))\n",
    "print(rfr.score(X_train, y_train))\n",
    "print('----Validation score ---')\n",
    "print(lm.score(X_valid, y_valid))\n",
    "print(rdgCV.score(X_valid, y_valid))\n",
    "print(rfr.score(X_valid, y_valid))"
   ]
  },
  {
   "cell_type": "code",
   "execution_count": null,
   "metadata": {},
   "outputs": [],
   "source": [
    "sns.heatmap(df_merged.corr().loc['Case Per Capita'], robust = True)"
   ]
  },
  {
   "cell_type": "markdown",
   "metadata": {},
   "source": [
    "# Results\n",
    "section where you discuss the results."
   ]
  },
  {
   "cell_type": "markdown",
   "metadata": {},
   "source": [
    "# Discussion\n",
    "section where you discuss any observations you noted and any recommendations you can make based on the results."
   ]
  },
  {
   "cell_type": "markdown",
   "metadata": {},
   "source": [
    "# Conclusion\n",
    "section where you conclude the report."
   ]
  },
  {
   "cell_type": "code",
   "execution_count": null,
   "metadata": {},
   "outputs": [],
   "source": []
  },
  {
   "cell_type": "markdown",
   "metadata": {},
   "source": [
    "# Extras below\n",
    "## Next Steps\n",
    "* merge geojson in main dataframe\n",
    "* calculate distance from manila\n",
    "* determine correlation between distance from manila\n",
    "* do same analysis as earlier with baranggay level"
   ]
  },
  {
   "cell_type": "code",
   "execution_count": null,
   "metadata": {},
   "outputs": [],
   "source": [
    "feature_to_remove = 'Geographic Level'"
   ]
  },
  {
   "cell_type": "code",
   "execution_count": null,
   "metadata": {},
   "outputs": [],
   "source": [
    "sub_df = df_merged"
   ]
  },
  {
   "cell_type": "code",
   "execution_count": null,
   "metadata": {},
   "outputs": [],
   "source": [
    "col_list_new = list(sub_df_cases_raw.columns)\n",
    "col_list_new"
   ]
  },
  {
   "cell_type": "code",
   "execution_count": null,
   "metadata": {},
   "outputs": [],
   "source": [
    "sns.pairplot(df_merged[['Geographic Level','Population','Poverty Incidence','Case Per Capita']], hue = 'Geographic Level',\n",
    "            diag_kind=\"hist\")"
   ]
  },
  {
   "cell_type": "code",
   "execution_count": null,
   "metadata": {},
   "outputs": [],
   "source": [
    "def corr_by_level(dataframe, variable):\n",
    "    for level in geo_levels:\n",
    "        sub_df = df_merged.loc[df_merged['Geographic Level'] == level,['Population', 'Poverty Incidence','Case Per Capita']]\n",
    "    print(level)\n",
    "    print('\\n')\n",
    "    #print(sub_df_cases_raw.corr().loc['Case Per Capita'])\n",
    "    sns.pairplot(sub_df)\n",
    "    print('\\n\\n')"
   ]
  },
  {
   "cell_type": "code",
   "execution_count": null,
   "metadata": {},
   "outputs": [],
   "source": [
    "for level in geo_levels:\n",
    "    sub_df = df_merged.loc[df_merged['Geographic Level'] == level,['Population', 'Poverty Incidence','Case Per Capita']]\n",
    "    print(level)\n",
    "    print('\\n')\n",
    "    #print(sub_df_cases_raw.corr().loc['Case Per Capita'])\n",
    "    sns.pairplot(sub_df)\n",
    "    print('\\n\\n')"
   ]
  },
  {
   "cell_type": "code",
   "execution_count": null,
   "metadata": {},
   "outputs": [],
   "source": [
    "df_merged.columns"
   ]
  },
  {
   "cell_type": "code",
   "execution_count": null,
   "metadata": {},
   "outputs": [],
   "source": [
    "df_merged['Geographic Level'].unique()"
   ]
  },
  {
   "cell_type": "code",
   "execution_count": null,
   "metadata": {},
   "outputs": [],
   "source": [
    "df_merged.loc[df_merged['Geographic Level'] == 'Mun',['Population', 'Poverty Incidence']]"
   ]
  },
  {
   "cell_type": "code",
   "execution_count": null,
   "metadata": {},
   "outputs": [],
   "source": [
    "for level in df_merged['Geographic Level'].unique():\n",
    "    sub_df = df_merged.loc[df_merged['Geographic Level'] == level,['Population', 'Poverty Incidence','Case Per Capita']]\n",
    "    print(level)\n",
    "    print('\\n')\n",
    "    #print(sub_df_cases_raw.corr().loc['Case Per Capita'])\n",
    "    sns.pairplot(sub_df)\n",
    "    print('\\n\\n')"
   ]
  },
  {
   "cell_type": "code",
   "execution_count": null,
   "metadata": {},
   "outputs": [],
   "source": [
    "df_merged['Income Classification'].unique()"
   ]
  }
 ],
 "metadata": {
  "kernelspec": {
   "display_name": "Python 3",
   "language": "python",
   "name": "python3"
  },
  "language_info": {
   "codemirror_mode": {
    "name": "ipython",
    "version": 3
   },
   "file_extension": ".py",
   "mimetype": "text/x-python",
   "name": "python",
   "nbconvert_exporter": "python",
   "pygments_lexer": "ipython3",
   "version": "3.8.2"
  }
 },
 "nbformat": 4,
 "nbformat_minor": 4
}
