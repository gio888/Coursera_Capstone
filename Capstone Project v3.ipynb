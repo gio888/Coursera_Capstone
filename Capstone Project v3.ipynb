{
 "cells": [
  {
   "cell_type": "markdown",
   "metadata": {},
   "source": [
    "# Introduction/Business Problem\n",
    "The COVID-19 pandemic has taken an unprecedented toll globally, already affecting over 2M people, taking over 200K lives and, according to WEF, will likely cost the world 2 trillion USD in economic losses.\n",
    "\n",
    "In the Philippines, the responsibility of managing the quarantine falls on the shoulders of the mayors of the cities and municipalities.\n",
    "\n",
    "Not all cities are affected by the virus the same way. Some cities are overwhelmed by the number of cases. Some cities have seen the peak and are now slowly coming down in terms of cases. Some cities are growing in terms of the number of cases.\n",
    "\n",
    "The mayors will be interested to see where their city is relative to cases. Is their city on the downward path or in the growth path?\n",
    "\n",
    "The citizens, on the other hand, will be interested to know where the hospitals are near their location.\n",
    "\n",
    "This is the problem we want to solve with data analysis.\n",
    "\n",
    "As an application, we would have an interface for mayors to see if their daily rates of cases are growing or decreasing.\n",
    "\n",
    "For citizens, they can find out the nearest health facilities and testing centers are so they can go there in case they need to be tested or see a healthcare professional."
   ]
  },
  {
   "cell_type": "markdown",
   "metadata": {},
   "source": [
    "# Data Section\n",
    "For this exercise, we will be using the following datasets:\n",
    "\n",
    "1. Case Information dataset provided by the Philippine Department of Health. We will use this dataset to determine the growth rates per city. This dataset includes the following fields:\n",
    "\t* CaseCode : Random code assigned for labelling cases\n",
    "\t* Age : Age\n",
    "\t* AgeGroup : Five-year age group\n",
    "\t* Sex : Sex\n",
    "\t* DateRepConf : Date publicly announced as confirmed case\n",
    "\t* DateRecover : Date recovered\n",
    "\t* DateDied : Date died\n",
    "\t* RemovalType : Type of removal (recovery or death)\n",
    "\t* DateRepRem : Date publicly announced as removed\n",
    "\t* Admitted : Binary variable indicating patient has been admitted to hospital\n",
    "\t* RegionRes : Region of residence\n",
    "\t* ProvCityRes : Province of residence\n",
    "\t* RegionPSGC : Philippine Standard Geographic Code of Region of Residence\n",
    "\t* ProvPSGC : Philippine Standard Geographic Code of Province of Residence\n",
    "\t* MunCityPSGC : Philippine Standard Geographic Code of Municipality or City of Residence\n",
    "\t* HealthStatus : Known current health status of patient (asymptomatic, mild, severe, critical, died, recovered)\n",
    "\t* Quarantined : Ever been home quarantined, not necessarily currently in home quarantine\n",
    "2. Geojson dataset of cities and municipalities in the Philippines. We will use this dataset to provide the mapping boundaries of the different cities and municipalities in the Philippines.\n",
    "\t* ID_0 : Unique ID 0\n",
    "\t* ISO : ISO Country Code\n",
    "\t* NAME_0 : Country Name\n",
    "\t* NAME_2 : Municipality or City Name\n",
    "\t* PROVINCE : Province Name\n",
    "\t* REGION : Regiona Name\n",
    "\t* geometry : Polygon, coordinates\n",
    "3. Foursquare Search API. We will use this dataset to provide us with with information of health related venues especially their location expressed in latitudes and longitudes. We will also use the categories as a filter. We will bash this data with the boundaries provided by the city geojson dataset above. The Foursquare Search API returns the following data:\n",
    "\t* id : A unique string identifier for this venue.\n",
    "\t* name : The best known name for this venue.\n",
    "\t* location : An object containing none, some, or all of address (street address), crossStreet, city, state, postalCode, country, lat, lng, and distance. All fields are strings, except for lat, lng, and distance. Distance is measured in meters. Some venues have their locations intentionally hidden for privacy reasons (such as private residences). If this is the case, the parameter isFuzzed will be set to true, and the lat/lng parameters will have reduced precision.\n",
    "\t* categories : An array, possibly empty, of categories that have been applied to this venue. One of the categories will have a primary field indicating that it is the primary category for the venue. For the complete category tree, see categories."
   ]
  },
  {
   "cell_type": "markdown",
   "metadata": {},
   "source": [
    "# Methodology\n",
    "section which represents the main component of the report where you discuss and describe any exploratory data analysis that you did, any inferential statistical testing that you performed, if any, and what machine learnings were used and why.\n",
    "\n",
    "We will use the CRISP-DM (Cross-Industry Process for Data Mining) methodology. The CRISP-DM methodology is well-proven methodology in data science. CRISP-DM loosely and iteratively follows six major phases:\n",
    "\n",
    "1. Business Understanding\n",
    "2. Data Understanding\n",
    "3. Data Preparation\n",
    "4. Modeling\n",
    "5. Evaluation\n",
    "6. Deployment\n",
    "\n",
    "As we have have covered #1 and #2 previously, we will continue with Data Preparation."
   ]
  },
  {
   "cell_type": "markdown",
   "metadata": {},
   "source": [
    "## Data Preparation"
   ]
  },
  {
   "cell_type": "markdown",
   "metadata": {},
   "source": [
    "### Loading Data"
   ]
  },
  {
   "cell_type": "markdown",
   "metadata": {},
   "source": [
    "1. We start by importing all necessary libraries and installing all dependencies for the project."
   ]
  },
  {
   "cell_type": "markdown",
   "metadata": {},
   "source": [
    "## plan\n",
    "\n",
    "- [Setup](#setup)\n",
    "    - import libraries\n",
    "- [Prepare data](#data_prep)\n",
    "    - DOH data\n",
    "        - explore\n",
    "        - clean\n",
    "        - select\n",
    "    - Poverty data\n",
    "        - explore\n",
    "        - clean\n",
    "        - select\n",
    "    - City index data\n",
    "        - explore\n",
    "        - clean\n",
    "        - select\n",
    "    - City Latlong\n",
    "        - load json\n",
    "        - explore\n",
    "        - clean\n",
    "        - select\n",
    "    - Merge data\n",
    "        - calculate case/pop as predicted variable\n",
    "        - calculate distance from manila as additional feature\n",
    "- Predict\n",
    "- Visualize"
   ]
  },
  {
   "cell_type": "code",
   "execution_count": null,
   "metadata": {},
   "outputs": [],
   "source": []
  },
  {
   "cell_type": "markdown",
   "metadata": {},
   "source": [
    "<a name=\"setup\"></a>\n",
    "### Setup"
   ]
  },
  {
   "cell_type": "markdown",
   "metadata": {},
   "source": [
    "<a name=\"import_lib\"></a>\n",
    "#### Import libraries"
   ]
  },
  {
   "cell_type": "code",
   "execution_count": 1,
   "metadata": {},
   "outputs": [
    {
     "name": "stdout",
     "output_type": "stream",
     "text": [
      "Libraries imported.\n"
     ]
    }
   ],
   "source": [
    "import numpy as np\n",
    "import pandas as pd\n",
    "import json5 as json # library to handle JSON files\n",
    "import requests\n",
    "from pandas.io.json import json_normalize # tranform JSON file into a pandas dataframe\n",
    "import matplotlib.cm as cm\n",
    "import matplotlib.colors as colors\n",
    "import folium # map rendering library\n",
    "import seaborn as sns\n",
    "\n",
    "#prep\n",
    "from sklearn.model_selection import train_test_split, GridSearchCV, RandomizedSearchCV\n",
    "from sklearn.preprocessing import LabelEncoder, StandardScaler, MaxAbsScaler, QuantileTransformer\n",
    "\n",
    "#models\n",
    "from sklearn.linear_model import LogisticRegression, LogisticRegressionCV, LinearRegression, Ridge, RidgeCV\n",
    "from sklearn.tree import DecisionTreeRegressor\n",
    "from sklearn.ensemble import RandomForestRegressor\n",
    "\n",
    "#validation libraries\n",
    "from sklearn.model_selection import KFold, StratifiedKFold\n",
    "from IPython.display import display\n",
    "from sklearn import metrics\n",
    "\n",
    "\n",
    "\n",
    "print('Libraries imported.')"
   ]
  },
  {
   "cell_type": "markdown",
   "metadata": {},
   "source": [
    "<a name='data_prep'></a>\n",
    "### Data Preparation"
   ]
  },
  {
   "cell_type": "markdown",
   "metadata": {},
   "source": [
    "#### DOH Data"
   ]
  },
  {
   "cell_type": "markdown",
   "metadata": {},
   "source": [
    "1. We define the columns and their proper data types."
   ]
  },
  {
   "cell_type": "code",
   "execution_count": 2,
   "metadata": {},
   "outputs": [],
   "source": [
    "#define column types\n",
    "col_types = {'Age' : 'float64', \n",
    "             'AgeGroup' : 'category', \n",
    "             'Sex' : 'category', \n",
    "             'RemovalType' : 'category', \n",
    "             'Admitted' : 'category', \n",
    "             'RegionRes' : 'category', \n",
    "             'ProvRes' : 'category', \n",
    "             'CityMunRes' : 'category', \n",
    "             'CityMuniPSGC' : 'category',\n",
    "             'BarangayRes' : 'category',\n",
    "             'BarangayPSGC' : 'category',\n",
    "             'HealthStatus' : 'category', \n",
    "             'Quarantined' : 'category', \n",
    "             'Pregnanttab' : 'category', \n",
    "             'ValidationStatus' : 'category'}\n",
    "col_date = [4, 5, 6, 7, 8, 19]"
   ]
  },
  {
   "cell_type": "markdown",
   "metadata": {},
   "source": [
    "3. We read the csv and load it into a data frame."
   ]
  },
  {
   "cell_type": "code",
   "execution_count": 3,
   "metadata": {},
   "outputs": [],
   "source": [
    "df = pd.read_csv(\"DOH COVID Data Drop_ 20201013 - 04 Case Information.csv\", dtype = col_types, parse_dates = col_date)"
   ]
  },
  {
   "cell_type": "markdown",
   "metadata": {},
   "source": [
    "##### Exploratory Data Analysis\n",
    "1. We do a quick check on the dataframe"
   ]
  },
  {
   "cell_type": "code",
   "execution_count": 4,
   "metadata": {},
   "outputs": [
    {
     "name": "stdout",
     "output_type": "stream",
     "text": [
      "<class 'pandas.core.frame.DataFrame'>\n",
      "RangeIndex: 344713 entries, 0 to 344712\n",
      "Data columns (total 22 columns):\n",
      " #   Column             Non-Null Count   Dtype         \n",
      "---  ------             --------------   -----         \n",
      " 0   CaseCode           344713 non-null  object        \n",
      " 1   Age                342504 non-null  float64       \n",
      " 2   AgeGroup           342504 non-null  category      \n",
      " 3   Sex                344713 non-null  category      \n",
      " 4   DateSpecimen       296568 non-null  datetime64[ns]\n",
      " 5   DateResultRelease  298652 non-null  datetime64[ns]\n",
      " 6   DateRepConf        344713 non-null  datetime64[ns]\n",
      " 7   DateDied           6334 non-null    datetime64[ns]\n",
      " 8   DateRecover        74015 non-null   datetime64[ns]\n",
      " 9   RemovalType        299755 non-null  category      \n",
      " 10  Admitted           344559 non-null  category      \n",
      " 11  RegionRes          340934 non-null  category      \n",
      " 12  ProvRes            319787 non-null  category      \n",
      " 13  CityMunRes         309212 non-null  category      \n",
      " 14  CityMuniPSGC       309212 non-null  category      \n",
      " 15  BarangayRes        116502 non-null  category      \n",
      " 16  BarangayPSGC       116502 non-null  category      \n",
      " 17  HealthStatus       344713 non-null  category      \n",
      " 18  Quarantined        344555 non-null  category      \n",
      " 19  DateOnset          107945 non-null  datetime64[ns]\n",
      " 20  Pregnanttab        154846 non-null  category      \n",
      " 21  ValidationStatus   229852 non-null  category      \n",
      "dtypes: category(14), datetime64[ns](6), float64(1), object(1)\n",
      "memory usage: 28.2+ MB\n"
     ]
    },
    {
     "data": {
      "text/html": [
       "<div>\n",
       "<style scoped>\n",
       "    .dataframe tbody tr th:only-of-type {\n",
       "        vertical-align: middle;\n",
       "    }\n",
       "\n",
       "    .dataframe tbody tr th {\n",
       "        vertical-align: top;\n",
       "    }\n",
       "\n",
       "    .dataframe thead th {\n",
       "        text-align: right;\n",
       "    }\n",
       "</style>\n",
       "<table border=\"1\" class=\"dataframe\">\n",
       "  <thead>\n",
       "    <tr style=\"text-align: right;\">\n",
       "      <th></th>\n",
       "      <th>CaseCode</th>\n",
       "      <th>Age</th>\n",
       "      <th>AgeGroup</th>\n",
       "      <th>Sex</th>\n",
       "      <th>DateSpecimen</th>\n",
       "      <th>DateResultRelease</th>\n",
       "      <th>DateRepConf</th>\n",
       "      <th>DateDied</th>\n",
       "      <th>DateRecover</th>\n",
       "      <th>RemovalType</th>\n",
       "      <th>...</th>\n",
       "      <th>ProvRes</th>\n",
       "      <th>CityMunRes</th>\n",
       "      <th>CityMuniPSGC</th>\n",
       "      <th>BarangayRes</th>\n",
       "      <th>BarangayPSGC</th>\n",
       "      <th>HealthStatus</th>\n",
       "      <th>Quarantined</th>\n",
       "      <th>DateOnset</th>\n",
       "      <th>Pregnanttab</th>\n",
       "      <th>ValidationStatus</th>\n",
       "    </tr>\n",
       "  </thead>\n",
       "  <tbody>\n",
       "    <tr>\n",
       "      <th>0</th>\n",
       "      <td>C900280</td>\n",
       "      <td>35.0</td>\n",
       "      <td>35 to 39</td>\n",
       "      <td>MALE</td>\n",
       "      <td>2020-07-03</td>\n",
       "      <td>2020-07-29</td>\n",
       "      <td>2020-08-05</td>\n",
       "      <td>NaT</td>\n",
       "      <td>NaT</td>\n",
       "      <td>RECOVERED</td>\n",
       "      <td>...</td>\n",
       "      <td>CAVITE</td>\n",
       "      <td>IMUS CITY</td>\n",
       "      <td>PH042109000</td>\n",
       "      <td>NaN</td>\n",
       "      <td>NaN</td>\n",
       "      <td>RECOVERED</td>\n",
       "      <td>NO</td>\n",
       "      <td>NaT</td>\n",
       "      <td>NaN</td>\n",
       "      <td>Removal Type is \"Recovered\", but no Recovered ...</td>\n",
       "    </tr>\n",
       "    <tr>\n",
       "      <th>1</th>\n",
       "      <td>C778257</td>\n",
       "      <td>32.0</td>\n",
       "      <td>30 to 34</td>\n",
       "      <td>FEMALE</td>\n",
       "      <td>2020-07-15</td>\n",
       "      <td>2020-07-17</td>\n",
       "      <td>2020-07-20</td>\n",
       "      <td>NaT</td>\n",
       "      <td>NaT</td>\n",
       "      <td>RECOVERED</td>\n",
       "      <td>...</td>\n",
       "      <td>COTABATO CITY (NOT A PROVINCE)</td>\n",
       "      <td>NaN</td>\n",
       "      <td>NaN</td>\n",
       "      <td>NaN</td>\n",
       "      <td>NaN</td>\n",
       "      <td>RECOVERED</td>\n",
       "      <td>NO</td>\n",
       "      <td>NaT</td>\n",
       "      <td>NO</td>\n",
       "      <td>Removal Type is \"Recovered\", but no Recovered ...</td>\n",
       "    </tr>\n",
       "    <tr>\n",
       "      <th>2</th>\n",
       "      <td>C778303</td>\n",
       "      <td>54.0</td>\n",
       "      <td>50 to 54</td>\n",
       "      <td>MALE</td>\n",
       "      <td>2020-07-24</td>\n",
       "      <td>2020-07-29</td>\n",
       "      <td>2020-08-02</td>\n",
       "      <td>NaT</td>\n",
       "      <td>NaT</td>\n",
       "      <td>RECOVERED</td>\n",
       "      <td>...</td>\n",
       "      <td>NCR</td>\n",
       "      <td>CITY OF MANILA</td>\n",
       "      <td>PH133901000</td>\n",
       "      <td>NaN</td>\n",
       "      <td>NaN</td>\n",
       "      <td>RECOVERED</td>\n",
       "      <td>NO</td>\n",
       "      <td>NaT</td>\n",
       "      <td>NaN</td>\n",
       "      <td>Health Status is \"Recovered\", but no Date Reco...</td>\n",
       "    </tr>\n",
       "    <tr>\n",
       "      <th>3</th>\n",
       "      <td>C928860</td>\n",
       "      <td>33.0</td>\n",
       "      <td>30 to 34</td>\n",
       "      <td>MALE</td>\n",
       "      <td>NaT</td>\n",
       "      <td>NaT</td>\n",
       "      <td>2020-06-01</td>\n",
       "      <td>NaT</td>\n",
       "      <td>NaT</td>\n",
       "      <td>RECOVERED</td>\n",
       "      <td>...</td>\n",
       "      <td>NaN</td>\n",
       "      <td>NaN</td>\n",
       "      <td>NaN</td>\n",
       "      <td>NaN</td>\n",
       "      <td>NaN</td>\n",
       "      <td>RECOVERED</td>\n",
       "      <td>YES</td>\n",
       "      <td>NaT</td>\n",
       "      <td>NaN</td>\n",
       "      <td>Health Status is \"Recovered\", but no Date Reco...</td>\n",
       "    </tr>\n",
       "    <tr>\n",
       "      <th>4</th>\n",
       "      <td>C620602</td>\n",
       "      <td>1.0</td>\n",
       "      <td>0 to 4</td>\n",
       "      <td>FEMALE</td>\n",
       "      <td>2020-07-13</td>\n",
       "      <td>2020-07-16</td>\n",
       "      <td>2020-07-30</td>\n",
       "      <td>NaT</td>\n",
       "      <td>2020-07-30</td>\n",
       "      <td>RECOVERED</td>\n",
       "      <td>...</td>\n",
       "      <td>NCR</td>\n",
       "      <td>NaN</td>\n",
       "      <td>NaN</td>\n",
       "      <td>NaN</td>\n",
       "      <td>NaN</td>\n",
       "      <td>RECOVERED</td>\n",
       "      <td>NO</td>\n",
       "      <td>NaT</td>\n",
       "      <td>NO</td>\n",
       "      <td>NaN</td>\n",
       "    </tr>\n",
       "  </tbody>\n",
       "</table>\n",
       "<p>5 rows × 22 columns</p>\n",
       "</div>"
      ],
      "text/plain": [
       "  CaseCode   Age  AgeGroup     Sex DateSpecimen DateResultRelease DateRepConf  \\\n",
       "0  C900280  35.0  35 to 39    MALE   2020-07-03        2020-07-29  2020-08-05   \n",
       "1  C778257  32.0  30 to 34  FEMALE   2020-07-15        2020-07-17  2020-07-20   \n",
       "2  C778303  54.0  50 to 54    MALE   2020-07-24        2020-07-29  2020-08-02   \n",
       "3  C928860  33.0  30 to 34    MALE          NaT               NaT  2020-06-01   \n",
       "4  C620602   1.0    0 to 4  FEMALE   2020-07-13        2020-07-16  2020-07-30   \n",
       "\n",
       "  DateDied DateRecover RemovalType  ...                         ProvRes  \\\n",
       "0      NaT         NaT   RECOVERED  ...                          CAVITE   \n",
       "1      NaT         NaT   RECOVERED  ...  COTABATO CITY (NOT A PROVINCE)   \n",
       "2      NaT         NaT   RECOVERED  ...                             NCR   \n",
       "3      NaT         NaT   RECOVERED  ...                             NaN   \n",
       "4      NaT  2020-07-30   RECOVERED  ...                             NCR   \n",
       "\n",
       "       CityMunRes CityMuniPSGC BarangayRes BarangayPSGC HealthStatus  \\\n",
       "0       IMUS CITY  PH042109000         NaN          NaN    RECOVERED   \n",
       "1             NaN          NaN         NaN          NaN    RECOVERED   \n",
       "2  CITY OF MANILA  PH133901000         NaN          NaN    RECOVERED   \n",
       "3             NaN          NaN         NaN          NaN    RECOVERED   \n",
       "4             NaN          NaN         NaN          NaN    RECOVERED   \n",
       "\n",
       "  Quarantined DateOnset Pregnanttab  \\\n",
       "0          NO       NaT         NaN   \n",
       "1          NO       NaT          NO   \n",
       "2          NO       NaT         NaN   \n",
       "3         YES       NaT         NaN   \n",
       "4          NO       NaT          NO   \n",
       "\n",
       "                                    ValidationStatus  \n",
       "0  Removal Type is \"Recovered\", but no Recovered ...  \n",
       "1  Removal Type is \"Recovered\", but no Recovered ...  \n",
       "2  Health Status is \"Recovered\", but no Date Reco...  \n",
       "3  Health Status is \"Recovered\", but no Date Reco...  \n",
       "4                                                NaN  \n",
       "\n",
       "[5 rows x 22 columns]"
      ]
     },
     "execution_count": 4,
     "metadata": {},
     "output_type": "execute_result"
    }
   ],
   "source": [
    "#check our dataframe\n",
    "df.info()\n",
    "df.head()\n"
   ]
  },
  {
   "cell_type": "code",
   "execution_count": 5,
   "metadata": {},
   "outputs": [
    {
     "data": {
      "text/plain": [
       "CaseCode             344713\n",
       "Age                     104\n",
       "AgeGroup                 17\n",
       "Sex                       2\n",
       "DateSpecimen            225\n",
       "DateResultRelease       224\n",
       "DateRepConf             225\n",
       "DateDied                217\n",
       "DateRecover             223\n",
       "RemovalType               2\n",
       "Admitted                  2\n",
       "RegionRes                18\n",
       "ProvRes                  84\n",
       "CityMunRes             1360\n",
       "CityMuniPSGC           1561\n",
       "BarangayRes            8784\n",
       "BarangayPSGC          12338\n",
       "HealthStatus              6\n",
       "Quarantined               2\n",
       "DateOnset               227\n",
       "Pregnanttab               2\n",
       "ValidationStatus        502\n",
       "dtype: int64"
      ]
     },
     "execution_count": 5,
     "metadata": {},
     "output_type": "execute_result"
    }
   ],
   "source": [
    "#determine unique values per column\n",
    "df.nunique(axis=0)"
   ]
  },
  {
   "cell_type": "markdown",
   "metadata": {},
   "source": [
    "2. Since our study wants to see if certain city statistic predicts cases, we will limit our variables to cases and cities, i.e CityMuniPSGC"
   ]
  },
  {
   "cell_type": "code",
   "execution_count": 6,
   "metadata": {},
   "outputs": [],
   "source": [
    "df1 = df"
   ]
  },
  {
   "cell_type": "code",
   "execution_count": 7,
   "metadata": {},
   "outputs": [],
   "source": [
    "df1 = df1[['CaseCode','DateRepConf','CityMuniPSGC']]"
   ]
  },
  {
   "cell_type": "markdown",
   "metadata": {},
   "source": [
    "3. We drop the rows where we can't identify the cities"
   ]
  },
  {
   "cell_type": "code",
   "execution_count": 8,
   "metadata": {},
   "outputs": [],
   "source": [
    "#drop Nan cities\n",
    "df1 = df1.loc[-df1.CityMuniPSGC.isna(),:]"
   ]
  },
  {
   "cell_type": "markdown",
   "metadata": {},
   "source": [
    "4. For consistency, we rename CityMuniPSGC column to PSGC, which stands for Philippine Standard Geographic Code."
   ]
  },
  {
   "cell_type": "code",
   "execution_count": 9,
   "metadata": {},
   "outputs": [],
   "source": [
    "df1 = df1.rename(columns={\"CityMuniPSGC\": \"PSGC\"})"
   ]
  },
  {
   "cell_type": "markdown",
   "metadata": {},
   "source": [
    "5. Then we group the dataframe into cities are represented by PSGC and count the cases."
   ]
  },
  {
   "cell_type": "code",
   "execution_count": 10,
   "metadata": {},
   "outputs": [],
   "source": [
    "df_cases_by_city = df1.groupby(['PSGC'])['CaseCode'].count().reset_index()"
   ]
  },
  {
   "cell_type": "markdown",
   "metadata": {},
   "source": [
    "6. Then we transform PSGC to standard nine-digit code for consistency"
   ]
  },
  {
   "cell_type": "code",
   "execution_count": 11,
   "metadata": {},
   "outputs": [
    {
     "name": "stdout",
     "output_type": "stream",
     "text": [
      "<class 'pandas.core.frame.DataFrame'>\n",
      "Index: 1561 entries, 012802000 to 175917000\n",
      "Data columns (total 1 columns):\n",
      " #   Column  Non-Null Count  Dtype\n",
      "---  ------  --------------  -----\n",
      " 0   Cases   1561 non-null   int64\n",
      "dtypes: int64(1)\n",
      "memory usage: 24.4+ KB\n"
     ]
    }
   ],
   "source": [
    "df_cases_by_city.PSGC = df_cases_by_city.PSGC.str.replace('PH','')\n",
    "df_cases_by_city.rename(columns={\"CaseCode\": \"Cases\"}, inplace = True)\n",
    "df_cases_by_city.sort_values('PSGC', inplace = True)\n",
    "df_cases_by_city.set_index('PSGC', inplace = True)\n",
    "#check\n",
    "df_cases_by_city.info()"
   ]
  },
  {
   "cell_type": "markdown",
   "metadata": {},
   "source": [
    "### Poverty data"
   ]
  },
  {
   "cell_type": "code",
   "execution_count": 12,
   "metadata": {},
   "outputs": [],
   "source": [
    "#read city stats\n",
    "df2 = pd.read_csv('City and Municipal-level Small Area Poverty Estimates_ 2009, 2012 and 2015_0.csv',\n",
    "                  skiprows = [0,1,2,3,4],\n",
    "                  encoding = \"ISO-8859-1\",\n",
    "                  names = ['PSGC_ID','Poverty Incidence'],\n",
    "                  usecols = [0,5],\n",
    "                  dtype = {'PSGC_ID':'object','Poverty Incidence':np.float16})"
   ]
  },
  {
   "cell_type": "code",
   "execution_count": 13,
   "metadata": {},
   "outputs": [],
   "source": [
    "#drop NaN indexes\n",
    "df2 = df2.loc[df2.index.dropna()]"
   ]
  },
  {
   "cell_type": "code",
   "execution_count": 14,
   "metadata": {},
   "outputs": [],
   "source": [
    "#drop other invalid rows\n",
    "df2 = df2.loc[-df2.PSGC_ID.isna()]"
   ]
  },
  {
   "cell_type": "code",
   "execution_count": 15,
   "metadata": {},
   "outputs": [
    {
     "name": "stdout",
     "output_type": "stream",
     "text": [
      "<class 'pandas.core.frame.DataFrame'>\n",
      "Index: 1644 entries, 012801000 to 175917000\n",
      "Data columns (total 1 columns):\n",
      " #   Column             Non-Null Count  Dtype  \n",
      "---  ------             --------------  -----  \n",
      " 0   Poverty Incidence  1644 non-null   float16\n",
      "dtypes: float16(1)\n",
      "memory usage: 16.1+ KB\n"
     ]
    }
   ],
   "source": [
    "df2['PSGC'] = df2.PSGC_ID.str.zfill(6)\n",
    "df2['PSGC'] = df2.PSGC.str.ljust(9, '0')\n",
    "df2.sort_values('PSGC', inplace = True)\n",
    "df2.drop('PSGC_ID', axis =1, inplace = True)\n",
    "df2.set_index('PSGC', inplace = True)\n",
    "df2.sort_index(inplace = True)\n",
    "#check\n",
    "df2.info()"
   ]
  },
  {
   "cell_type": "markdown",
   "metadata": {},
   "source": [
    "### City index data"
   ]
  },
  {
   "cell_type": "code",
   "execution_count": 16,
   "metadata": {},
   "outputs": [],
   "source": [
    "#load city data\n",
    "df3 = pd.read_excel('PSGC 2Q 2020 Publication.xlsx',\n",
    "                    sheet_name = 'PSGC',\n",
    "                    usecols = [i for i in range(7)],\n",
    "                    names = ['PSGC',\n",
    "                             'Name',\n",
    "                             'Geographic Level',\n",
    "                             'City Class',\n",
    "                             'Income Classification',\n",
    "                             'Urban Rural',\n",
    "                             'Population'])"
   ]
  },
  {
   "cell_type": "code",
   "execution_count": 17,
   "metadata": {},
   "outputs": [],
   "source": [
    "#filter to only include cities, municipalities and sub municipalities\n",
    "df3 = df3[df3['Geographic Level'].isin(['City','Mun','SubMun'])]"
   ]
  },
  {
   "cell_type": "code",
   "execution_count": 18,
   "metadata": {},
   "outputs": [],
   "source": [
    "#replace NaNs with UNK\n",
    "df3 = df3.fillna('UNK')"
   ]
  },
  {
   "cell_type": "code",
   "execution_count": 19,
   "metadata": {},
   "outputs": [
    {
     "name": "stdout",
     "output_type": "stream",
     "text": [
      "<class 'pandas.core.frame.DataFrame'>\n",
      "Int64Index: 1648 entries, 2 to 43788\n",
      "Data columns (total 7 columns):\n",
      " #   Column                 Non-Null Count  Dtype \n",
      "---  ------                 --------------  ----- \n",
      " 0   PSGC                   1648 non-null   int64 \n",
      " 1   Name                   1648 non-null   object\n",
      " 2   Geographic Level       1648 non-null   object\n",
      " 3   City Class             1648 non-null   object\n",
      " 4   Income Classification  1648 non-null   object\n",
      " 5   Urban Rural            1648 non-null   object\n",
      " 6   Population             1648 non-null   int64 \n",
      "dtypes: int64(2), object(5)\n",
      "memory usage: 103.0+ KB\n"
     ]
    }
   ],
   "source": [
    "df3.info()"
   ]
  },
  {
   "cell_type": "code",
   "execution_count": 20,
   "metadata": {},
   "outputs": [
    {
     "data": {
      "text/plain": [
       "PSGC                     1648\n",
       "Name                     1445\n",
       "Geographic Level            3\n",
       "City Class                  4\n",
       "Income Classification      17\n",
       "Urban Rural                 1\n",
       "Population               1636\n",
       "dtype: int64"
      ]
     },
     "execution_count": 20,
     "metadata": {},
     "output_type": "execute_result"
    }
   ],
   "source": [
    "df3.nunique()"
   ]
  },
  {
   "cell_type": "code",
   "execution_count": 21,
   "metadata": {},
   "outputs": [
    {
     "data": {
      "text/plain": [
       "array(['Mun', 'City', 'SubMun'], dtype=object)"
      ]
     },
     "execution_count": 21,
     "metadata": {},
     "output_type": "execute_result"
    }
   ],
   "source": [
    "df3['Geographic Level'].unique()"
   ]
  },
  {
   "cell_type": "code",
   "execution_count": 22,
   "metadata": {},
   "outputs": [
    {
     "data": {
      "text/plain": [
       "array(['UNK', 'CC', 'ICC', 'HUC'], dtype=object)"
      ]
     },
     "execution_count": 22,
     "metadata": {},
     "output_type": "execute_result"
    }
   ],
   "source": [
    "df3['City Class'].unique()"
   ]
  },
  {
   "cell_type": "code",
   "execution_count": 23,
   "metadata": {},
   "outputs": [
    {
     "data": {
      "text/plain": [
       "array(['5th', '3rd', '4th', '2nd', '1st', '6th', '1st (as Mun)', '3rd*',\n",
       "       '4th*', '5th*', '1st*', '2nd*', '6th*', '1st* (reclass 2005)',\n",
       "       'Special', 'UNK', '-'], dtype=object)"
      ]
     },
     "execution_count": 23,
     "metadata": {},
     "output_type": "execute_result"
    }
   ],
   "source": [
    "df3['Income Classification'].unique()"
   ]
  },
  {
   "cell_type": "code",
   "execution_count": 24,
   "metadata": {},
   "outputs": [
    {
     "data": {
      "text/plain": [
       "array(['UNK'], dtype=object)"
      ]
     },
     "execution_count": 24,
     "metadata": {},
     "output_type": "execute_result"
    }
   ],
   "source": [
    "df3['Urban Rural'].unique()"
   ]
  },
  {
   "cell_type": "code",
   "execution_count": 25,
   "metadata": {},
   "outputs": [],
   "source": [
    "df3['Income Classification'] = df3['Income Classification'].str.replace(r'\\*.*','')"
   ]
  },
  {
   "cell_type": "code",
   "execution_count": 26,
   "metadata": {},
   "outputs": [],
   "source": [
    "df3['Income Classification'] = df3['Income Classification'].str.replace(r' .*','')"
   ]
  },
  {
   "cell_type": "code",
   "execution_count": 27,
   "metadata": {},
   "outputs": [],
   "source": [
    "df3['Income Classification'] = df3['Income Classification'].str.replace('-','UNK')"
   ]
  },
  {
   "cell_type": "code",
   "execution_count": 28,
   "metadata": {},
   "outputs": [],
   "source": [
    "df3.drop('Urban Rural', axis =1, inplace = True)"
   ]
  },
  {
   "cell_type": "code",
   "execution_count": 29,
   "metadata": {},
   "outputs": [],
   "source": [
    "df3.PSGC = df3.PSGC.astype('str')"
   ]
  },
  {
   "cell_type": "code",
   "execution_count": 30,
   "metadata": {},
   "outputs": [],
   "source": [
    "df3.PSGC = df3.PSGC.str.zfill(9)"
   ]
  },
  {
   "cell_type": "code",
   "execution_count": 31,
   "metadata": {},
   "outputs": [],
   "source": [
    "df3 = df3.astype(dtype = {'PSGC':'category', 'Name':'category',\n",
    "                    'Geographic Level':'category',\n",
    "                    'City Class':'category',\n",
    "                    'Income Classification':'category'})"
   ]
  },
  {
   "cell_type": "code",
   "execution_count": 32,
   "metadata": {},
   "outputs": [],
   "source": [
    "df3.sort_values('PSGC', inplace = True)"
   ]
  },
  {
   "cell_type": "code",
   "execution_count": 33,
   "metadata": {},
   "outputs": [],
   "source": [
    "df3.set_index('PSGC', inplace = True)"
   ]
  },
  {
   "cell_type": "code",
   "execution_count": 34,
   "metadata": {},
   "outputs": [],
   "source": [
    "df3.sort_index(inplace = True)"
   ]
  },
  {
   "cell_type": "code",
   "execution_count": 35,
   "metadata": {},
   "outputs": [
    {
     "name": "stdout",
     "output_type": "stream",
     "text": [
      "<class 'pandas.core.frame.DataFrame'>\n",
      "CategoricalIndex: 1648 entries, 012801000 to 175917000\n",
      "Data columns (total 5 columns):\n",
      " #   Column                 Non-Null Count  Dtype   \n",
      "---  ------                 --------------  -----   \n",
      " 0   Name                   1648 non-null   category\n",
      " 1   Geographic Level       1648 non-null   category\n",
      " 2   City Class             1648 non-null   category\n",
      " 3   Income Classification  1648 non-null   category\n",
      " 4   Population             1648 non-null   int64   \n",
      "dtypes: category(4), int64(1)\n",
      "memory usage: 169.0 KB\n"
     ]
    }
   ],
   "source": [
    "df3.info()"
   ]
  },
  {
   "cell_type": "code",
   "execution_count": 36,
   "metadata": {},
   "outputs": [
    {
     "data": {
      "text/html": [
       "<div>\n",
       "<style scoped>\n",
       "    .dataframe tbody tr th:only-of-type {\n",
       "        vertical-align: middle;\n",
       "    }\n",
       "\n",
       "    .dataframe tbody tr th {\n",
       "        vertical-align: top;\n",
       "    }\n",
       "\n",
       "    .dataframe thead th {\n",
       "        text-align: right;\n",
       "    }\n",
       "</style>\n",
       "<table border=\"1\" class=\"dataframe\">\n",
       "  <thead>\n",
       "    <tr style=\"text-align: right;\">\n",
       "      <th></th>\n",
       "      <th>Name</th>\n",
       "      <th>Geographic Level</th>\n",
       "      <th>City Class</th>\n",
       "      <th>Income Classification</th>\n",
       "      <th>Population</th>\n",
       "    </tr>\n",
       "    <tr>\n",
       "      <th>PSGC</th>\n",
       "      <th></th>\n",
       "      <th></th>\n",
       "      <th></th>\n",
       "      <th></th>\n",
       "      <th></th>\n",
       "    </tr>\n",
       "  </thead>\n",
       "  <tbody>\n",
       "    <tr>\n",
       "      <th>012801000</th>\n",
       "      <td>ADAMS</td>\n",
       "      <td>Mun</td>\n",
       "      <td>UNK</td>\n",
       "      <td>5th</td>\n",
       "      <td>1792</td>\n",
       "    </tr>\n",
       "    <tr>\n",
       "      <th>012802000</th>\n",
       "      <td>BACARRA</td>\n",
       "      <td>Mun</td>\n",
       "      <td>UNK</td>\n",
       "      <td>3rd</td>\n",
       "      <td>32215</td>\n",
       "    </tr>\n",
       "    <tr>\n",
       "      <th>012803000</th>\n",
       "      <td>BADOC</td>\n",
       "      <td>Mun</td>\n",
       "      <td>UNK</td>\n",
       "      <td>3rd</td>\n",
       "      <td>31616</td>\n",
       "    </tr>\n",
       "    <tr>\n",
       "      <th>012804000</th>\n",
       "      <td>BANGUI</td>\n",
       "      <td>Mun</td>\n",
       "      <td>UNK</td>\n",
       "      <td>4th</td>\n",
       "      <td>14672</td>\n",
       "    </tr>\n",
       "    <tr>\n",
       "      <th>012805000</th>\n",
       "      <td>CITY OF BATAC</td>\n",
       "      <td>City</td>\n",
       "      <td>CC</td>\n",
       "      <td>5th</td>\n",
       "      <td>55201</td>\n",
       "    </tr>\n",
       "  </tbody>\n",
       "</table>\n",
       "</div>"
      ],
      "text/plain": [
       "                    Name Geographic Level City Class Income Classification  \\\n",
       "PSGC                                                                         \n",
       "012801000          ADAMS              Mun        UNK                   5th   \n",
       "012802000        BACARRA              Mun        UNK                   3rd   \n",
       "012803000          BADOC              Mun        UNK                   3rd   \n",
       "012804000         BANGUI              Mun        UNK                   4th   \n",
       "012805000  CITY OF BATAC             City         CC                   5th   \n",
       "\n",
       "           Population  \n",
       "PSGC                   \n",
       "012801000        1792  \n",
       "012802000       32215  \n",
       "012803000       31616  \n",
       "012804000       14672  \n",
       "012805000       55201  "
      ]
     },
     "execution_count": 36,
     "metadata": {},
     "output_type": "execute_result"
    }
   ],
   "source": [
    "df3.head()"
   ]
  },
  {
   "cell_type": "markdown",
   "metadata": {},
   "source": [
    "### Merge data"
   ]
  },
  {
   "cell_type": "code",
   "execution_count": 37,
   "metadata": {},
   "outputs": [],
   "source": [
    "df4 = df_cases_by_city"
   ]
  },
  {
   "cell_type": "code",
   "execution_count": 38,
   "metadata": {},
   "outputs": [],
   "source": [
    "df4 = df4.merge(df3, how = 'left', left_index=True, right_index=True)"
   ]
  },
  {
   "cell_type": "code",
   "execution_count": 39,
   "metadata": {},
   "outputs": [],
   "source": [
    "df4 = df4.merge(df2, how = 'left', left_index=True, right_index=True)"
   ]
  },
  {
   "cell_type": "code",
   "execution_count": 40,
   "metadata": {},
   "outputs": [
    {
     "data": {
      "text/html": [
       "<div>\n",
       "<style scoped>\n",
       "    .dataframe tbody tr th:only-of-type {\n",
       "        vertical-align: middle;\n",
       "    }\n",
       "\n",
       "    .dataframe tbody tr th {\n",
       "        vertical-align: top;\n",
       "    }\n",
       "\n",
       "    .dataframe thead th {\n",
       "        text-align: right;\n",
       "    }\n",
       "</style>\n",
       "<table border=\"1\" class=\"dataframe\">\n",
       "  <thead>\n",
       "    <tr style=\"text-align: right;\">\n",
       "      <th></th>\n",
       "      <th>Cases</th>\n",
       "      <th>Name</th>\n",
       "      <th>Geographic Level</th>\n",
       "      <th>City Class</th>\n",
       "      <th>Income Classification</th>\n",
       "      <th>Population</th>\n",
       "      <th>Poverty Incidence</th>\n",
       "    </tr>\n",
       "    <tr>\n",
       "      <th>PSGC</th>\n",
       "      <th></th>\n",
       "      <th></th>\n",
       "      <th></th>\n",
       "      <th></th>\n",
       "      <th></th>\n",
       "      <th></th>\n",
       "      <th></th>\n",
       "    </tr>\n",
       "  </thead>\n",
       "  <tbody>\n",
       "    <tr>\n",
       "      <th>012802000</th>\n",
       "      <td>4</td>\n",
       "      <td>BACARRA</td>\n",
       "      <td>Mun</td>\n",
       "      <td>UNK</td>\n",
       "      <td>3rd</td>\n",
       "      <td>32215.0</td>\n",
       "      <td>7.500000</td>\n",
       "    </tr>\n",
       "    <tr>\n",
       "      <th>012803000</th>\n",
       "      <td>8</td>\n",
       "      <td>BADOC</td>\n",
       "      <td>Mun</td>\n",
       "      <td>UNK</td>\n",
       "      <td>3rd</td>\n",
       "      <td>31616.0</td>\n",
       "      <td>10.703125</td>\n",
       "    </tr>\n",
       "    <tr>\n",
       "      <th>012804000</th>\n",
       "      <td>7</td>\n",
       "      <td>BANGUI</td>\n",
       "      <td>Mun</td>\n",
       "      <td>UNK</td>\n",
       "      <td>4th</td>\n",
       "      <td>14672.0</td>\n",
       "      <td>8.500000</td>\n",
       "    </tr>\n",
       "    <tr>\n",
       "      <th>012805000</th>\n",
       "      <td>16</td>\n",
       "      <td>CITY OF BATAC</td>\n",
       "      <td>City</td>\n",
       "      <td>CC</td>\n",
       "      <td>5th</td>\n",
       "      <td>55201.0</td>\n",
       "      <td>7.800781</td>\n",
       "    </tr>\n",
       "    <tr>\n",
       "      <th>012806000</th>\n",
       "      <td>4</td>\n",
       "      <td>BURGOS</td>\n",
       "      <td>Mun</td>\n",
       "      <td>UNK</td>\n",
       "      <td>5th</td>\n",
       "      <td>9777.0</td>\n",
       "      <td>8.398438</td>\n",
       "    </tr>\n",
       "    <tr>\n",
       "      <th>...</th>\n",
       "      <td>...</td>\n",
       "      <td>...</td>\n",
       "      <td>...</td>\n",
       "      <td>...</td>\n",
       "      <td>...</td>\n",
       "      <td>...</td>\n",
       "      <td>...</td>\n",
       "    </tr>\n",
       "    <tr>\n",
       "      <th>175913000</th>\n",
       "      <td>13</td>\n",
       "      <td>SAN FERNANDO</td>\n",
       "      <td>Mun</td>\n",
       "      <td>UNK</td>\n",
       "      <td>4th</td>\n",
       "      <td>23271.0</td>\n",
       "      <td>37.687500</td>\n",
       "    </tr>\n",
       "    <tr>\n",
       "      <th>175914000</th>\n",
       "      <td>1</td>\n",
       "      <td>SAN JOSE</td>\n",
       "      <td>Mun</td>\n",
       "      <td>UNK</td>\n",
       "      <td>5th</td>\n",
       "      <td>10881.0</td>\n",
       "      <td>33.906250</td>\n",
       "    </tr>\n",
       "    <tr>\n",
       "      <th>175915000</th>\n",
       "      <td>1</td>\n",
       "      <td>SANTA FE</td>\n",
       "      <td>Mun</td>\n",
       "      <td>UNK</td>\n",
       "      <td>5th</td>\n",
       "      <td>16098.0</td>\n",
       "      <td>32.687500</td>\n",
       "    </tr>\n",
       "    <tr>\n",
       "      <th>175916000</th>\n",
       "      <td>2</td>\n",
       "      <td>FERROL</td>\n",
       "      <td>Mun</td>\n",
       "      <td>UNK</td>\n",
       "      <td>6th</td>\n",
       "      <td>6964.0</td>\n",
       "      <td>33.187500</td>\n",
       "    </tr>\n",
       "    <tr>\n",
       "      <th>175917000</th>\n",
       "      <td>3</td>\n",
       "      <td>SANTA MARIA (IMELDA)</td>\n",
       "      <td>Mun</td>\n",
       "      <td>UNK</td>\n",
       "      <td>5th</td>\n",
       "      <td>8508.0</td>\n",
       "      <td>29.796875</td>\n",
       "    </tr>\n",
       "  </tbody>\n",
       "</table>\n",
       "<p>1561 rows × 7 columns</p>\n",
       "</div>"
      ],
      "text/plain": [
       "           Cases                  Name Geographic Level City Class  \\\n",
       "PSGC                                                                 \n",
       "012802000      4               BACARRA              Mun        UNK   \n",
       "012803000      8                 BADOC              Mun        UNK   \n",
       "012804000      7                BANGUI              Mun        UNK   \n",
       "012805000     16         CITY OF BATAC             City         CC   \n",
       "012806000      4                BURGOS              Mun        UNK   \n",
       "...          ...                   ...              ...        ...   \n",
       "175913000     13          SAN FERNANDO              Mun        UNK   \n",
       "175914000      1              SAN JOSE              Mun        UNK   \n",
       "175915000      1              SANTA FE              Mun        UNK   \n",
       "175916000      2                FERROL              Mun        UNK   \n",
       "175917000      3  SANTA MARIA (IMELDA)              Mun        UNK   \n",
       "\n",
       "          Income Classification  Population  Poverty Incidence  \n",
       "PSGC                                                            \n",
       "012802000                   3rd     32215.0           7.500000  \n",
       "012803000                   3rd     31616.0          10.703125  \n",
       "012804000                   4th     14672.0           8.500000  \n",
       "012805000                   5th     55201.0           7.800781  \n",
       "012806000                   5th      9777.0           8.398438  \n",
       "...                         ...         ...                ...  \n",
       "175913000                   4th     23271.0          37.687500  \n",
       "175914000                   5th     10881.0          33.906250  \n",
       "175915000                   5th     16098.0          32.687500  \n",
       "175916000                   6th      6964.0          33.187500  \n",
       "175917000                   5th      8508.0          29.796875  \n",
       "\n",
       "[1561 rows x 7 columns]"
      ]
     },
     "execution_count": 40,
     "metadata": {},
     "output_type": "execute_result"
    }
   ],
   "source": [
    "df4"
   ]
  },
  {
   "cell_type": "markdown",
   "metadata": {},
   "source": [
    "#### calculate case/pop as predicted variable\n",
    "calculate distance from manila as additional feature"
   ]
  },
  {
   "cell_type": "code",
   "execution_count": 41,
   "metadata": {},
   "outputs": [],
   "source": [
    "df4['Case Per Capita'] = df4.Cases/df4.Population"
   ]
  },
  {
   "cell_type": "code",
   "execution_count": 42,
   "metadata": {},
   "outputs": [],
   "source": [
    "df4.dropna(axis=0, how='any', thresh=None, subset=None, inplace=True)"
   ]
  },
  {
   "cell_type": "code",
   "execution_count": 43,
   "metadata": {},
   "outputs": [
    {
     "data": {
      "text/plain": [
       "(1556, 8)"
      ]
     },
     "execution_count": 43,
     "metadata": {},
     "output_type": "execute_result"
    }
   ],
   "source": [
    "df4.shape"
   ]
  },
  {
   "cell_type": "markdown",
   "metadata": {},
   "source": [
    "### Exploratory Data Analysis\n",
    "So now we have a dataset of cities and municipalities with feature statistics like city class, income classification, population and poverty incidences as possible predictors of cases per capita."
   ]
  },
  {
   "cell_type": "code",
   "execution_count": 44,
   "metadata": {},
   "outputs": [
    {
     "data": {
      "text/html": [
       "<div>\n",
       "<style scoped>\n",
       "    .dataframe tbody tr th:only-of-type {\n",
       "        vertical-align: middle;\n",
       "    }\n",
       "\n",
       "    .dataframe tbody tr th {\n",
       "        vertical-align: top;\n",
       "    }\n",
       "\n",
       "    .dataframe thead th {\n",
       "        text-align: right;\n",
       "    }\n",
       "</style>\n",
       "<table border=\"1\" class=\"dataframe\">\n",
       "  <thead>\n",
       "    <tr style=\"text-align: right;\">\n",
       "      <th></th>\n",
       "      <th>Cases</th>\n",
       "      <th>Name</th>\n",
       "      <th>Geographic Level</th>\n",
       "      <th>City Class</th>\n",
       "      <th>Income Classification</th>\n",
       "      <th>Population</th>\n",
       "      <th>Poverty Incidence</th>\n",
       "      <th>Case Per Capita</th>\n",
       "    </tr>\n",
       "    <tr>\n",
       "      <th>PSGC</th>\n",
       "      <th></th>\n",
       "      <th></th>\n",
       "      <th></th>\n",
       "      <th></th>\n",
       "      <th></th>\n",
       "      <th></th>\n",
       "      <th></th>\n",
       "      <th></th>\n",
       "    </tr>\n",
       "  </thead>\n",
       "  <tbody>\n",
       "    <tr>\n",
       "      <th>133908000</th>\n",
       "      <td>542</td>\n",
       "      <td>ERMITA</td>\n",
       "      <td>SubMun</td>\n",
       "      <td>UNK</td>\n",
       "      <td>UNK</td>\n",
       "      <td>10523.0</td>\n",
       "      <td>5.300781</td>\n",
       "      <td>0.051506</td>\n",
       "    </tr>\n",
       "    <tr>\n",
       "      <th>133902000</th>\n",
       "      <td>547</td>\n",
       "      <td>BINONDO</td>\n",
       "      <td>SubMun</td>\n",
       "      <td>UNK</td>\n",
       "      <td>UNK</td>\n",
       "      <td>18040.0</td>\n",
       "      <td>3.500000</td>\n",
       "      <td>0.030322</td>\n",
       "    </tr>\n",
       "    <tr>\n",
       "      <th>137405000</th>\n",
       "      <td>3211</td>\n",
       "      <td>CITY OF SAN JUAN</td>\n",
       "      <td>City</td>\n",
       "      <td>HUC</td>\n",
       "      <td>1st</td>\n",
       "      <td>122180.0</td>\n",
       "      <td>2.400391</td>\n",
       "      <td>0.026281</td>\n",
       "    </tr>\n",
       "    <tr>\n",
       "      <th>137606000</th>\n",
       "      <td>1668</td>\n",
       "      <td>PATEROS</td>\n",
       "      <td>Mun</td>\n",
       "      <td>UNK</td>\n",
       "      <td>1st</td>\n",
       "      <td>63840.0</td>\n",
       "      <td>2.500000</td>\n",
       "      <td>0.026128</td>\n",
       "    </tr>\n",
       "    <tr>\n",
       "      <th>133909000</th>\n",
       "      <td>129</td>\n",
       "      <td>INTRAMUROS</td>\n",
       "      <td>SubMun</td>\n",
       "      <td>UNK</td>\n",
       "      <td>UNK</td>\n",
       "      <td>5935.0</td>\n",
       "      <td>10.203125</td>\n",
       "      <td>0.021735</td>\n",
       "    </tr>\n",
       "    <tr>\n",
       "      <th>...</th>\n",
       "      <td>...</td>\n",
       "      <td>...</td>\n",
       "      <td>...</td>\n",
       "      <td>...</td>\n",
       "      <td>...</td>\n",
       "      <td>...</td>\n",
       "      <td>...</td>\n",
       "      <td>...</td>\n",
       "    </tr>\n",
       "    <tr>\n",
       "      <th>097206000</th>\n",
       "      <td>1</td>\n",
       "      <td>LILOY</td>\n",
       "      <td>Mun</td>\n",
       "      <td>UNK</td>\n",
       "      <td>3rd</td>\n",
       "      <td>39812.0</td>\n",
       "      <td>38.187500</td>\n",
       "      <td>0.000025</td>\n",
       "    </tr>\n",
       "    <tr>\n",
       "      <th>012924000</th>\n",
       "      <td>1</td>\n",
       "      <td>SANTA CRUZ</td>\n",
       "      <td>Mun</td>\n",
       "      <td>UNK</td>\n",
       "      <td>1st</td>\n",
       "      <td>39868.0</td>\n",
       "      <td>14.703125</td>\n",
       "      <td>0.000025</td>\n",
       "    </tr>\n",
       "    <tr>\n",
       "      <th>156613000</th>\n",
       "      <td>2</td>\n",
       "      <td>TALIPAO</td>\n",
       "      <td>Mun</td>\n",
       "      <td>UNK</td>\n",
       "      <td>1st</td>\n",
       "      <td>80255.0</td>\n",
       "      <td>58.093750</td>\n",
       "      <td>0.000025</td>\n",
       "    </tr>\n",
       "    <tr>\n",
       "      <th>153817000</th>\n",
       "      <td>1</td>\n",
       "      <td>SOUTH UPI</td>\n",
       "      <td>Mun</td>\n",
       "      <td>UNK</td>\n",
       "      <td>4th</td>\n",
       "      <td>40178.0</td>\n",
       "      <td>48.500000</td>\n",
       "      <td>0.000025</td>\n",
       "    </tr>\n",
       "    <tr>\n",
       "      <th>156612000</th>\n",
       "      <td>1</td>\n",
       "      <td>SIASI</td>\n",
       "      <td>Mun</td>\n",
       "      <td>UNK</td>\n",
       "      <td>2nd</td>\n",
       "      <td>67705.0</td>\n",
       "      <td>46.093750</td>\n",
       "      <td>0.000015</td>\n",
       "    </tr>\n",
       "  </tbody>\n",
       "</table>\n",
       "<p>1556 rows × 8 columns</p>\n",
       "</div>"
      ],
      "text/plain": [
       "           Cases              Name Geographic Level City Class  \\\n",
       "PSGC                                                             \n",
       "133908000    542            ERMITA           SubMun        UNK   \n",
       "133902000    547           BINONDO           SubMun        UNK   \n",
       "137405000   3211  CITY OF SAN JUAN             City        HUC   \n",
       "137606000   1668           PATEROS              Mun        UNK   \n",
       "133909000    129        INTRAMUROS           SubMun        UNK   \n",
       "...          ...               ...              ...        ...   \n",
       "097206000      1             LILOY              Mun        UNK   \n",
       "012924000      1        SANTA CRUZ              Mun        UNK   \n",
       "156613000      2           TALIPAO              Mun        UNK   \n",
       "153817000      1         SOUTH UPI              Mun        UNK   \n",
       "156612000      1             SIASI              Mun        UNK   \n",
       "\n",
       "          Income Classification  Population  Poverty Incidence  \\\n",
       "PSGC                                                             \n",
       "133908000                   UNK     10523.0           5.300781   \n",
       "133902000                   UNK     18040.0           3.500000   \n",
       "137405000                   1st    122180.0           2.400391   \n",
       "137606000                   1st     63840.0           2.500000   \n",
       "133909000                   UNK      5935.0          10.203125   \n",
       "...                         ...         ...                ...   \n",
       "097206000                   3rd     39812.0          38.187500   \n",
       "012924000                   1st     39868.0          14.703125   \n",
       "156613000                   1st     80255.0          58.093750   \n",
       "153817000                   4th     40178.0          48.500000   \n",
       "156612000                   2nd     67705.0          46.093750   \n",
       "\n",
       "           Case Per Capita  \n",
       "PSGC                        \n",
       "133908000         0.051506  \n",
       "133902000         0.030322  \n",
       "137405000         0.026281  \n",
       "137606000         0.026128  \n",
       "133909000         0.021735  \n",
       "...                    ...  \n",
       "097206000         0.000025  \n",
       "012924000         0.000025  \n",
       "156613000         0.000025  \n",
       "153817000         0.000025  \n",
       "156612000         0.000015  \n",
       "\n",
       "[1556 rows x 8 columns]"
      ]
     },
     "execution_count": 44,
     "metadata": {},
     "output_type": "execute_result"
    }
   ],
   "source": [
    "df4.sort_values('Case Per Capita', ascending = False)"
   ]
  },
  {
   "cell_type": "code",
   "execution_count": 92,
   "metadata": {},
   "outputs": [
    {
     "name": "stdout",
     "output_type": "stream",
     "text": [
      "<class 'pandas.core.frame.DataFrame'>\n",
      "Index: 1556 entries, 012802000 to 175917000\n",
      "Data columns (total 8 columns):\n",
      " #   Column                 Non-Null Count  Dtype   \n",
      "---  ------                 --------------  -----   \n",
      " 0   Cases                  1556 non-null   int64   \n",
      " 1   Name                   1556 non-null   category\n",
      " 2   Geographic Level       1556 non-null   category\n",
      " 3   City Class             1556 non-null   category\n",
      " 4   Income Classification  1556 non-null   category\n",
      " 5   Population             1556 non-null   float64 \n",
      " 6   Poverty Incidence      1556 non-null   float16 \n",
      " 7   Case Per Capita        1556 non-null   float64 \n",
      "dtypes: category(4), float16(1), float64(2), int64(1)\n",
      "memory usage: 151.2+ KB\n"
     ]
    }
   ],
   "source": [
    "df4.info()"
   ]
  },
  {
   "cell_type": "markdown",
   "metadata": {},
   "source": [
    "Since we have explicitly changed NaNs to literal UNK categorical values, it would be worth checking how many UNKs are there."
   ]
  },
  {
   "cell_type": "code",
   "execution_count": 102,
   "metadata": {},
   "outputs": [
    {
     "name": "stdout",
     "output_type": "stream",
     "text": [
      "Percent UNK Column Cases = 0%\n",
      "Percent UNK Column Name = 0%\n",
      "Percent UNK Column Geographic Level = 0%\n",
      "Percent UNK Column City Class = 91%\n",
      "Percent UNK Column Income Classification = 2%\n",
      "Percent UNK Column Population = 0%\n",
      "Percent UNK Column Poverty Incidence = 0%\n",
      "Percent UNK Column Case Per Capita = 0%\n"
     ]
    }
   ],
   "source": [
    "#change UNK for different columns\n",
    "for columns in df4.columns:\n",
    "    print(f'Percent UNK Column {columns} = {((sum(df4[columns] == \"UNK\"))/len(df4[columns])):.0%}')"
   ]
  },
  {
   "cell_type": "markdown",
   "metadata": {},
   "source": [
    "This points to feature City Class to have mostly UNKs so let's get that off our list of features."
   ]
  },
  {
   "cell_type": "code",
   "execution_count": 108,
   "metadata": {},
   "outputs": [],
   "source": [
    "df5 = df4[['Geographic Level','Income Classification',\n",
    "           'Population','Poverty Incidence','Case Per Capita']]"
   ]
  },
  {
   "cell_type": "code",
   "execution_count": 109,
   "metadata": {},
   "outputs": [
    {
     "data": {
      "text/html": [
       "<div>\n",
       "<style scoped>\n",
       "    .dataframe tbody tr th:only-of-type {\n",
       "        vertical-align: middle;\n",
       "    }\n",
       "\n",
       "    .dataframe tbody tr th {\n",
       "        vertical-align: top;\n",
       "    }\n",
       "\n",
       "    .dataframe thead th {\n",
       "        text-align: right;\n",
       "    }\n",
       "</style>\n",
       "<table border=\"1\" class=\"dataframe\">\n",
       "  <thead>\n",
       "    <tr style=\"text-align: right;\">\n",
       "      <th></th>\n",
       "      <th>Geographic Level</th>\n",
       "      <th>Income Classification</th>\n",
       "      <th>Population</th>\n",
       "      <th>Poverty Incidence</th>\n",
       "      <th>Case Per Capita</th>\n",
       "    </tr>\n",
       "    <tr>\n",
       "      <th>PSGC</th>\n",
       "      <th></th>\n",
       "      <th></th>\n",
       "      <th></th>\n",
       "      <th></th>\n",
       "      <th></th>\n",
       "    </tr>\n",
       "  </thead>\n",
       "  <tbody>\n",
       "    <tr>\n",
       "      <th>012802000</th>\n",
       "      <td>Mun</td>\n",
       "      <td>3rd</td>\n",
       "      <td>32215.0</td>\n",
       "      <td>7.500000</td>\n",
       "      <td>0.000124</td>\n",
       "    </tr>\n",
       "    <tr>\n",
       "      <th>012803000</th>\n",
       "      <td>Mun</td>\n",
       "      <td>3rd</td>\n",
       "      <td>31616.0</td>\n",
       "      <td>10.703125</td>\n",
       "      <td>0.000253</td>\n",
       "    </tr>\n",
       "    <tr>\n",
       "      <th>012804000</th>\n",
       "      <td>Mun</td>\n",
       "      <td>4th</td>\n",
       "      <td>14672.0</td>\n",
       "      <td>8.500000</td>\n",
       "      <td>0.000477</td>\n",
       "    </tr>\n",
       "    <tr>\n",
       "      <th>012805000</th>\n",
       "      <td>City</td>\n",
       "      <td>5th</td>\n",
       "      <td>55201.0</td>\n",
       "      <td>7.800781</td>\n",
       "      <td>0.000290</td>\n",
       "    </tr>\n",
       "    <tr>\n",
       "      <th>012806000</th>\n",
       "      <td>Mun</td>\n",
       "      <td>5th</td>\n",
       "      <td>9777.0</td>\n",
       "      <td>8.398438</td>\n",
       "      <td>0.000409</td>\n",
       "    </tr>\n",
       "  </tbody>\n",
       "</table>\n",
       "</div>"
      ],
      "text/plain": [
       "          Geographic Level Income Classification  Population  \\\n",
       "PSGC                                                           \n",
       "012802000              Mun                   3rd     32215.0   \n",
       "012803000              Mun                   3rd     31616.0   \n",
       "012804000              Mun                   4th     14672.0   \n",
       "012805000             City                   5th     55201.0   \n",
       "012806000              Mun                   5th      9777.0   \n",
       "\n",
       "           Poverty Incidence  Case Per Capita  \n",
       "PSGC                                           \n",
       "012802000           7.500000         0.000124  \n",
       "012803000          10.703125         0.000253  \n",
       "012804000           8.500000         0.000477  \n",
       "012805000           7.800781         0.000290  \n",
       "012806000           8.398438         0.000409  "
      ]
     },
     "execution_count": 109,
     "metadata": {},
     "output_type": "execute_result"
    }
   ],
   "source": [
    "df5.head()"
   ]
  },
  {
   "cell_type": "markdown",
   "metadata": {},
   "source": [
    "1. Doing pairplots and correlattion analysis shows that of the features mentioned above, none is a strong predictor."
   ]
  },
  {
   "cell_type": "code",
   "execution_count": 110,
   "metadata": {},
   "outputs": [
    {
     "data": {
      "text/plain": [
       "<seaborn.axisgrid.PairGrid at 0x7fd9ff34e100>"
      ]
     },
     "execution_count": 110,
     "metadata": {},
     "output_type": "execute_result"
    },
    {
     "data": {
      "image/png": "[encoded data removed]",
      "text/plain": [
       "<Figure size 540x540 with 12 Axes>"
      ]
     },
     "metadata": {
      "needs_background": "light"
     },
     "output_type": "display_data"
    }
   ],
   "source": [
    "sns.pairplot(df5)"
   ]
  },
  {
   "cell_type": "code",
   "execution_count": 111,
   "metadata": {},
   "outputs": [
    {
     "data": {
      "text/plain": [
       "<AxesSubplot:>"
      ]
     },
     "execution_count": 111,
     "metadata": {},
     "output_type": "execute_result"
    },
    {
     "data": {
      "image/png": "[encoded data removed]",
      "text/plain": [
       "<Figure size 432x288 with 2 Axes>"
      ]
     },
     "metadata": {
      "needs_background": "light"
     },
     "output_type": "display_data"
    }
   ],
   "source": [
    "sns.heatmap(df5.corr(),annot=True,lw=1)"
   ]
  },
  {
   "cell_type": "code",
   "execution_count": 112,
   "metadata": {},
   "outputs": [
    {
     "data": {
      "text/html": [
       "<div>\n",
       "<style scoped>\n",
       "    .dataframe tbody tr th:only-of-type {\n",
       "        vertical-align: middle;\n",
       "    }\n",
       "\n",
       "    .dataframe tbody tr th {\n",
       "        vertical-align: top;\n",
       "    }\n",
       "\n",
       "    .dataframe thead th {\n",
       "        text-align: right;\n",
       "    }\n",
       "</style>\n",
       "<table border=\"1\" class=\"dataframe\">\n",
       "  <thead>\n",
       "    <tr style=\"text-align: right;\">\n",
       "      <th></th>\n",
       "      <th>Population</th>\n",
       "      <th>Poverty Incidence</th>\n",
       "      <th>Case Per Capita</th>\n",
       "    </tr>\n",
       "  </thead>\n",
       "  <tbody>\n",
       "    <tr>\n",
       "      <th>Population</th>\n",
       "      <td>1.000000</td>\n",
       "      <td>-0.251087</td>\n",
       "      <td>0.373694</td>\n",
       "    </tr>\n",
       "    <tr>\n",
       "      <th>Poverty Incidence</th>\n",
       "      <td>-0.251087</td>\n",
       "      <td>1.000000</td>\n",
       "      <td>-0.330801</td>\n",
       "    </tr>\n",
       "    <tr>\n",
       "      <th>Case Per Capita</th>\n",
       "      <td>0.373694</td>\n",
       "      <td>-0.330801</td>\n",
       "      <td>1.000000</td>\n",
       "    </tr>\n",
       "  </tbody>\n",
       "</table>\n",
       "</div>"
      ],
      "text/plain": [
       "                   Population  Poverty Incidence  Case Per Capita\n",
       "Population           1.000000          -0.251087         0.373694\n",
       "Poverty Incidence   -0.251087           1.000000        -0.330801\n",
       "Case Per Capita      0.373694          -0.330801         1.000000"
      ]
     },
     "execution_count": 112,
     "metadata": {},
     "output_type": "execute_result"
    }
   ],
   "source": [
    "df5.corr()"
   ]
  },
  {
   "cell_type": "markdown",
   "metadata": {},
   "source": [
    "2. Separating the analysis by geographic level shows correlation to be stronger at City level."
   ]
  },
  {
   "cell_type": "code",
   "execution_count": 113,
   "metadata": {},
   "outputs": [
    {
     "data": {
      "text/html": [
       "<div>\n",
       "<style scoped>\n",
       "    .dataframe tbody tr th:only-of-type {\n",
       "        vertical-align: middle;\n",
       "    }\n",
       "\n",
       "    .dataframe tbody tr th {\n",
       "        vertical-align: top;\n",
       "    }\n",
       "\n",
       "    .dataframe thead th {\n",
       "        text-align: right;\n",
       "    }\n",
       "</style>\n",
       "<table border=\"1\" class=\"dataframe\">\n",
       "  <thead>\n",
       "    <tr style=\"text-align: right;\">\n",
       "      <th></th>\n",
       "      <th>Geographic Level</th>\n",
       "      <th>Income Classification</th>\n",
       "      <th>Population</th>\n",
       "      <th>Poverty Incidence</th>\n",
       "      <th>Case Per Capita</th>\n",
       "    </tr>\n",
       "    <tr>\n",
       "      <th>PSGC</th>\n",
       "      <th></th>\n",
       "      <th></th>\n",
       "      <th></th>\n",
       "      <th></th>\n",
       "      <th></th>\n",
       "    </tr>\n",
       "  </thead>\n",
       "  <tbody>\n",
       "    <tr>\n",
       "      <th>012802000</th>\n",
       "      <td>Mun</td>\n",
       "      <td>3rd</td>\n",
       "      <td>32215.0</td>\n",
       "      <td>7.500000</td>\n",
       "      <td>0.000124</td>\n",
       "    </tr>\n",
       "    <tr>\n",
       "      <th>012803000</th>\n",
       "      <td>Mun</td>\n",
       "      <td>3rd</td>\n",
       "      <td>31616.0</td>\n",
       "      <td>10.703125</td>\n",
       "      <td>0.000253</td>\n",
       "    </tr>\n",
       "    <tr>\n",
       "      <th>012804000</th>\n",
       "      <td>Mun</td>\n",
       "      <td>4th</td>\n",
       "      <td>14672.0</td>\n",
       "      <td>8.500000</td>\n",
       "      <td>0.000477</td>\n",
       "    </tr>\n",
       "    <tr>\n",
       "      <th>012805000</th>\n",
       "      <td>City</td>\n",
       "      <td>5th</td>\n",
       "      <td>55201.0</td>\n",
       "      <td>7.800781</td>\n",
       "      <td>0.000290</td>\n",
       "    </tr>\n",
       "    <tr>\n",
       "      <th>012806000</th>\n",
       "      <td>Mun</td>\n",
       "      <td>5th</td>\n",
       "      <td>9777.0</td>\n",
       "      <td>8.398438</td>\n",
       "      <td>0.000409</td>\n",
       "    </tr>\n",
       "  </tbody>\n",
       "</table>\n",
       "</div>"
      ],
      "text/plain": [
       "          Geographic Level Income Classification  Population  \\\n",
       "PSGC                                                           \n",
       "012802000              Mun                   3rd     32215.0   \n",
       "012803000              Mun                   3rd     31616.0   \n",
       "012804000              Mun                   4th     14672.0   \n",
       "012805000             City                   5th     55201.0   \n",
       "012806000              Mun                   5th      9777.0   \n",
       "\n",
       "           Poverty Incidence  Case Per Capita  \n",
       "PSGC                                           \n",
       "012802000           7.500000         0.000124  \n",
       "012803000          10.703125         0.000253  \n",
       "012804000           8.500000         0.000477  \n",
       "012805000           7.800781         0.000290  \n",
       "012806000           8.398438         0.000409  "
      ]
     },
     "execution_count": 113,
     "metadata": {},
     "output_type": "execute_result"
    }
   ],
   "source": [
    "df5.head()"
   ]
  },
  {
   "cell_type": "code",
   "execution_count": 114,
   "metadata": {},
   "outputs": [
    {
     "data": {
      "text/plain": [
       "<seaborn.axisgrid.PairGrid at 0x7fda0386a970>"
      ]
     },
     "execution_count": 114,
     "metadata": {},
     "output_type": "execute_result"
    },
    {
     "data": {
      "image/png": "[encoded data removed]",
      "text/plain": [
       "<Figure size 635x540 with 12 Axes>"
      ]
     },
     "metadata": {
      "needs_background": "light"
     },
     "output_type": "display_data"
    }
   ],
   "source": [
    "sns.pairplot(df5, hue = \"Geographic Level\")"
   ]
  },
  {
   "cell_type": "code",
   "execution_count": 115,
   "metadata": {},
   "outputs": [
    {
     "name": "stderr",
     "output_type": "stream",
     "text": [
      "/Users/gio/opt/anaconda3/envs/Coursera/lib/python3.8/site-packages/seaborn/distributions.py:305: UserWarning: Dataset has 0 variance; skipping density estimate.\n",
      "  warnings.warn(msg, UserWarning)\n",
      "/Users/gio/opt/anaconda3/envs/Coursera/lib/python3.8/site-packages/seaborn/distributions.py:305: UserWarning: Dataset has 0 variance; skipping density estimate.\n",
      "  warnings.warn(msg, UserWarning)\n",
      "/Users/gio/opt/anaconda3/envs/Coursera/lib/python3.8/site-packages/seaborn/distributions.py:305: UserWarning: Dataset has 0 variance; skipping density estimate.\n",
      "  warnings.warn(msg, UserWarning)\n"
     ]
    },
    {
     "data": {
      "text/plain": [
       "<seaborn.axisgrid.PairGrid at 0x7fda03874e80>"
      ]
     },
     "execution_count": 115,
     "metadata": {},
     "output_type": "execute_result"
    },
    {
     "data": {
      "image/png": "[encoded data removed]",
      "text/plain": [
       "<Figure size 654.125x540 with 12 Axes>"
      ]
     },
     "metadata": {
      "needs_background": "light"
     },
     "output_type": "display_data"
    }
   ],
   "source": [
    "sns.pairplot(df5, hue = \"Income Classification\")"
   ]
  },
  {
   "cell_type": "code",
   "execution_count": 91,
   "metadata": {},
   "outputs": [
    {
     "data": {
      "text/plain": [
       "Index(['Cases', 'Name', 'Geographic Level', 'City Class',\n",
       "       'Income Classification', 'Population', 'Poverty Incidence',\n",
       "       'Case Per Capita'],\n",
       "      dtype='object')"
      ]
     },
     "execution_count": 91,
     "metadata": {},
     "output_type": "execute_result"
    }
   ],
   "source": [
    "df5 = df4[['Geographic Level', 'City Class',\n",
    "       'Income Classification', 'Population', 'Poverty Incidence',\n",
    "       'Case Per Capita']]"
   ]
  },
  {
   "cell_type": "code",
   "execution_count": 84,
   "metadata": {},
   "outputs": [],
   "source": [
    "feature_to_remove = 'Geographic Level'"
   ]
  },
  {
   "cell_type": "code",
   "execution_count": 85,
   "metadata": {},
   "outputs": [],
   "source": [
    "sub_df = df4"
   ]
  },
  {
   "cell_type": "code",
   "execution_count": 89,
   "metadata": {},
   "outputs": [
    {
     "data": {
      "text/plain": [
       "['Cases',\n",
       " 'Name',\n",
       " 'Geographic Level',\n",
       " 'City Class',\n",
       " 'Income Classification',\n",
       " 'Population',\n",
       " 'Poverty Incidence',\n",
       " 'Case Per Capita']"
      ]
     },
     "execution_count": 89,
     "metadata": {},
     "output_type": "execute_result"
    }
   ],
   "source": [
    "col_list_new = list(sub_df.columns)\n",
    "col_list_new"
   ]
  },
  {
   "cell_type": "code",
   "execution_count": 48,
   "metadata": {},
   "outputs": [
    {
     "data": {
      "text/plain": [
       "<seaborn.axisgrid.PairGrid at 0x7fd9fc087a00>"
      ]
     },
     "execution_count": 48,
     "metadata": {},
     "output_type": "execute_result"
    },
    {
     "data": {
      "image/png": "[encoded data removed]",
      "text/plain": [
       "<Figure size 635x540 with 12 Axes>"
      ]
     },
     "metadata": {
      "needs_background": "light"
     },
     "output_type": "display_data"
    }
   ],
   "source": [
    "sns.pairplot(df4[['Geographic Level','Population','Poverty Incidence','Case Per Capita']], hue = 'Geographic Level',\n",
    "            diag_kind=\"hist\")"
   ]
  },
  {
   "cell_type": "code",
   "execution_count": 83,
   "metadata": {},
   "outputs": [
    {
     "data": {
      "text/plain": [
       "['Mun', 'City', 'SubMun']\n",
       "Categories (3, object): ['Mun', 'City', 'SubMun']"
      ]
     },
     "execution_count": 83,
     "metadata": {},
     "output_type": "execute_result"
    }
   ],
   "source": [
    "geo_levels = df4['Geographic Level'].unique()\n",
    "geo_levels"
   ]
  },
  {
   "cell_type": "code",
   "execution_count": null,
   "metadata": {},
   "outputs": [],
   "source": [
    "for level in geo_levels:\n",
    "    sub_df = df4.loc[df4['Geographic Level'] == level,['Population', 'Poverty Incidence','Case Per Capita']]\n",
    "    print(level)\n",
    "    print('\\n')\n",
    "    #print(sub_df.corr().loc['Case Per Capita'])\n",
    "    sns.pairplot(sub_df)\n",
    "    print('\\n\\n')"
   ]
  },
  {
   "cell_type": "code",
   "execution_count": null,
   "metadata": {},
   "outputs": [],
   "source": [
    "def corr_by_level(dataframe, variable):\n",
    "    for level in geo_levels:\n",
    "        sub_df = df4.loc[df4['Geographic Level'] == level,['Population', 'Poverty Incidence','Case Per Capita']]\n",
    "    print(level)\n",
    "    print('\\n')\n",
    "    #print(sub_df.corr().loc['Case Per Capita'])\n",
    "    sns.pairplot(sub_df)\n",
    "    print('\\n\\n')"
   ]
  },
  {
   "cell_type": "code",
   "execution_count": null,
   "metadata": {},
   "outputs": [],
   "source": [
    "for level in geo_levels:\n",
    "    sub_df = df4.loc[df4['Geographic Level'] == level,['Population', 'Poverty Incidence','Case Per Capita']]\n",
    "    print(level)\n",
    "    print('\\n')\n",
    "    #print(sub_df.corr().loc['Case Per Capita'])\n",
    "    sns.pairplot(sub_df)\n",
    "    print('\\n\\n')"
   ]
  },
  {
   "cell_type": "code",
   "execution_count": 50,
   "metadata": {},
   "outputs": [
    {
     "data": {
      "text/plain": [
       "Index(['Cases', 'Name', 'Geographic Level', 'City Class',\n",
       "       'Income Classification', 'Population', 'Poverty Incidence',\n",
       "       'Case Per Capita'],\n",
       "      dtype='object')"
      ]
     },
     "execution_count": 50,
     "metadata": {},
     "output_type": "execute_result"
    }
   ],
   "source": [
    "df4.columns"
   ]
  },
  {
   "cell_type": "code",
   "execution_count": 51,
   "metadata": {},
   "outputs": [
    {
     "data": {
      "text/plain": [
       "['Mun', 'City', 'SubMun']\n",
       "Categories (3, object): ['Mun', 'City', 'SubMun']"
      ]
     },
     "execution_count": 51,
     "metadata": {},
     "output_type": "execute_result"
    }
   ],
   "source": [
    "df4['Geographic Level'].unique()"
   ]
  },
  {
   "cell_type": "code",
   "execution_count": 52,
   "metadata": {},
   "outputs": [
    {
     "data": {
      "text/html": [
       "<div>\n",
       "<style scoped>\n",
       "    .dataframe tbody tr th:only-of-type {\n",
       "        vertical-align: middle;\n",
       "    }\n",
       "\n",
       "    .dataframe tbody tr th {\n",
       "        vertical-align: top;\n",
       "    }\n",
       "\n",
       "    .dataframe thead th {\n",
       "        text-align: right;\n",
       "    }\n",
       "</style>\n",
       "<table border=\"1\" class=\"dataframe\">\n",
       "  <thead>\n",
       "    <tr style=\"text-align: right;\">\n",
       "      <th></th>\n",
       "      <th>Population</th>\n",
       "      <th>Poverty Incidence</th>\n",
       "    </tr>\n",
       "    <tr>\n",
       "      <th>PSGC</th>\n",
       "      <th></th>\n",
       "      <th></th>\n",
       "    </tr>\n",
       "  </thead>\n",
       "  <tbody>\n",
       "    <tr>\n",
       "      <th>012802000</th>\n",
       "      <td>32215.0</td>\n",
       "      <td>7.500000</td>\n",
       "    </tr>\n",
       "    <tr>\n",
       "      <th>012803000</th>\n",
       "      <td>31616.0</td>\n",
       "      <td>10.703125</td>\n",
       "    </tr>\n",
       "    <tr>\n",
       "      <th>012804000</th>\n",
       "      <td>14672.0</td>\n",
       "      <td>8.500000</td>\n",
       "    </tr>\n",
       "    <tr>\n",
       "      <th>012806000</th>\n",
       "      <td>9777.0</td>\n",
       "      <td>8.398438</td>\n",
       "    </tr>\n",
       "    <tr>\n",
       "      <th>012808000</th>\n",
       "      <td>12184.0</td>\n",
       "      <td>9.296875</td>\n",
       "    </tr>\n",
       "    <tr>\n",
       "      <th>...</th>\n",
       "      <td>...</td>\n",
       "      <td>...</td>\n",
       "    </tr>\n",
       "    <tr>\n",
       "      <th>175913000</th>\n",
       "      <td>23271.0</td>\n",
       "      <td>37.687500</td>\n",
       "    </tr>\n",
       "    <tr>\n",
       "      <th>175914000</th>\n",
       "      <td>10881.0</td>\n",
       "      <td>33.906250</td>\n",
       "    </tr>\n",
       "    <tr>\n",
       "      <th>175915000</th>\n",
       "      <td>16098.0</td>\n",
       "      <td>32.687500</td>\n",
       "    </tr>\n",
       "    <tr>\n",
       "      <th>175916000</th>\n",
       "      <td>6964.0</td>\n",
       "      <td>33.187500</td>\n",
       "    </tr>\n",
       "    <tr>\n",
       "      <th>175917000</th>\n",
       "      <td>8508.0</td>\n",
       "      <td>29.796875</td>\n",
       "    </tr>\n",
       "  </tbody>\n",
       "</table>\n",
       "<p>1399 rows × 2 columns</p>\n",
       "</div>"
      ],
      "text/plain": [
       "           Population  Poverty Incidence\n",
       "PSGC                                    \n",
       "012802000     32215.0           7.500000\n",
       "012803000     31616.0          10.703125\n",
       "012804000     14672.0           8.500000\n",
       "012806000      9777.0           8.398438\n",
       "012808000     12184.0           9.296875\n",
       "...               ...                ...\n",
       "175913000     23271.0          37.687500\n",
       "175914000     10881.0          33.906250\n",
       "175915000     16098.0          32.687500\n",
       "175916000      6964.0          33.187500\n",
       "175917000      8508.0          29.796875\n",
       "\n",
       "[1399 rows x 2 columns]"
      ]
     },
     "execution_count": 52,
     "metadata": {},
     "output_type": "execute_result"
    }
   ],
   "source": [
    "df4.loc[df4['Geographic Level'] == 'Mun',['Population', 'Poverty Incidence']]"
   ]
  },
  {
   "cell_type": "code",
   "execution_count": 53,
   "metadata": {},
   "outputs": [
    {
     "name": "stdout",
     "output_type": "stream",
     "text": [
      "Mun\n",
      "\n",
      "\n",
      "\n",
      "\n",
      "\n",
      "City\n",
      "\n",
      "\n",
      "\n",
      "\n",
      "\n",
      "SubMun\n",
      "\n",
      "\n",
      "\n",
      "\n",
      "\n"
     ]
    },
    {
     "data": {
      "image/png": "[encoded data removed]",
      "text/plain": [
       "<Figure size 540x540 with 12 Axes>"
      ]
     },
     "metadata": {
      "needs_background": "light"
     },
     "output_type": "display_data"
    },
    {
     "data": {
      "image/png": "[encoded data removed]",
      "text/plain": [
       "<Figure size 540x540 with 12 Axes>"
      ]
     },
     "metadata": {
      "needs_background": "light"
     },
     "output_type": "display_data"
    },
    {
     "data": {
      "image/png": "[encoded data removed]",
      "text/plain": [
       "<Figure size 540x540 with 12 Axes>"
      ]
     },
     "metadata": {
      "needs_background": "light"
     },
     "output_type": "display_data"
    }
   ],
   "source": [
    "for level in df4['Geographic Level'].unique():\n",
    "    sub_df = df4.loc[df4['Geographic Level'] == level,['Population', 'Poverty Incidence','Case Per Capita']]\n",
    "    print(level)\n",
    "    print('\\n')\n",
    "    #print(sub_df.corr().loc['Case Per Capita'])\n",
    "    sns.pairplot(sub_df)\n",
    "    print('\\n\\n')"
   ]
  },
  {
   "cell_type": "code",
   "execution_count": 54,
   "metadata": {},
   "outputs": [
    {
     "data": {
      "text/plain": [
       "['3rd', '4th', '5th', '2nd', '1st', '6th', 'UNK', 'Special']\n",
       "Categories (8, object): ['3rd', '4th', '5th', '2nd', '1st', '6th', 'UNK', 'Special']"
      ]
     },
     "execution_count": 54,
     "metadata": {},
     "output_type": "execute_result"
    }
   ],
   "source": [
    "df4['Income Classification'].unique()"
   ]
  },
  {
   "cell_type": "code",
   "execution_count": null,
   "metadata": {},
   "outputs": [],
   "source": []
  },
  {
   "cell_type": "code",
   "execution_count": 55,
   "metadata": {},
   "outputs": [
    {
     "name": "stdout",
     "output_type": "stream",
     "text": [
      "Number of Unknowns for Column Cases = 0\n",
      "Number of Unknowns for Column Name = 0\n",
      "Number of Unknowns for Column Geographic Level = 0\n",
      "Number of Unknowns for Column City Class = 1413\n",
      "Number of Unknowns for Column Income Classification = 30\n",
      "Number of Unknowns for Column Population = 0\n",
      "Number of Unknowns for Column Poverty Incidence = 0\n",
      "Number of Unknowns for Column Case Per Capita = 0\n"
     ]
    }
   ],
   "source": [
    "#dummy variables\n",
    "\n",
    "#change UNK for different columns\n",
    "for columns in df4.columns:\n",
    "    print(f'Number of Unknowns for Column {columns} = {sum(df4[columns] == \"UNK\")}')"
   ]
  },
  {
   "cell_type": "code",
   "execution_count": 56,
   "metadata": {},
   "outputs": [],
   "source": [
    "df5 = pd.get_dummies(df4, \n",
    "               columns = ['Geographic Level', 'Income Classification'], \n",
    "               prefix = ['GL','IC'])"
   ]
  },
  {
   "cell_type": "code",
   "execution_count": 57,
   "metadata": {},
   "outputs": [],
   "source": [
    "df5 = df5[['Name', 'Population', 'Poverty Incidence', 'GL_City', \n",
    "     'GL_Mun', 'GL_SubMun', 'IC_1st', 'IC_2nd','IC_3rd', 'IC_4th', \n",
    "     'IC_5th', 'IC_6th', 'IC_Special', 'IC_UNK','Case Per Capita']]"
   ]
  },
  {
   "cell_type": "code",
   "execution_count": 58,
   "metadata": {},
   "outputs": [
    {
     "data": {
      "text/plain": [
       "<AxesSubplot:>"
      ]
     },
     "execution_count": 58,
     "metadata": {},
     "output_type": "execute_result"
    },
    {
     "data": {
      "image/png": "[encoded data removed]",
      "text/plain": [
       "<Figure size 432x288 with 1 Axes>"
      ]
     },
     "metadata": {
      "needs_background": "light"
     },
     "output_type": "display_data"
    }
   ],
   "source": [
    "#check histogram of population\n",
    "df5['Population'][df5['IC_3rd'] == 1].hist()"
   ]
  },
  {
   "cell_type": "code",
   "execution_count": 59,
   "metadata": {},
   "outputs": [],
   "source": [
    "#normalize population\\\n",
    "ss = StandardScaler()\n",
    "df5['Population Normalized'] = ss.fit_transform(df5[['Population']])"
   ]
  },
  {
   "cell_type": "code",
   "execution_count": 60,
   "metadata": {},
   "outputs": [
    {
     "data": {
      "text/plain": [
       "Population               0.373694\n",
       "Poverty Incidence       -0.330801\n",
       "GL_City                  0.289013\n",
       "GL_Mun                  -0.441091\n",
       "GL_SubMun                0.522756\n",
       "IC_1st                   0.152971\n",
       "IC_2nd                  -0.036701\n",
       "IC_3rd                  -0.070867\n",
       "IC_4th                  -0.101690\n",
       "IC_5th                  -0.077611\n",
       "IC_6th                  -0.008692\n",
       "IC_Special               0.091341\n",
       "IC_UNK                   0.331358\n",
       "Case Per Capita          1.000000\n",
       "Population Normalized    0.373694\n",
       "Name: Case Per Capita, dtype: float64"
      ]
     },
     "execution_count": 60,
     "metadata": {},
     "output_type": "execute_result"
    }
   ],
   "source": [
    "df5.corr().loc['Case Per Capita']"
   ]
  },
  {
   "cell_type": "code",
   "execution_count": 61,
   "metadata": {},
   "outputs": [
    {
     "data": {
      "text/html": [
       "<div>\n",
       "<style scoped>\n",
       "    .dataframe tbody tr th:only-of-type {\n",
       "        vertical-align: middle;\n",
       "    }\n",
       "\n",
       "    .dataframe tbody tr th {\n",
       "        vertical-align: top;\n",
       "    }\n",
       "\n",
       "    .dataframe thead th {\n",
       "        text-align: right;\n",
       "    }\n",
       "</style>\n",
       "<table border=\"1\" class=\"dataframe\">\n",
       "  <thead>\n",
       "    <tr style=\"text-align: right;\">\n",
       "      <th></th>\n",
       "      <th>Name</th>\n",
       "      <th>Population</th>\n",
       "      <th>Poverty Incidence</th>\n",
       "      <th>GL_City</th>\n",
       "      <th>GL_Mun</th>\n",
       "      <th>GL_SubMun</th>\n",
       "      <th>IC_1st</th>\n",
       "      <th>IC_2nd</th>\n",
       "      <th>IC_3rd</th>\n",
       "      <th>IC_4th</th>\n",
       "      <th>IC_5th</th>\n",
       "      <th>IC_6th</th>\n",
       "      <th>IC_Special</th>\n",
       "      <th>IC_UNK</th>\n",
       "      <th>Case Per Capita</th>\n",
       "      <th>Population Normalized</th>\n",
       "    </tr>\n",
       "    <tr>\n",
       "      <th>PSGC</th>\n",
       "      <th></th>\n",
       "      <th></th>\n",
       "      <th></th>\n",
       "      <th></th>\n",
       "      <th></th>\n",
       "      <th></th>\n",
       "      <th></th>\n",
       "      <th></th>\n",
       "      <th></th>\n",
       "      <th></th>\n",
       "      <th></th>\n",
       "      <th></th>\n",
       "      <th></th>\n",
       "      <th></th>\n",
       "      <th></th>\n",
       "      <th></th>\n",
       "    </tr>\n",
       "  </thead>\n",
       "  <tbody>\n",
       "    <tr>\n",
       "      <th>012802000</th>\n",
       "      <td>BACARRA</td>\n",
       "      <td>32215.0</td>\n",
       "      <td>7.500000</td>\n",
       "      <td>0</td>\n",
       "      <td>1</td>\n",
       "      <td>0</td>\n",
       "      <td>0</td>\n",
       "      <td>0</td>\n",
       "      <td>1</td>\n",
       "      <td>0</td>\n",
       "      <td>0</td>\n",
       "      <td>0</td>\n",
       "      <td>0</td>\n",
       "      <td>0</td>\n",
       "      <td>0.000124</td>\n",
       "      <td>-0.250286</td>\n",
       "    </tr>\n",
       "    <tr>\n",
       "      <th>012803000</th>\n",
       "      <td>BADOC</td>\n",
       "      <td>31616.0</td>\n",
       "      <td>10.703125</td>\n",
       "      <td>0</td>\n",
       "      <td>1</td>\n",
       "      <td>0</td>\n",
       "      <td>0</td>\n",
       "      <td>0</td>\n",
       "      <td>1</td>\n",
       "      <td>0</td>\n",
       "      <td>0</td>\n",
       "      <td>0</td>\n",
       "      <td>0</td>\n",
       "      <td>0</td>\n",
       "      <td>0.000253</td>\n",
       "      <td>-0.255032</td>\n",
       "    </tr>\n",
       "    <tr>\n",
       "      <th>012804000</th>\n",
       "      <td>BANGUI</td>\n",
       "      <td>14672.0</td>\n",
       "      <td>8.500000</td>\n",
       "      <td>0</td>\n",
       "      <td>1</td>\n",
       "      <td>0</td>\n",
       "      <td>0</td>\n",
       "      <td>0</td>\n",
       "      <td>0</td>\n",
       "      <td>1</td>\n",
       "      <td>0</td>\n",
       "      <td>0</td>\n",
       "      <td>0</td>\n",
       "      <td>0</td>\n",
       "      <td>0.000477</td>\n",
       "      <td>-0.389260</td>\n",
       "    </tr>\n",
       "    <tr>\n",
       "      <th>012805000</th>\n",
       "      <td>CITY OF BATAC</td>\n",
       "      <td>55201.0</td>\n",
       "      <td>7.800781</td>\n",
       "      <td>1</td>\n",
       "      <td>0</td>\n",
       "      <td>0</td>\n",
       "      <td>0</td>\n",
       "      <td>0</td>\n",
       "      <td>0</td>\n",
       "      <td>0</td>\n",
       "      <td>1</td>\n",
       "      <td>0</td>\n",
       "      <td>0</td>\n",
       "      <td>0</td>\n",
       "      <td>0.000290</td>\n",
       "      <td>-0.068194</td>\n",
       "    </tr>\n",
       "    <tr>\n",
       "      <th>012806000</th>\n",
       "      <td>BURGOS</td>\n",
       "      <td>9777.0</td>\n",
       "      <td>8.398438</td>\n",
       "      <td>0</td>\n",
       "      <td>1</td>\n",
       "      <td>0</td>\n",
       "      <td>0</td>\n",
       "      <td>0</td>\n",
       "      <td>0</td>\n",
       "      <td>0</td>\n",
       "      <td>1</td>\n",
       "      <td>0</td>\n",
       "      <td>0</td>\n",
       "      <td>0</td>\n",
       "      <td>0.000409</td>\n",
       "      <td>-0.428037</td>\n",
       "    </tr>\n",
       "  </tbody>\n",
       "</table>\n",
       "</div>"
      ],
      "text/plain": [
       "                    Name  Population  Poverty Incidence  GL_City  GL_Mun  \\\n",
       "PSGC                                                                       \n",
       "012802000        BACARRA     32215.0           7.500000        0       1   \n",
       "012803000          BADOC     31616.0          10.703125        0       1   \n",
       "012804000         BANGUI     14672.0           8.500000        0       1   \n",
       "012805000  CITY OF BATAC     55201.0           7.800781        1       0   \n",
       "012806000         BURGOS      9777.0           8.398438        0       1   \n",
       "\n",
       "           GL_SubMun  IC_1st  IC_2nd  IC_3rd  IC_4th  IC_5th  IC_6th  \\\n",
       "PSGC                                                                   \n",
       "012802000          0       0       0       1       0       0       0   \n",
       "012803000          0       0       0       1       0       0       0   \n",
       "012804000          0       0       0       0       1       0       0   \n",
       "012805000          0       0       0       0       0       1       0   \n",
       "012806000          0       0       0       0       0       1       0   \n",
       "\n",
       "           IC_Special  IC_UNK  Case Per Capita  Population Normalized  \n",
       "PSGC                                                                   \n",
       "012802000           0       0         0.000124              -0.250286  \n",
       "012803000           0       0         0.000253              -0.255032  \n",
       "012804000           0       0         0.000477              -0.389260  \n",
       "012805000           0       0         0.000290              -0.068194  \n",
       "012806000           0       0         0.000409              -0.428037  "
      ]
     },
     "execution_count": 61,
     "metadata": {},
     "output_type": "execute_result"
    }
   ],
   "source": [
    "df5.head()"
   ]
  },
  {
   "cell_type": "markdown",
   "metadata": {},
   "source": [
    "### Inference"
   ]
  },
  {
   "cell_type": "code",
   "execution_count": 62,
   "metadata": {},
   "outputs": [],
   "source": [
    "#define target variable\n",
    "y = df5['Case Per Capita']"
   ]
  },
  {
   "cell_type": "code",
   "execution_count": 63,
   "metadata": {},
   "outputs": [
    {
     "data": {
      "text/plain": [
       "PSGC\n",
       "012802000    0.000124\n",
       "012803000    0.000253\n",
       "012804000    0.000477\n",
       "012805000    0.000290\n",
       "012806000    0.000409\n",
       "               ...   \n",
       "175913000    0.000559\n",
       "175914000    0.000092\n",
       "175915000    0.000062\n",
       "175916000    0.000287\n",
       "175917000    0.000353\n",
       "Name: Case Per Capita, Length: 1556, dtype: float64"
      ]
     },
     "execution_count": 63,
     "metadata": {},
     "output_type": "execute_result"
    }
   ],
   "source": [
    "y"
   ]
  },
  {
   "cell_type": "code",
   "execution_count": 64,
   "metadata": {},
   "outputs": [],
   "source": [
    "X = df5[['Population Normalized', 'Poverty Incidence', 'GL_City', 'GL_Mun', 'GL_SubMun', 'IC_1st', 'IC_2nd','IC_3rd', 'IC_4th', 'IC_5th', 'IC_6th', 'IC_Special', 'IC_UNK']]"
   ]
  },
  {
   "cell_type": "code",
   "execution_count": 65,
   "metadata": {},
   "outputs": [
    {
     "data": {
      "text/html": [
       "<div>\n",
       "<style scoped>\n",
       "    .dataframe tbody tr th:only-of-type {\n",
       "        vertical-align: middle;\n",
       "    }\n",
       "\n",
       "    .dataframe tbody tr th {\n",
       "        vertical-align: top;\n",
       "    }\n",
       "\n",
       "    .dataframe thead th {\n",
       "        text-align: right;\n",
       "    }\n",
       "</style>\n",
       "<table border=\"1\" class=\"dataframe\">\n",
       "  <thead>\n",
       "    <tr style=\"text-align: right;\">\n",
       "      <th></th>\n",
       "      <th>Population Normalized</th>\n",
       "      <th>Poverty Incidence</th>\n",
       "      <th>GL_City</th>\n",
       "      <th>GL_Mun</th>\n",
       "      <th>GL_SubMun</th>\n",
       "      <th>IC_1st</th>\n",
       "      <th>IC_2nd</th>\n",
       "      <th>IC_3rd</th>\n",
       "      <th>IC_4th</th>\n",
       "      <th>IC_5th</th>\n",
       "      <th>IC_6th</th>\n",
       "      <th>IC_Special</th>\n",
       "      <th>IC_UNK</th>\n",
       "    </tr>\n",
       "    <tr>\n",
       "      <th>PSGC</th>\n",
       "      <th></th>\n",
       "      <th></th>\n",
       "      <th></th>\n",
       "      <th></th>\n",
       "      <th></th>\n",
       "      <th></th>\n",
       "      <th></th>\n",
       "      <th></th>\n",
       "      <th></th>\n",
       "      <th></th>\n",
       "      <th></th>\n",
       "      <th></th>\n",
       "      <th></th>\n",
       "    </tr>\n",
       "  </thead>\n",
       "  <tbody>\n",
       "    <tr>\n",
       "      <th>012802000</th>\n",
       "      <td>-0.250286</td>\n",
       "      <td>7.500000</td>\n",
       "      <td>0</td>\n",
       "      <td>1</td>\n",
       "      <td>0</td>\n",
       "      <td>0</td>\n",
       "      <td>0</td>\n",
       "      <td>1</td>\n",
       "      <td>0</td>\n",
       "      <td>0</td>\n",
       "      <td>0</td>\n",
       "      <td>0</td>\n",
       "      <td>0</td>\n",
       "    </tr>\n",
       "    <tr>\n",
       "      <th>012803000</th>\n",
       "      <td>-0.255032</td>\n",
       "      <td>10.703125</td>\n",
       "      <td>0</td>\n",
       "      <td>1</td>\n",
       "      <td>0</td>\n",
       "      <td>0</td>\n",
       "      <td>0</td>\n",
       "      <td>1</td>\n",
       "      <td>0</td>\n",
       "      <td>0</td>\n",
       "      <td>0</td>\n",
       "      <td>0</td>\n",
       "      <td>0</td>\n",
       "    </tr>\n",
       "    <tr>\n",
       "      <th>012804000</th>\n",
       "      <td>-0.389260</td>\n",
       "      <td>8.500000</td>\n",
       "      <td>0</td>\n",
       "      <td>1</td>\n",
       "      <td>0</td>\n",
       "      <td>0</td>\n",
       "      <td>0</td>\n",
       "      <td>0</td>\n",
       "      <td>1</td>\n",
       "      <td>0</td>\n",
       "      <td>0</td>\n",
       "      <td>0</td>\n",
       "      <td>0</td>\n",
       "    </tr>\n",
       "    <tr>\n",
       "      <th>012805000</th>\n",
       "      <td>-0.068194</td>\n",
       "      <td>7.800781</td>\n",
       "      <td>1</td>\n",
       "      <td>0</td>\n",
       "      <td>0</td>\n",
       "      <td>0</td>\n",
       "      <td>0</td>\n",
       "      <td>0</td>\n",
       "      <td>0</td>\n",
       "      <td>1</td>\n",
       "      <td>0</td>\n",
       "      <td>0</td>\n",
       "      <td>0</td>\n",
       "    </tr>\n",
       "    <tr>\n",
       "      <th>012806000</th>\n",
       "      <td>-0.428037</td>\n",
       "      <td>8.398438</td>\n",
       "      <td>0</td>\n",
       "      <td>1</td>\n",
       "      <td>0</td>\n",
       "      <td>0</td>\n",
       "      <td>0</td>\n",
       "      <td>0</td>\n",
       "      <td>0</td>\n",
       "      <td>1</td>\n",
       "      <td>0</td>\n",
       "      <td>0</td>\n",
       "      <td>0</td>\n",
       "    </tr>\n",
       "    <tr>\n",
       "      <th>...</th>\n",
       "      <td>...</td>\n",
       "      <td>...</td>\n",
       "      <td>...</td>\n",
       "      <td>...</td>\n",
       "      <td>...</td>\n",
       "      <td>...</td>\n",
       "      <td>...</td>\n",
       "      <td>...</td>\n",
       "      <td>...</td>\n",
       "      <td>...</td>\n",
       "      <td>...</td>\n",
       "      <td>...</td>\n",
       "      <td>...</td>\n",
       "    </tr>\n",
       "    <tr>\n",
       "      <th>175913000</th>\n",
       "      <td>-0.321140</td>\n",
       "      <td>37.687500</td>\n",
       "      <td>0</td>\n",
       "      <td>1</td>\n",
       "      <td>0</td>\n",
       "      <td>0</td>\n",
       "      <td>0</td>\n",
       "      <td>0</td>\n",
       "      <td>1</td>\n",
       "      <td>0</td>\n",
       "      <td>0</td>\n",
       "      <td>0</td>\n",
       "      <td>0</td>\n",
       "    </tr>\n",
       "    <tr>\n",
       "      <th>175914000</th>\n",
       "      <td>-0.419292</td>\n",
       "      <td>33.906250</td>\n",
       "      <td>0</td>\n",
       "      <td>1</td>\n",
       "      <td>0</td>\n",
       "      <td>0</td>\n",
       "      <td>0</td>\n",
       "      <td>0</td>\n",
       "      <td>0</td>\n",
       "      <td>1</td>\n",
       "      <td>0</td>\n",
       "      <td>0</td>\n",
       "      <td>0</td>\n",
       "    </tr>\n",
       "    <tr>\n",
       "      <th>175915000</th>\n",
       "      <td>-0.377963</td>\n",
       "      <td>32.687500</td>\n",
       "      <td>0</td>\n",
       "      <td>1</td>\n",
       "      <td>0</td>\n",
       "      <td>0</td>\n",
       "      <td>0</td>\n",
       "      <td>0</td>\n",
       "      <td>0</td>\n",
       "      <td>1</td>\n",
       "      <td>0</td>\n",
       "      <td>0</td>\n",
       "      <td>0</td>\n",
       "    </tr>\n",
       "    <tr>\n",
       "      <th>175916000</th>\n",
       "      <td>-0.450322</td>\n",
       "      <td>33.187500</td>\n",
       "      <td>0</td>\n",
       "      <td>1</td>\n",
       "      <td>0</td>\n",
       "      <td>0</td>\n",
       "      <td>0</td>\n",
       "      <td>0</td>\n",
       "      <td>0</td>\n",
       "      <td>0</td>\n",
       "      <td>1</td>\n",
       "      <td>0</td>\n",
       "      <td>0</td>\n",
       "    </tr>\n",
       "    <tr>\n",
       "      <th>175917000</th>\n",
       "      <td>-0.438090</td>\n",
       "      <td>29.796875</td>\n",
       "      <td>0</td>\n",
       "      <td>1</td>\n",
       "      <td>0</td>\n",
       "      <td>0</td>\n",
       "      <td>0</td>\n",
       "      <td>0</td>\n",
       "      <td>0</td>\n",
       "      <td>1</td>\n",
       "      <td>0</td>\n",
       "      <td>0</td>\n",
       "      <td>0</td>\n",
       "    </tr>\n",
       "  </tbody>\n",
       "</table>\n",
       "<p>1556 rows × 13 columns</p>\n",
       "</div>"
      ],
      "text/plain": [
       "           Population Normalized  Poverty Incidence  GL_City  GL_Mun  \\\n",
       "PSGC                                                                   \n",
       "012802000              -0.250286           7.500000        0       1   \n",
       "012803000              -0.255032          10.703125        0       1   \n",
       "012804000              -0.389260           8.500000        0       1   \n",
       "012805000              -0.068194           7.800781        1       0   \n",
       "012806000              -0.428037           8.398438        0       1   \n",
       "...                          ...                ...      ...     ...   \n",
       "175913000              -0.321140          37.687500        0       1   \n",
       "175914000              -0.419292          33.906250        0       1   \n",
       "175915000              -0.377963          32.687500        0       1   \n",
       "175916000              -0.450322          33.187500        0       1   \n",
       "175917000              -0.438090          29.796875        0       1   \n",
       "\n",
       "           GL_SubMun  IC_1st  IC_2nd  IC_3rd  IC_4th  IC_5th  IC_6th  \\\n",
       "PSGC                                                                   \n",
       "012802000          0       0       0       1       0       0       0   \n",
       "012803000          0       0       0       1       0       0       0   \n",
       "012804000          0       0       0       0       1       0       0   \n",
       "012805000          0       0       0       0       0       1       0   \n",
       "012806000          0       0       0       0       0       1       0   \n",
       "...              ...     ...     ...     ...     ...     ...     ...   \n",
       "175913000          0       0       0       0       1       0       0   \n",
       "175914000          0       0       0       0       0       1       0   \n",
       "175915000          0       0       0       0       0       1       0   \n",
       "175916000          0       0       0       0       0       0       1   \n",
       "175917000          0       0       0       0       0       1       0   \n",
       "\n",
       "           IC_Special  IC_UNK  \n",
       "PSGC                           \n",
       "012802000           0       0  \n",
       "012803000           0       0  \n",
       "012804000           0       0  \n",
       "012805000           0       0  \n",
       "012806000           0       0  \n",
       "...               ...     ...  \n",
       "175913000           0       0  \n",
       "175914000           0       0  \n",
       "175915000           0       0  \n",
       "175916000           0       0  \n",
       "175917000           0       0  \n",
       "\n",
       "[1556 rows x 13 columns]"
      ]
     },
     "execution_count": 65,
     "metadata": {},
     "output_type": "execute_result"
    }
   ],
   "source": [
    "X"
   ]
  },
  {
   "cell_type": "code",
   "execution_count": 66,
   "metadata": {},
   "outputs": [
    {
     "name": "stdout",
     "output_type": "stream",
     "text": [
      "(1244, 13) (312, 13) (1244,) (312,)\n"
     ]
    }
   ],
   "source": [
    "#split into training and test sets\n",
    "X_train, X_valid, y_train, y_valid = train_test_split(X,y, test_size=0.2)\n",
    "print(X_train.shape, X_valid.shape, y_train.shape, y_valid.shape)"
   ]
  },
  {
   "cell_type": "code",
   "execution_count": 67,
   "metadata": {},
   "outputs": [
    {
     "data": {
      "text/plain": [
       "LinearRegression()"
      ]
     },
     "execution_count": 67,
     "metadata": {},
     "output_type": "execute_result"
    }
   ],
   "source": [
    "#fitting a linear model\n",
    "lm = LinearRegression()\n",
    "lm.fit(X_train,y_train)"
   ]
  },
  {
   "cell_type": "code",
   "execution_count": 68,
   "metadata": {},
   "outputs": [
    {
     "data": {
      "text/plain": [
       "0.4330572888019666"
      ]
     },
     "execution_count": 68,
     "metadata": {},
     "output_type": "execute_result"
    }
   ],
   "source": [
    "lm.score(X_train,y_train)"
   ]
  },
  {
   "cell_type": "code",
   "execution_count": 69,
   "metadata": {},
   "outputs": [
    {
     "data": {
      "text/plain": [
       "0.4731868706012472"
      ]
     },
     "execution_count": 69,
     "metadata": {},
     "output_type": "execute_result"
    }
   ],
   "source": [
    "lm.score(X_valid,y_valid)"
   ]
  },
  {
   "cell_type": "code",
   "execution_count": 70,
   "metadata": {},
   "outputs": [
    {
     "data": {
      "text/plain": [
       "0.0021710438649971725"
      ]
     },
     "execution_count": 70,
     "metadata": {},
     "output_type": "execute_result"
    }
   ],
   "source": [
    "y_pred = lm.predict(X_valid)\n",
    "rmse = np.sqrt(metrics.mean_squared_error(y_pred, y_valid))\n",
    "rmse"
   ]
  },
  {
   "cell_type": "code",
   "execution_count": 71,
   "metadata": {},
   "outputs": [
    {
     "data": {
      "text/plain": [
       "RidgeCV(alphas=array([1.e-02, 1.e-01, 1.e+00, 1.e+01, 1.e+02, 1.e+03]), cv=5)"
      ]
     },
     "execution_count": 71,
     "metadata": {},
     "output_type": "execute_result"
    }
   ],
   "source": [
    "rdgCV = RidgeCV(alphas=[0.01,0.1,1,10,100,1000], cv=5)\n",
    "rdgCV.fit(X_train,y_train)"
   ]
  },
  {
   "cell_type": "code",
   "execution_count": 72,
   "metadata": {},
   "outputs": [
    {
     "name": "stdout",
     "output_type": "stream",
     "text": [
      "1.0\n"
     ]
    }
   ],
   "source": [
    "print(rdgCV.alpha_)"
   ]
  },
  {
   "cell_type": "code",
   "execution_count": 73,
   "metadata": {},
   "outputs": [
    {
     "data": {
      "text/plain": [
       "0.4285565976365009"
      ]
     },
     "execution_count": 73,
     "metadata": {},
     "output_type": "execute_result"
    }
   ],
   "source": [
    "rdg = Ridge(alpha=10)\n",
    "rdg.fit(X_train, y_train)\n",
    "rdg.score(X_valid, y_valid)"
   ]
  },
  {
   "cell_type": "code",
   "execution_count": 74,
   "metadata": {},
   "outputs": [
    {
     "data": {
      "text/plain": [
       "0.002261137198361836"
      ]
     },
     "execution_count": 74,
     "metadata": {},
     "output_type": "execute_result"
    }
   ],
   "source": [
    "y_pred = rdg.predict(X_valid)\n",
    "rmse = np.sqrt(metrics.mean_squared_error(y_pred, y_valid))\n",
    "rmse"
   ]
  },
  {
   "cell_type": "code",
   "execution_count": 75,
   "metadata": {},
   "outputs": [
    {
     "data": {
      "text/plain": [
       "RandomForestRegressor(n_jobs=-1)"
      ]
     },
     "execution_count": 75,
     "metadata": {},
     "output_type": "execute_result"
    }
   ],
   "source": [
    "rfr = RandomForestRegressor(n_jobs=-1, n_estimators=100)\n",
    "rfr.fit(X,y)"
   ]
  },
  {
   "cell_type": "code",
   "execution_count": 76,
   "metadata": {},
   "outputs": [
    {
     "data": {
      "text/plain": [
       "0.9393690692017371"
      ]
     },
     "execution_count": 76,
     "metadata": {},
     "output_type": "execute_result"
    }
   ],
   "source": [
    "rfr.score(X_valid,y_valid)"
   ]
  },
  {
   "cell_type": "code",
   "execution_count": 77,
   "metadata": {},
   "outputs": [
    {
     "data": {
      "text/plain": [
       "0.0007365248783132882"
      ]
     },
     "execution_count": 77,
     "metadata": {},
     "output_type": "execute_result"
    }
   ],
   "source": [
    "y_pred = rfr.predict(X_valid)\n",
    "rmse = np.sqrt(metrics.mean_squared_error(y_pred, y_valid))\n",
    "rmse"
   ]
  },
  {
   "cell_type": "code",
   "execution_count": 78,
   "metadata": {},
   "outputs": [
    {
     "name": "stdout",
     "output_type": "stream",
     "text": [
      "[ 7.19830936e-04 -2.64660197e-05 -3.64956150e-03 -4.61881743e-03\n",
      "  8.26837892e-03  7.68523543e-05 -6.34715834e-05 -2.75327635e-04\n",
      " -7.11682133e-05  5.59570981e-05  1.44499463e-04  0.00000000e+00\n",
      "  1.32658517e-04]\n",
      "4\n",
      "GL_Mun\n",
      "[ 7.20502704e-04 -2.75572035e-05 -3.25621691e-03 -4.24446066e-03\n",
      "  7.50067757e-03 -2.17073831e-06 -1.32222373e-04 -3.45290173e-04\n",
      " -1.38690128e-04 -9.18573330e-06  7.19195033e-05  0.00000000e+00\n",
      "  5.55639643e-04]\n",
      "4\n"
     ]
    }
   ],
   "source": [
    "print(lm.coef_)\n",
    "print(np.argmax(lm.coef_))\n",
    "print(df5.columns[np.argmax(lm.coef_)])\n",
    "print(rdgCV.coef_)\n",
    "print(np.argmax(rdgCV.coef_))"
   ]
  },
  {
   "cell_type": "code",
   "execution_count": 79,
   "metadata": {},
   "outputs": [
    {
     "name": "stdout",
     "output_type": "stream",
     "text": [
      "-----training score ---\n",
      "0.4330572888019666\n",
      "0.43206077416199307\n",
      "0.927935682681025\n",
      "----Validation score ---\n",
      "0.4731868706012472\n",
      "0.4672790681665583\n",
      "0.6269051494497069\n"
     ]
    }
   ],
   "source": [
    "rfr.fit(X_train,y_train)\n",
    "\n",
    "y_lm_pred = lm.predict(X_train)\n",
    "y_rdgCV_pred = rdgCV.predict(X_train)\n",
    "y_rfr_pred = rfr.predict(X_train)\n",
    "\n",
    "print('-----training score ---')\n",
    "print(lm.score(X_train, y_train))\n",
    "print(rdgCV.score(X_train, y_train))\n",
    "print(rfr.score(X_train, y_train))\n",
    "print('----Validation score ---')\n",
    "print(lm.score(X_valid, y_valid))\n",
    "print(rdgCV.score(X_valid, y_valid))\n",
    "print(rfr.score(X_valid, y_valid))"
   ]
  },
  {
   "cell_type": "code",
   "execution_count": 80,
   "metadata": {},
   "outputs": [
    {
     "ename": "IndexError",
     "evalue": "Inconsistent shape between the condition and the input (got (15, 1) and (15,))",
     "output_type": "error",
     "traceback": [
      "\u001b[0;31m---------------------------------------------------------------------------\u001b[0m",
      "\u001b[0;31mIndexError\u001b[0m                                Traceback (most recent call last)",
      "\u001b[0;32m<ipython-input-80-4e606d9d064a>\u001b[0m in \u001b[0;36m<module>\u001b[0;34m\u001b[0m\n\u001b[0;32m----> 1\u001b[0;31m \u001b[0msns\u001b[0m\u001b[0;34m.\u001b[0m\u001b[0mheatmap\u001b[0m\u001b[0;34m(\u001b[0m\u001b[0mdf5\u001b[0m\u001b[0;34m.\u001b[0m\u001b[0mcorr\u001b[0m\u001b[0;34m(\u001b[0m\u001b[0;34m)\u001b[0m\u001b[0;34m.\u001b[0m\u001b[0mloc\u001b[0m\u001b[0;34m[\u001b[0m\u001b[0;34m'Case Per Capita'\u001b[0m\u001b[0;34m]\u001b[0m\u001b[0;34m,\u001b[0m \u001b[0mrobust\u001b[0m \u001b[0;34m=\u001b[0m \u001b[0;32mTrue\u001b[0m\u001b[0;34m)\u001b[0m\u001b[0;34m\u001b[0m\u001b[0;34m\u001b[0m\u001b[0m\n\u001b[0m",
      "\u001b[0;32m~/opt/anaconda3/envs/Coursera/lib/python3.8/site-packages/seaborn/_decorators.py\u001b[0m in \u001b[0;36minner_f\u001b[0;34m(*args, **kwargs)\u001b[0m\n\u001b[1;32m     44\u001b[0m             )\n\u001b[1;32m     45\u001b[0m         \u001b[0mkwargs\u001b[0m\u001b[0;34m.\u001b[0m\u001b[0mupdate\u001b[0m\u001b[0;34m(\u001b[0m\u001b[0;34m{\u001b[0m\u001b[0mk\u001b[0m\u001b[0;34m:\u001b[0m \u001b[0marg\u001b[0m \u001b[0;32mfor\u001b[0m \u001b[0mk\u001b[0m\u001b[0;34m,\u001b[0m \u001b[0marg\u001b[0m \u001b[0;32min\u001b[0m \u001b[0mzip\u001b[0m\u001b[0;34m(\u001b[0m\u001b[0msig\u001b[0m\u001b[0;34m.\u001b[0m\u001b[0mparameters\u001b[0m\u001b[0;34m,\u001b[0m \u001b[0margs\u001b[0m\u001b[0;34m)\u001b[0m\u001b[0;34m}\u001b[0m\u001b[0;34m)\u001b[0m\u001b[0;34m\u001b[0m\u001b[0;34m\u001b[0m\u001b[0m\n\u001b[0;32m---> 46\u001b[0;31m         \u001b[0;32mreturn\u001b[0m \u001b[0mf\u001b[0m\u001b[0;34m(\u001b[0m\u001b[0;34m**\u001b[0m\u001b[0mkwargs\u001b[0m\u001b[0;34m)\u001b[0m\u001b[0;34m\u001b[0m\u001b[0;34m\u001b[0m\u001b[0m\n\u001b[0m\u001b[1;32m     47\u001b[0m     \u001b[0;32mreturn\u001b[0m \u001b[0minner_f\u001b[0m\u001b[0;34m\u001b[0m\u001b[0;34m\u001b[0m\u001b[0m\n\u001b[1;32m     48\u001b[0m \u001b[0;34m\u001b[0m\u001b[0m\n",
      "\u001b[0;32m~/opt/anaconda3/envs/Coursera/lib/python3.8/site-packages/seaborn/matrix.py\u001b[0m in \u001b[0;36mheatmap\u001b[0;34m(data, vmin, vmax, cmap, center, robust, annot, fmt, annot_kws, linewidths, linecolor, cbar, cbar_kws, cbar_ax, square, xticklabels, yticklabels, mask, ax, **kwargs)\u001b[0m\n\u001b[1;32m    543\u001b[0m     \"\"\"\n\u001b[1;32m    544\u001b[0m     \u001b[0;31m# Initialize the plotter object\u001b[0m\u001b[0;34m\u001b[0m\u001b[0;34m\u001b[0m\u001b[0;34m\u001b[0m\u001b[0m\n\u001b[0;32m--> 545\u001b[0;31m     plotter = _HeatMapper(data, vmin, vmax, cmap, center, robust, annot, fmt,\n\u001b[0m\u001b[1;32m    546\u001b[0m                           \u001b[0mannot_kws\u001b[0m\u001b[0;34m,\u001b[0m \u001b[0mcbar\u001b[0m\u001b[0;34m,\u001b[0m \u001b[0mcbar_kws\u001b[0m\u001b[0;34m,\u001b[0m \u001b[0mxticklabels\u001b[0m\u001b[0;34m,\u001b[0m\u001b[0;34m\u001b[0m\u001b[0;34m\u001b[0m\u001b[0m\n\u001b[1;32m    547\u001b[0m                           yticklabels, mask)\n",
      "\u001b[0;32m~/opt/anaconda3/envs/Coursera/lib/python3.8/site-packages/seaborn/matrix.py\u001b[0m in \u001b[0;36m__init__\u001b[0;34m(self, data, vmin, vmax, cmap, center, robust, annot, fmt, annot_kws, cbar, cbar_kws, xticklabels, yticklabels, mask)\u001b[0m\n\u001b[1;32m    112\u001b[0m         \u001b[0mmask\u001b[0m \u001b[0;34m=\u001b[0m \u001b[0m_matrix_mask\u001b[0m\u001b[0;34m(\u001b[0m\u001b[0mdata\u001b[0m\u001b[0;34m,\u001b[0m \u001b[0mmask\u001b[0m\u001b[0;34m)\u001b[0m\u001b[0;34m\u001b[0m\u001b[0;34m\u001b[0m\u001b[0m\n\u001b[1;32m    113\u001b[0m \u001b[0;34m\u001b[0m\u001b[0m\n\u001b[0;32m--> 114\u001b[0;31m         \u001b[0mplot_data\u001b[0m \u001b[0;34m=\u001b[0m \u001b[0mnp\u001b[0m\u001b[0;34m.\u001b[0m\u001b[0mma\u001b[0m\u001b[0;34m.\u001b[0m\u001b[0mmasked_where\u001b[0m\u001b[0;34m(\u001b[0m\u001b[0mnp\u001b[0m\u001b[0;34m.\u001b[0m\u001b[0masarray\u001b[0m\u001b[0;34m(\u001b[0m\u001b[0mmask\u001b[0m\u001b[0;34m)\u001b[0m\u001b[0;34m,\u001b[0m \u001b[0mplot_data\u001b[0m\u001b[0;34m)\u001b[0m\u001b[0;34m\u001b[0m\u001b[0;34m\u001b[0m\u001b[0m\n\u001b[0m\u001b[1;32m    115\u001b[0m \u001b[0;34m\u001b[0m\u001b[0m\n\u001b[1;32m    116\u001b[0m         \u001b[0;31m# Get good names for the rows and columns\u001b[0m\u001b[0;34m\u001b[0m\u001b[0;34m\u001b[0m\u001b[0;34m\u001b[0m\u001b[0m\n",
      "\u001b[0;32m~/opt/anaconda3/envs/Coursera/lib/python3.8/site-packages/numpy/ma/core.py\u001b[0m in \u001b[0;36mmasked_where\u001b[0;34m(condition, a, copy)\u001b[0m\n\u001b[1;32m   1933\u001b[0m     \u001b[0;34m(\u001b[0m\u001b[0mcshape\u001b[0m\u001b[0;34m,\u001b[0m \u001b[0mashape\u001b[0m\u001b[0;34m)\u001b[0m \u001b[0;34m=\u001b[0m \u001b[0;34m(\u001b[0m\u001b[0mcond\u001b[0m\u001b[0;34m.\u001b[0m\u001b[0mshape\u001b[0m\u001b[0;34m,\u001b[0m \u001b[0ma\u001b[0m\u001b[0;34m.\u001b[0m\u001b[0mshape\u001b[0m\u001b[0;34m)\u001b[0m\u001b[0;34m\u001b[0m\u001b[0;34m\u001b[0m\u001b[0m\n\u001b[1;32m   1934\u001b[0m     \u001b[0;32mif\u001b[0m \u001b[0mcshape\u001b[0m \u001b[0;32mand\u001b[0m \u001b[0mcshape\u001b[0m \u001b[0;34m!=\u001b[0m \u001b[0mashape\u001b[0m\u001b[0;34m:\u001b[0m\u001b[0;34m\u001b[0m\u001b[0;34m\u001b[0m\u001b[0m\n\u001b[0;32m-> 1935\u001b[0;31m         raise IndexError(\"Inconsistent shape between the condition and the input\"\n\u001b[0m\u001b[1;32m   1936\u001b[0m                          \" (got %s and %s)\" % (cshape, ashape))\n\u001b[1;32m   1937\u001b[0m     \u001b[0;32mif\u001b[0m \u001b[0mhasattr\u001b[0m\u001b[0;34m(\u001b[0m\u001b[0ma\u001b[0m\u001b[0;34m,\u001b[0m \u001b[0;34m'_mask'\u001b[0m\u001b[0;34m)\u001b[0m\u001b[0;34m:\u001b[0m\u001b[0;34m\u001b[0m\u001b[0;34m\u001b[0m\u001b[0m\n",
      "\u001b[0;31mIndexError\u001b[0m: Inconsistent shape between the condition and the input (got (15, 1) and (15,))"
     ]
    }
   ],
   "source": [
    "sns.heatmap(df5.corr().loc['Case Per Capita'], robust = True)"
   ]
  },
  {
   "cell_type": "markdown",
   "metadata": {},
   "source": [
    "# Results\n",
    "section where you discuss the results."
   ]
  },
  {
   "cell_type": "markdown",
   "metadata": {},
   "source": [
    "# Discussion\n",
    "section where you discuss any observations you noted and any recommendations you can make based on the results."
   ]
  },
  {
   "cell_type": "markdown",
   "metadata": {},
   "source": [
    "# Conclusion\n",
    "section where you conclude the report."
   ]
  },
  {
   "cell_type": "code",
   "execution_count": null,
   "metadata": {},
   "outputs": [],
   "source": []
  }
 ],
 "metadata": {
  "kernelspec": {
   "display_name": "Python 3",
   "language": "python",
   "name": "python3"
  },
  "language_info": {
   "codemirror_mode": {
    "name": "ipython",
    "version": 3
   },
   "file_extension": ".py",
   "mimetype": "text/x-python",
   "name": "python",
   "nbconvert_exporter": "python",
   "pygments_lexer": "ipython3",
   "version": "3.8.2"
  }
 },
 "nbformat": 4,
 "nbformat_minor": 4
}
