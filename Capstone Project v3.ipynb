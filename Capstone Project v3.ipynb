{
 "cells": [
  {
   "cell_type": "markdown",
   "metadata": {},
   "source": [
    "# Introduction/Business Problem\n",
    "The COVID-19 pandemic has taken an unprecedented toll globally, already affecting over 2M people, taking over 200K lives and, according to WEF, will likely cost the world 2 trillion USD in economic losses.\n",
    "\n",
    "Not all cities are affected by the virus the same way. We want to see how poverty incidence, a metric used to measured the level of poverty in a geographic area, is a predictor for severity of problem as measured by cases per capita."
   ]
  },
  {
   "cell_type": "markdown",
   "metadata": {},
   "source": [
    "# Data Section\n",
    "For this exercise, we will be using the following datasets:\n",
    "\n",
    "1. **Case Information dataset**\n",
    "    \n",
    "    **Source:** Philippine Department of Health. See https://www.doh.gov.ph/2019-nCoV\n",
    "    \n",
    "    **Description:** List of confirmed COVID-19 cases from the DOH Epidemiological Bureau.\n",
    "\n",
    "    **Dataset fields:**\n",
    "\t* CaseCode : Random code assigned for labelling cases\n",
    "\t* Age : Age\n",
    "\t* AgeGroup : Five-year age group\n",
    "\t* Sex : Sex\n",
    "\t* DateRepConf : Date publicly announced as confirmed case\n",
    "\t* DateRecover : Date recovered\n",
    "\t* DateDied : Date died\n",
    "\t* RemovalType : Type of removal (recovery or death)\n",
    "\t* DateRepRem : Date publicly announced as removed\n",
    "\t* Admitted : Binary variable indicating patient has been admitted to hospital\n",
    "\t* RegionRes : Region of residence\n",
    "\t* ProvCityRes : Province of residence\n",
    "\t* RegionPSGC : Philippine Standard Geographic Code of Region of Residence\n",
    "\t* ProvPSGC : Philippine Standard Geographic Code of Province of Residence\n",
    "\t* MunCityPSGC : Philippine Standard Geographic Code of Municipality or City of Residence\n",
    "\t* HealthStatus : Known current health status of patient (asymptomatic, mild, severe, critical, died, recovered)\n",
    "\t* Quarantined : Ever been home quarantined, not necessarily currently in home quarantine\n",
    "\n",
    "\n",
    "2. **Municipal and City Level Poverty Estimates**\n",
    "\n",
    "    **Source:** The Philippine Statistics Authority (PSA). See https://psa.gov.ph/content/psa-releases-2015-municipal-and-city-level-poverty-estimates\n",
    "\n",
    "    **Description:** This is a set of estimates using the small area estimation (SAE) technique. See https://psa.gov.ph/sites/default/files/Technical%20Notes%20on%202015%20SAE.pdf\n",
    "\n",
    "    **Dataset fields:**\n",
    "    * PSGC\n",
    "    * Region/Province\n",
    "    * Municipality/City\n",
    "    * Poverty Incidence\n",
    "\n",
    "\n",
    "2. **Philippine Standard Geographic Code (PSGC)**\n",
    "\n",
    "    **Source:** The Philippine Statistics Authority (PSA). See https://psa.gov.ph/content/psa-releases-2015-municipal-and-city-level-poverty-estimates\n",
    "\n",
    "    **Description:** The PSGC is a systematic classification and coding of geographic areas in the Philippines. It is based on the four (4) well-established hierarchical levels of geographical-political subdivisions of the country, namely, the administrative region, the province, the municipality/city, and the barangay.\n",
    "\n",
    "    **Dataset fields:**\n",
    "    \n",
    "    * Column \"Code\": PSGC Code\n",
    "    * Column \"Income Classification\"\n",
    "    * Column \"Class\" (Average Annual Income)\n",
    "        * Provinces:\n",
    "            * 1st\tP 450M or more\n",
    "            * 2nd\tP 360M or more but less than P 450M\n",
    "            * 3rd\tP 270M or more but less than P 360M\n",
    "            * 4th\tP 180M or more but less than P 270M\n",
    "            * 5th\tP 90M or more but less than P 180M\n",
    "            * 6th\tBelow P 90M\n",
    "        * Cities\n",
    "            * 1st\tP 400M or more\n",
    "            * 2nd\tP 320M or more but less than P 400M\n",
    "            * 3rd\tP 240M or more but less than P 320M\n",
    "            * 4th\tP 160M or more but less than P 240M\n",
    "            * 5th\tP 80M or more but less than P 160M\n",
    "            * 6th\tBelow P 80M\n",
    "        * Municipalities\n",
    "            * 1st\tP 55M or more\n",
    "            * 2nd\tP 45M or more but less than P 55M\n",
    "            * 3rd\tP 35M or more but less than P 45M\n",
    "            * 4th\tP 25M or more but less than P 35M\n",
    "            * 5th\tP 15M or more but less than P 25M\n",
    "            * 6th\tBelow P 15M\t\t\n",
    "    * Column \"Urban / Rural\"\n",
    "\t* Column \"Population\"\t\n",
    "    \n",
    "\n",
    "\n",
    "2. Geojson dataset of cities and municipalities in the Philippines. We will use this dataset to provide the mapping boundaries of the different cities and municipalities in the Philippines.\n",
    "\t* ID_0 : Unique ID 0\n",
    "\t* ISO : ISO Country Code\n",
    "\t* NAME_0 : Country Name\n",
    "\t* NAME_2 : Municipality or City Name\n",
    "\t* PROVINCE : Province Name\n",
    "\t* REGION : Regiona Name\n",
    "\t* geometry : Polygon, coordinates"
   ]
  },
  {
   "cell_type": "markdown",
   "metadata": {},
   "source": [
    "# Methodology\n",
    "section which represents the main component of the report where you discuss and describe any exploratory data analysis that you did, any inferential statistical testing that you performed, if any, and what machine learnings were used and why.\n",
    "\n",
    "We will use the CRISP-DM (Cross-Industry Process for Data Mining) methodology. The CRISP-DM methodology is well-proven methodology in data science. CRISP-DM loosely and iteratively follows six major phases:\n",
    "\n",
    "1. Business Understanding\n",
    "2. Data Understanding\n",
    "3. Data Preparation\n",
    "4. Modeling\n",
    "5. Evaluation\n",
    "6. Deployment\n",
    "\n",
    "As we have have covered #1 and #2 previously, we will continue with Data Preparation."
   ]
  },
  {
   "cell_type": "markdown",
   "metadata": {},
   "source": [
    "# Results"
   ]
  },
  {
   "cell_type": "markdown",
   "metadata": {},
   "source": [
    "# Discussion"
   ]
  },
  {
   "cell_type": "markdown",
   "metadata": {},
   "source": [
    "# Conclusion"
   ]
  },
  {
   "cell_type": "markdown",
   "metadata": {},
   "source": [
    "## Data Preparation"
   ]
  },
  {
   "cell_type": "markdown",
   "metadata": {},
   "source": [
    "### Loading Data"
   ]
  },
  {
   "cell_type": "markdown",
   "metadata": {},
   "source": [
    "1. We start by importing all necessary libraries and installing all dependencies for the project."
   ]
  },
  {
   "cell_type": "markdown",
   "metadata": {},
   "source": [
    "## plan\n",
    "\n",
    "- [Setup](#setup)\n",
    "    - import libraries\n",
    "- [Prepare data](#data_prep)\n",
    "    - DOH data\n",
    "        - explore\n",
    "        - clean\n",
    "        - select\n",
    "    - Poverty data\n",
    "        - explore\n",
    "        - clean\n",
    "        - select\n",
    "    - City index data\n",
    "        - explore\n",
    "        - clean\n",
    "        - select\n",
    "    - City Latlong\n",
    "        - load json\n",
    "        - explore\n",
    "        - clean\n",
    "        - select\n",
    "    - Merge data\n",
    "        - calculate case/pop as predicted variable\n",
    "        - calculate distance from manila as additional feature\n",
    "- Predict\n",
    "- Visualize"
   ]
  },
  {
   "cell_type": "markdown",
   "metadata": {},
   "source": [
    "<a name=\"setup\"></a>\n",
    "### Setup"
   ]
  },
  {
   "cell_type": "markdown",
   "metadata": {},
   "source": [
    "<a name=\"import_lib\"></a>\n",
    "#### Import libraries"
   ]
  },
  {
   "cell_type": "code",
   "execution_count": 1,
   "metadata": {},
   "outputs": [
    {
     "name": "stdout",
     "output_type": "stream",
     "text": [
      "Libraries imported.\n"
     ]
    }
   ],
   "source": [
    "import numpy as np\n",
    "import pandas as pd\n",
    "import json5 as json # library to handle JSON files\n",
    "import requests\n",
    "from pandas.io.json import json_normalize # tranform JSON file into a pandas dataframe\n",
    "import matplotlib.cm as cm\n",
    "import matplotlib.colors as colors\n",
    "import folium # map rendering library\n",
    "import seaborn as sns\n",
    "import xlrd\n",
    "#import shapely\n",
    "#import fiona\n",
    "#import pyproj\n",
    "import geopandas as gpd\n",
    "\n",
    "#prep\n",
    "from sklearn.model_selection import train_test_split, GridSearchCV, RandomizedSearchCV\n",
    "from sklearn.preprocessing import LabelEncoder, StandardScaler, MaxAbsScaler, QuantileTransformer\n",
    "\n",
    "#models\n",
    "from sklearn.linear_model import LogisticRegression, LogisticRegressionCV, LinearRegression, Ridge, RidgeCV\n",
    "from sklearn.tree import DecisionTreeRegressor\n",
    "from sklearn.ensemble import RandomForestRegressor\n",
    "\n",
    "#validation libraries\n",
    "from sklearn.model_selection import KFold, StratifiedKFold\n",
    "from IPython.display import display\n",
    "from sklearn import metrics\n",
    "\n",
    "\n",
    "\n",
    "print('Libraries imported.')"
   ]
  },
  {
   "cell_type": "markdown",
   "metadata": {},
   "source": [
    "<a name='data_prep'></a>\n",
    "### Data Preparation"
   ]
  },
  {
   "cell_type": "markdown",
   "metadata": {},
   "source": [
    "#### DOH Data"
   ]
  },
  {
   "cell_type": "markdown",
   "metadata": {},
   "source": [
    "1. We define the columns and their proper data types."
   ]
  },
  {
   "cell_type": "code",
   "execution_count": 2,
   "metadata": {},
   "outputs": [],
   "source": [
    "#define column types\n",
    "col_types = {'Age' : 'float64', \n",
    "             'AgeGroup' : 'category', \n",
    "             'Sex' : 'category', \n",
    "             'RemovalType' : 'category', \n",
    "             'Admitted' : 'category', \n",
    "             'RegionRes' : 'category', \n",
    "             'ProvRes' : 'category', \n",
    "             'CityMunRes' : 'category', \n",
    "             'CityMuniPSGC' : 'category',\n",
    "             'BarangayRes' : 'category',\n",
    "             'BarangayPSGC' : 'category',\n",
    "             'HealthStatus' : 'category', \n",
    "             'Quarantined' : 'category', \n",
    "             'Pregnanttab' : 'category', \n",
    "             'ValidationStatus' : 'category'}\n",
    "col_date = [4, 5, 6, 7, 8, 19]"
   ]
  },
  {
   "cell_type": "markdown",
   "metadata": {},
   "source": [
    "3. We read the csv and load it into a data frame."
   ]
  },
  {
   "cell_type": "code",
   "execution_count": 3,
   "metadata": {},
   "outputs": [],
   "source": [
    "df_cases_raw = pd.read_csv(\"DOH COVID Data Drop_ 20201013 - 04 Case Information.csv\", dtype = col_types, parse_dates = col_date)"
   ]
  },
  {
   "cell_type": "markdown",
   "metadata": {},
   "source": [
    "##### Exploratory Data Analysis\n",
    "1. We do a quick check on the dataframe"
   ]
  },
  {
   "cell_type": "code",
   "execution_count": 4,
   "metadata": {},
   "outputs": [
    {
     "name": "stdout",
     "output_type": "stream",
     "text": [
      "<class 'pandas.core.frame.DataFrame'>\n",
      "RangeIndex: 344713 entries, 0 to 344712\n",
      "Data columns (total 22 columns):\n",
      " #   Column             Non-Null Count   Dtype         \n",
      "---  ------             --------------   -----         \n",
      " 0   CaseCode           344713 non-null  object        \n",
      " 1   Age                342504 non-null  float64       \n",
      " 2   AgeGroup           342504 non-null  category      \n",
      " 3   Sex                344713 non-null  category      \n",
      " 4   DateSpecimen       296568 non-null  datetime64[ns]\n",
      " 5   DateResultRelease  298652 non-null  datetime64[ns]\n",
      " 6   DateRepConf        344713 non-null  datetime64[ns]\n",
      " 7   DateDied           6334 non-null    datetime64[ns]\n",
      " 8   DateRecover        74015 non-null   datetime64[ns]\n",
      " 9   RemovalType        299755 non-null  category      \n",
      " 10  Admitted           344559 non-null  category      \n",
      " 11  RegionRes          340934 non-null  category      \n",
      " 12  ProvRes            319787 non-null  category      \n",
      " 13  CityMunRes         309212 non-null  category      \n",
      " 14  CityMuniPSGC       309212 non-null  category      \n",
      " 15  BarangayRes        116502 non-null  category      \n",
      " 16  BarangayPSGC       116502 non-null  category      \n",
      " 17  HealthStatus       344713 non-null  category      \n",
      " 18  Quarantined        344555 non-null  category      \n",
      " 19  DateOnset          107945 non-null  datetime64[ns]\n",
      " 20  Pregnanttab        154846 non-null  category      \n",
      " 21  ValidationStatus   229852 non-null  category      \n",
      "dtypes: category(14), datetime64[ns](6), float64(1), object(1)\n",
      "memory usage: 28.2+ MB\n"
     ]
    },
    {
     "data": {
      "text/html": [
       "<div>\n",
       "<style scoped>\n",
       "    .dataframe tbody tr th:only-of-type {\n",
       "        vertical-align: middle;\n",
       "    }\n",
       "\n",
       "    .dataframe tbody tr th {\n",
       "        vertical-align: top;\n",
       "    }\n",
       "\n",
       "    .dataframe thead th {\n",
       "        text-align: right;\n",
       "    }\n",
       "</style>\n",
       "<table border=\"1\" class=\"dataframe\">\n",
       "  <thead>\n",
       "    <tr style=\"text-align: right;\">\n",
       "      <th></th>\n",
       "      <th>CaseCode</th>\n",
       "      <th>Age</th>\n",
       "      <th>AgeGroup</th>\n",
       "      <th>Sex</th>\n",
       "      <th>DateSpecimen</th>\n",
       "      <th>DateResultRelease</th>\n",
       "      <th>DateRepConf</th>\n",
       "      <th>DateDied</th>\n",
       "      <th>DateRecover</th>\n",
       "      <th>RemovalType</th>\n",
       "      <th>...</th>\n",
       "      <th>ProvRes</th>\n",
       "      <th>CityMunRes</th>\n",
       "      <th>CityMuniPSGC</th>\n",
       "      <th>BarangayRes</th>\n",
       "      <th>BarangayPSGC</th>\n",
       "      <th>HealthStatus</th>\n",
       "      <th>Quarantined</th>\n",
       "      <th>DateOnset</th>\n",
       "      <th>Pregnanttab</th>\n",
       "      <th>ValidationStatus</th>\n",
       "    </tr>\n",
       "  </thead>\n",
       "  <tbody>\n",
       "    <tr>\n",
       "      <th>0</th>\n",
       "      <td>C900280</td>\n",
       "      <td>35.0</td>\n",
       "      <td>35 to 39</td>\n",
       "      <td>MALE</td>\n",
       "      <td>2020-07-03</td>\n",
       "      <td>2020-07-29</td>\n",
       "      <td>2020-08-05</td>\n",
       "      <td>NaT</td>\n",
       "      <td>NaT</td>\n",
       "      <td>RECOVERED</td>\n",
       "      <td>...</td>\n",
       "      <td>CAVITE</td>\n",
       "      <td>IMUS CITY</td>\n",
       "      <td>PH042109000</td>\n",
       "      <td>NaN</td>\n",
       "      <td>NaN</td>\n",
       "      <td>RECOVERED</td>\n",
       "      <td>NO</td>\n",
       "      <td>NaT</td>\n",
       "      <td>NaN</td>\n",
       "      <td>Removal Type is \"Recovered\", but no Recovered ...</td>\n",
       "    </tr>\n",
       "    <tr>\n",
       "      <th>1</th>\n",
       "      <td>C778257</td>\n",
       "      <td>32.0</td>\n",
       "      <td>30 to 34</td>\n",
       "      <td>FEMALE</td>\n",
       "      <td>2020-07-15</td>\n",
       "      <td>2020-07-17</td>\n",
       "      <td>2020-07-20</td>\n",
       "      <td>NaT</td>\n",
       "      <td>NaT</td>\n",
       "      <td>RECOVERED</td>\n",
       "      <td>...</td>\n",
       "      <td>COTABATO CITY (NOT A PROVINCE)</td>\n",
       "      <td>NaN</td>\n",
       "      <td>NaN</td>\n",
       "      <td>NaN</td>\n",
       "      <td>NaN</td>\n",
       "      <td>RECOVERED</td>\n",
       "      <td>NO</td>\n",
       "      <td>NaT</td>\n",
       "      <td>NO</td>\n",
       "      <td>Removal Type is \"Recovered\", but no Recovered ...</td>\n",
       "    </tr>\n",
       "    <tr>\n",
       "      <th>2</th>\n",
       "      <td>C778303</td>\n",
       "      <td>54.0</td>\n",
       "      <td>50 to 54</td>\n",
       "      <td>MALE</td>\n",
       "      <td>2020-07-24</td>\n",
       "      <td>2020-07-29</td>\n",
       "      <td>2020-08-02</td>\n",
       "      <td>NaT</td>\n",
       "      <td>NaT</td>\n",
       "      <td>RECOVERED</td>\n",
       "      <td>...</td>\n",
       "      <td>NCR</td>\n",
       "      <td>CITY OF MANILA</td>\n",
       "      <td>PH133901000</td>\n",
       "      <td>NaN</td>\n",
       "      <td>NaN</td>\n",
       "      <td>RECOVERED</td>\n",
       "      <td>NO</td>\n",
       "      <td>NaT</td>\n",
       "      <td>NaN</td>\n",
       "      <td>Health Status is \"Recovered\", but no Date Reco...</td>\n",
       "    </tr>\n",
       "    <tr>\n",
       "      <th>3</th>\n",
       "      <td>C928860</td>\n",
       "      <td>33.0</td>\n",
       "      <td>30 to 34</td>\n",
       "      <td>MALE</td>\n",
       "      <td>NaT</td>\n",
       "      <td>NaT</td>\n",
       "      <td>2020-06-01</td>\n",
       "      <td>NaT</td>\n",
       "      <td>NaT</td>\n",
       "      <td>RECOVERED</td>\n",
       "      <td>...</td>\n",
       "      <td>NaN</td>\n",
       "      <td>NaN</td>\n",
       "      <td>NaN</td>\n",
       "      <td>NaN</td>\n",
       "      <td>NaN</td>\n",
       "      <td>RECOVERED</td>\n",
       "      <td>YES</td>\n",
       "      <td>NaT</td>\n",
       "      <td>NaN</td>\n",
       "      <td>Health Status is \"Recovered\", but no Date Reco...</td>\n",
       "    </tr>\n",
       "    <tr>\n",
       "      <th>4</th>\n",
       "      <td>C620602</td>\n",
       "      <td>1.0</td>\n",
       "      <td>0 to 4</td>\n",
       "      <td>FEMALE</td>\n",
       "      <td>2020-07-13</td>\n",
       "      <td>2020-07-16</td>\n",
       "      <td>2020-07-30</td>\n",
       "      <td>NaT</td>\n",
       "      <td>2020-07-30</td>\n",
       "      <td>RECOVERED</td>\n",
       "      <td>...</td>\n",
       "      <td>NCR</td>\n",
       "      <td>NaN</td>\n",
       "      <td>NaN</td>\n",
       "      <td>NaN</td>\n",
       "      <td>NaN</td>\n",
       "      <td>RECOVERED</td>\n",
       "      <td>NO</td>\n",
       "      <td>NaT</td>\n",
       "      <td>NO</td>\n",
       "      <td>NaN</td>\n",
       "    </tr>\n",
       "  </tbody>\n",
       "</table>\n",
       "<p>5 rows × 22 columns</p>\n",
       "</div>"
      ],
      "text/plain": [
       "  CaseCode   Age  AgeGroup     Sex DateSpecimen DateResultRelease DateRepConf  \\\n",
       "0  C900280  35.0  35 to 39    MALE   2020-07-03        2020-07-29  2020-08-05   \n",
       "1  C778257  32.0  30 to 34  FEMALE   2020-07-15        2020-07-17  2020-07-20   \n",
       "2  C778303  54.0  50 to 54    MALE   2020-07-24        2020-07-29  2020-08-02   \n",
       "3  C928860  33.0  30 to 34    MALE          NaT               NaT  2020-06-01   \n",
       "4  C620602   1.0    0 to 4  FEMALE   2020-07-13        2020-07-16  2020-07-30   \n",
       "\n",
       "  DateDied DateRecover RemovalType  ...                         ProvRes  \\\n",
       "0      NaT         NaT   RECOVERED  ...                          CAVITE   \n",
       "1      NaT         NaT   RECOVERED  ...  COTABATO CITY (NOT A PROVINCE)   \n",
       "2      NaT         NaT   RECOVERED  ...                             NCR   \n",
       "3      NaT         NaT   RECOVERED  ...                             NaN   \n",
       "4      NaT  2020-07-30   RECOVERED  ...                             NCR   \n",
       "\n",
       "       CityMunRes CityMuniPSGC BarangayRes BarangayPSGC HealthStatus  \\\n",
       "0       IMUS CITY  PH042109000         NaN          NaN    RECOVERED   \n",
       "1             NaN          NaN         NaN          NaN    RECOVERED   \n",
       "2  CITY OF MANILA  PH133901000         NaN          NaN    RECOVERED   \n",
       "3             NaN          NaN         NaN          NaN    RECOVERED   \n",
       "4             NaN          NaN         NaN          NaN    RECOVERED   \n",
       "\n",
       "  Quarantined DateOnset Pregnanttab  \\\n",
       "0          NO       NaT         NaN   \n",
       "1          NO       NaT          NO   \n",
       "2          NO       NaT         NaN   \n",
       "3         YES       NaT         NaN   \n",
       "4          NO       NaT          NO   \n",
       "\n",
       "                                    ValidationStatus  \n",
       "0  Removal Type is \"Recovered\", but no Recovered ...  \n",
       "1  Removal Type is \"Recovered\", but no Recovered ...  \n",
       "2  Health Status is \"Recovered\", but no Date Reco...  \n",
       "3  Health Status is \"Recovered\", but no Date Reco...  \n",
       "4                                                NaN  \n",
       "\n",
       "[5 rows x 22 columns]"
      ]
     },
     "execution_count": 4,
     "metadata": {},
     "output_type": "execute_result"
    }
   ],
   "source": [
    "#check our dataframe\n",
    "df_cases_raw.info()\n",
    "df_cases_raw.head()\n"
   ]
  },
  {
   "cell_type": "code",
   "execution_count": 5,
   "metadata": {},
   "outputs": [
    {
     "data": {
      "text/plain": [
       "CaseCode             344713\n",
       "Age                     104\n",
       "AgeGroup                 17\n",
       "Sex                       2\n",
       "DateSpecimen            225\n",
       "DateResultRelease       224\n",
       "DateRepConf             225\n",
       "DateDied                217\n",
       "DateRecover             223\n",
       "RemovalType               2\n",
       "Admitted                  2\n",
       "RegionRes                18\n",
       "ProvRes                  84\n",
       "CityMunRes             1360\n",
       "CityMuniPSGC           1561\n",
       "BarangayRes            8784\n",
       "BarangayPSGC          12338\n",
       "HealthStatus              6\n",
       "Quarantined               2\n",
       "DateOnset               227\n",
       "Pregnanttab               2\n",
       "ValidationStatus        502\n",
       "dtype: int64"
      ]
     },
     "execution_count": 5,
     "metadata": {},
     "output_type": "execute_result"
    }
   ],
   "source": [
    "#determine unique values per column\n",
    "df_cases_raw.nunique(axis=0)"
   ]
  },
  {
   "cell_type": "markdown",
   "metadata": {},
   "source": [
    "2. Since our study wants to see if certain city statistic predicts cases, we will limit our variables to cases and cities, i.e CityMuniPSGC"
   ]
  },
  {
   "cell_type": "code",
   "execution_count": 6,
   "metadata": {},
   "outputs": [],
   "source": [
    "df_cases = df_cases_raw"
   ]
  },
  {
   "cell_type": "code",
   "execution_count": 7,
   "metadata": {},
   "outputs": [],
   "source": [
    "df_cases = df_cases[['CaseCode','DateRepConf','CityMuniPSGC','CityMunRes']]"
   ]
  },
  {
   "cell_type": "markdown",
   "metadata": {},
   "source": [
    "3. We drop the rows where we can't identify the cities"
   ]
  },
  {
   "cell_type": "code",
   "execution_count": 8,
   "metadata": {},
   "outputs": [],
   "source": [
    "#drop Nan cities\n",
    "df_cases = df_cases.loc[-df_cases.CityMuniPSGC.isna(),:]"
   ]
  },
  {
   "cell_type": "markdown",
   "metadata": {},
   "source": [
    "4. For consistency, we rename CityMuniPSGC column to PSGC, which stands for Philippine Standard Geographic Code."
   ]
  },
  {
   "cell_type": "code",
   "execution_count": 9,
   "metadata": {},
   "outputs": [],
   "source": [
    "df_cases = df_cases.rename(columns={\"CityMuniPSGC\": \"PSGC\"})"
   ]
  },
  {
   "cell_type": "markdown",
   "metadata": {},
   "source": [
    "5. Then we group the dataframe into cities are represented by PSGC and count the cases."
   ]
  },
  {
   "cell_type": "code",
   "execution_count": 10,
   "metadata": {},
   "outputs": [],
   "source": [
    "df_cases_by_city = df_cases.groupby(['PSGC','CityMunRes'])['CaseCode'].count().reset_index()"
   ]
  },
  {
   "cell_type": "markdown",
   "metadata": {},
   "source": [
    "6. Then we transform PSGC to standard nine-digit code for consistency"
   ]
  },
  {
   "cell_type": "code",
   "execution_count": 11,
   "metadata": {},
   "outputs": [
    {
     "name": "stdout",
     "output_type": "stream",
     "text": [
      "<class 'pandas.core.frame.DataFrame'>\n",
      "Index: 2122960 entries, 012802000 to 175917000\n",
      "Data columns (total 2 columns):\n",
      " #   Column  Dtype   \n",
      "---  ------  -----   \n",
      " 0   Name    category\n",
      " 1   Cases   int64   \n",
      "dtypes: category(1), int64(1)\n",
      "memory usage: 36.5+ MB\n"
     ]
    }
   ],
   "source": [
    "df_cases_by_city.PSGC = df_cases_by_city.PSGC.str.replace('PH','')\n",
    "df_cases_by_city.rename(columns={\"CaseCode\": \"Cases\"}, inplace = True)\n",
    "df_cases_by_city.rename(columns={\"CityMunRes\": \"Name\"}, inplace = True)\n",
    "df_cases_by_city.sort_values('PSGC', inplace = True)\n",
    "df_cases_by_city.set_index('PSGC', inplace = True)\n",
    "#check\n",
    "df_cases_by_city.info()"
   ]
  },
  {
   "cell_type": "markdown",
   "metadata": {},
   "source": [
    "7. To limit our dataset, we remove the cities with no cases."
   ]
  },
  {
   "cell_type": "code",
   "execution_count": 12,
   "metadata": {},
   "outputs": [],
   "source": [
    "df_cases_by_city = df_cases_by_city.loc[df_cases_by_city.Cases > 0,:].copy()"
   ]
  },
  {
   "cell_type": "markdown",
   "metadata": {},
   "source": [
    "8. Convert city names to lower case"
   ]
  },
  {
   "cell_type": "code",
   "execution_count": 79,
   "metadata": {},
   "outputs": [],
   "source": [
    "df_cases_by_city.Name = df_cases_by_city.Name.str.lower()"
   ]
  },
  {
   "cell_type": "code",
   "execution_count": 80,
   "metadata": {},
   "outputs": [
    {
     "data": {
      "text/html": [
       "<div>\n",
       "<style scoped>\n",
       "    .dataframe tbody tr th:only-of-type {\n",
       "        vertical-align: middle;\n",
       "    }\n",
       "\n",
       "    .dataframe tbody tr th {\n",
       "        vertical-align: top;\n",
       "    }\n",
       "\n",
       "    .dataframe thead th {\n",
       "        text-align: right;\n",
       "    }\n",
       "</style>\n",
       "<table border=\"1\" class=\"dataframe\">\n",
       "  <thead>\n",
       "    <tr style=\"text-align: right;\">\n",
       "      <th></th>\n",
       "      <th>Name</th>\n",
       "      <th>Cases</th>\n",
       "    </tr>\n",
       "    <tr>\n",
       "      <th>PSGC</th>\n",
       "      <th></th>\n",
       "      <th></th>\n",
       "    </tr>\n",
       "  </thead>\n",
       "  <tbody>\n",
       "    <tr>\n",
       "      <th>137404000</th>\n",
       "      <td>quezon city</td>\n",
       "      <td>31634</td>\n",
       "    </tr>\n",
       "    <tr>\n",
       "      <th>137501000</th>\n",
       "      <td>caloocan city</td>\n",
       "      <td>11823</td>\n",
       "    </tr>\n",
       "    <tr>\n",
       "      <th>137607000</th>\n",
       "      <td>taguig city</td>\n",
       "      <td>11334</td>\n",
       "    </tr>\n",
       "    <tr>\n",
       "      <th>137602000</th>\n",
       "      <td>city of makati</td>\n",
       "      <td>11069</td>\n",
       "    </tr>\n",
       "    <tr>\n",
       "      <th>072217000</th>\n",
       "      <td>cebu city (capital)</td>\n",
       "      <td>10345</td>\n",
       "    </tr>\n",
       "  </tbody>\n",
       "</table>\n",
       "</div>"
      ],
      "text/plain": [
       "                          Name  Cases\n",
       "PSGC                                 \n",
       "137404000          quezon city  31634\n",
       "137501000        caloocan city  11823\n",
       "137607000          taguig city  11334\n",
       "137602000       city of makati  11069\n",
       "072217000  cebu city (capital)  10345"
      ]
     },
     "execution_count": 80,
     "metadata": {},
     "output_type": "execute_result"
    }
   ],
   "source": [
    "df_cases_by_city.sort_values(by = 'Cases', ascending = False).head()"
   ]
  },
  {
   "cell_type": "code",
   "execution_count": 41,
   "metadata": {},
   "outputs": [
    {
     "name": "stdout",
     "output_type": "stream",
     "text": [
      "<class 'pandas.core.frame.DataFrame'>\n",
      "Index: 1561 entries, 012802000 to 175917000\n",
      "Data columns (total 2 columns):\n",
      " #   Column  Non-Null Count  Dtype   \n",
      "---  ------  --------------  -----   \n",
      " 0   Name    1561 non-null   category\n",
      " 1   Cases   1561 non-null   int64   \n",
      "dtypes: category(1), int64(1)\n",
      "memory usage: 78.1+ KB\n"
     ]
    }
   ],
   "source": [
    "df_cases_by_city.info()"
   ]
  },
  {
   "cell_type": "markdown",
   "metadata": {},
   "source": [
    "### Poverty Incidence dataset"
   ]
  },
  {
   "cell_type": "markdown",
   "metadata": {},
   "source": [
    "1. We read the poverty incidence data set."
   ]
  },
  {
   "cell_type": "code",
   "execution_count": 14,
   "metadata": {},
   "outputs": [],
   "source": [
    "#read city stats\n",
    "df_poverty = pd.read_csv('City and Municipal-level Small Area Poverty Estimates_ 2009, 2012 and 2015_0.csv',\n",
    "                  skiprows = [0,1,2,3,4],\n",
    "                  encoding = \"ISO-8859-1\",\n",
    "                  names = ['PSGC_ID','Poverty Incidence'],\n",
    "                  usecols = [0,5],\n",
    "                  dtype = {'PSGC_ID':'object','Poverty Incidence':np.float16})"
   ]
  },
  {
   "cell_type": "markdown",
   "metadata": {},
   "source": [
    "2. We clean it up by dropping NaNs and invalid rows."
   ]
  },
  {
   "cell_type": "code",
   "execution_count": 15,
   "metadata": {},
   "outputs": [],
   "source": [
    "#drop NaN indexes\n",
    "df_poverty = df_poverty.loc[df_poverty.index.dropna()]"
   ]
  },
  {
   "cell_type": "code",
   "execution_count": 16,
   "metadata": {},
   "outputs": [],
   "source": [
    "#drop other invalid rows\n",
    "df_poverty = df_poverty.loc[-df_poverty.PSGC_ID.isna()]"
   ]
  },
  {
   "cell_type": "markdown",
   "metadata": {},
   "source": [
    "3. For consistency on merge, we transform the PSGC codes."
   ]
  },
  {
   "cell_type": "code",
   "execution_count": 17,
   "metadata": {},
   "outputs": [
    {
     "name": "stdout",
     "output_type": "stream",
     "text": [
      "<class 'pandas.core.frame.DataFrame'>\n",
      "Index: 1644 entries, 012801000 to 175917000\n",
      "Data columns (total 1 columns):\n",
      " #   Column             Non-Null Count  Dtype  \n",
      "---  ------             --------------  -----  \n",
      " 0   Poverty Incidence  1644 non-null   float16\n",
      "dtypes: float16(1)\n",
      "memory usage: 16.1+ KB\n"
     ]
    }
   ],
   "source": [
    "df_poverty['PSGC'] = df_poverty.PSGC_ID.str.zfill(6)\n",
    "df_poverty['PSGC'] = df_poverty.PSGC.str.ljust(9, '0')\n",
    "df_poverty.sort_values('PSGC', inplace = True)\n",
    "df_poverty.drop('PSGC_ID', axis =1, inplace = True)\n",
    "df_poverty.set_index('PSGC', inplace = True)\n",
    "df_poverty.sort_index(inplace = True)\n",
    "#check\n",
    "df_poverty.info()"
   ]
  },
  {
   "cell_type": "code",
   "execution_count": 73,
   "metadata": {},
   "outputs": [
    {
     "data": {
      "text/html": [
       "<div>\n",
       "<style scoped>\n",
       "    .dataframe tbody tr th:only-of-type {\n",
       "        vertical-align: middle;\n",
       "    }\n",
       "\n",
       "    .dataframe tbody tr th {\n",
       "        vertical-align: top;\n",
       "    }\n",
       "\n",
       "    .dataframe thead th {\n",
       "        text-align: right;\n",
       "    }\n",
       "</style>\n",
       "<table border=\"1\" class=\"dataframe\">\n",
       "  <thead>\n",
       "    <tr style=\"text-align: right;\">\n",
       "      <th></th>\n",
       "      <th>Poverty Incidence</th>\n",
       "    </tr>\n",
       "    <tr>\n",
       "      <th>PSGC</th>\n",
       "      <th></th>\n",
       "    </tr>\n",
       "  </thead>\n",
       "  <tbody>\n",
       "    <tr>\n",
       "      <th>012801000</th>\n",
       "      <td>16.500000</td>\n",
       "    </tr>\n",
       "    <tr>\n",
       "      <th>012802000</th>\n",
       "      <td>7.500000</td>\n",
       "    </tr>\n",
       "    <tr>\n",
       "      <th>012803000</th>\n",
       "      <td>10.703125</td>\n",
       "    </tr>\n",
       "    <tr>\n",
       "      <th>012804000</th>\n",
       "      <td>8.500000</td>\n",
       "    </tr>\n",
       "    <tr>\n",
       "      <th>012805000</th>\n",
       "      <td>7.800781</td>\n",
       "    </tr>\n",
       "  </tbody>\n",
       "</table>\n",
       "</div>"
      ],
      "text/plain": [
       "           Poverty Incidence\n",
       "PSGC                        \n",
       "012801000          16.500000\n",
       "012802000           7.500000\n",
       "012803000          10.703125\n",
       "012804000           8.500000\n",
       "012805000           7.800781"
      ]
     },
     "execution_count": 73,
     "metadata": {},
     "output_type": "execute_result"
    }
   ],
   "source": [
    "df_poverty.head()"
   ]
  },
  {
   "cell_type": "markdown",
   "metadata": {},
   "source": [
    "### City index data"
   ]
  },
  {
   "cell_type": "markdown",
   "metadata": {},
   "source": [
    "1. We load city data containing geographic code and other features."
   ]
  },
  {
   "cell_type": "code",
   "execution_count": 101,
   "metadata": {},
   "outputs": [],
   "source": [
    "df_cityindex = pd.read_excel('PSGC 2Q 2020 Publication.xlsx',\n",
    "                    sheet_name = 'PSGC',\n",
    "                    usecols = [i for i in range(7)],\n",
    "                    names = ['PSGC',\n",
    "                             'Name',\n",
    "                             'Geographic Level',\n",
    "                             'City Class',\n",
    "                             'Income Classification',\n",
    "                             'Urban Rural',\n",
    "                             'Population'])"
   ]
  },
  {
   "cell_type": "markdown",
   "metadata": {},
   "source": [
    "2. We filter the dataset to only include cities, municipalities and sub municipalities."
   ]
  },
  {
   "cell_type": "code",
   "execution_count": 102,
   "metadata": {},
   "outputs": [],
   "source": [
    "df_cityindex = df_cityindex[df_cityindex['Geographic Level'].isin(['City','Mun','SubMun'])]"
   ]
  },
  {
   "cell_type": "markdown",
   "metadata": {},
   "source": [
    "3. For our purposes, we replace NaNs with 'UNK'"
   ]
  },
  {
   "cell_type": "code",
   "execution_count": 103,
   "metadata": {},
   "outputs": [],
   "source": [
    "df_cityindex = df_cityindex.fillna('UNK')"
   ]
  },
  {
   "cell_type": "code",
   "execution_count": 104,
   "metadata": {},
   "outputs": [
    {
     "name": "stdout",
     "output_type": "stream",
     "text": [
      "<class 'pandas.core.frame.DataFrame'>\n",
      "Int64Index: 1648 entries, 2 to 43788\n",
      "Data columns (total 7 columns):\n",
      " #   Column                 Non-Null Count  Dtype \n",
      "---  ------                 --------------  ----- \n",
      " 0   PSGC                   1648 non-null   int64 \n",
      " 1   Name                   1648 non-null   object\n",
      " 2   Geographic Level       1648 non-null   object\n",
      " 3   City Class             1648 non-null   object\n",
      " 4   Income Classification  1648 non-null   object\n",
      " 5   Urban Rural            1648 non-null   object\n",
      " 6   Population             1648 non-null   int64 \n",
      "dtypes: int64(2), object(5)\n",
      "memory usage: 103.0+ KB\n"
     ]
    }
   ],
   "source": [
    "df_cityindex.info()"
   ]
  },
  {
   "cell_type": "markdown",
   "metadata": {},
   "source": [
    "3. We examine each feature to see if we can further clean it up."
   ]
  },
  {
   "cell_type": "code",
   "execution_count": 105,
   "metadata": {},
   "outputs": [
    {
     "data": {
      "text/plain": [
       "array(['Mun', 'City', 'SubMun'], dtype=object)"
      ]
     },
     "execution_count": 105,
     "metadata": {},
     "output_type": "execute_result"
    }
   ],
   "source": [
    "df_cityindex['Geographic Level'].unique()"
   ]
  },
  {
   "cell_type": "code",
   "execution_count": 106,
   "metadata": {},
   "outputs": [
    {
     "data": {
      "text/plain": [
       "array(['UNK', 'CC', 'ICC', 'HUC'], dtype=object)"
      ]
     },
     "execution_count": 106,
     "metadata": {},
     "output_type": "execute_result"
    }
   ],
   "source": [
    "df_cityindex['City Class'].unique()"
   ]
  },
  {
   "cell_type": "code",
   "execution_count": 107,
   "metadata": {},
   "outputs": [
    {
     "data": {
      "text/plain": [
       "array(['5th', '3rd', '4th', '2nd', '1st', '6th', '1st (as Mun)', '3rd*',\n",
       "       '4th*', '5th*', '1st*', '2nd*', '6th*', '1st* (reclass 2005)',\n",
       "       'Special', 'UNK', '-'], dtype=object)"
      ]
     },
     "execution_count": 107,
     "metadata": {},
     "output_type": "execute_result"
    }
   ],
   "source": [
    "df_cityindex['Income Classification'].unique()"
   ]
  },
  {
   "cell_type": "code",
   "execution_count": 108,
   "metadata": {},
   "outputs": [],
   "source": [
    "df_cityindex['Income Classification'] = df_cityindex['Income Classification'].str.replace(r'\\*.*','')\n",
    "df_cityindex['Income Classification'] = df_cityindex['Income Classification'].str.replace(r' .*','')\n",
    "df_cityindex['Income Classification'] = df_cityindex['Income Classification'].str.replace('-','UNK')"
   ]
  },
  {
   "cell_type": "code",
   "execution_count": 109,
   "metadata": {},
   "outputs": [
    {
     "data": {
      "text/plain": [
       "array(['UNK'], dtype=object)"
      ]
     },
     "execution_count": 109,
     "metadata": {},
     "output_type": "execute_result"
    }
   ],
   "source": [
    "df_cityindex['Urban Rural'].unique()"
   ]
  },
  {
   "cell_type": "markdown",
   "metadata": {},
   "source": [
    "Since Urban Rural only contains UNK, we drop it."
   ]
  },
  {
   "cell_type": "code",
   "execution_count": 110,
   "metadata": {},
   "outputs": [],
   "source": [
    "df_cityindex.drop('Urban Rural', axis =1, inplace = True)"
   ]
  },
  {
   "cell_type": "markdown",
   "metadata": {},
   "source": [
    "4. As before, we transform the geographic code for consistency."
   ]
  },
  {
   "cell_type": "code",
   "execution_count": 111,
   "metadata": {},
   "outputs": [],
   "source": [
    "df_cityindex.PSGC = df_cityindex.PSGC.astype('str')\n",
    "df_cityindex.PSGC = df_cityindex.PSGC.str.zfill(9)"
   ]
  },
  {
   "cell_type": "markdown",
   "metadata": {},
   "source": [
    "5. Then we sort the dateframe according the the geographic code and make that the index"
   ]
  },
  {
   "cell_type": "code",
   "execution_count": 112,
   "metadata": {},
   "outputs": [
    {
     "data": {
      "text/html": [
       "<div>\n",
       "<style scoped>\n",
       "    .dataframe tbody tr th:only-of-type {\n",
       "        vertical-align: middle;\n",
       "    }\n",
       "\n",
       "    .dataframe tbody tr th {\n",
       "        vertical-align: top;\n",
       "    }\n",
       "\n",
       "    .dataframe thead th {\n",
       "        text-align: right;\n",
       "    }\n",
       "</style>\n",
       "<table border=\"1\" class=\"dataframe\">\n",
       "  <thead>\n",
       "    <tr style=\"text-align: right;\">\n",
       "      <th></th>\n",
       "      <th>Name</th>\n",
       "      <th>Geographic Level</th>\n",
       "      <th>City Class</th>\n",
       "      <th>Income Classification</th>\n",
       "      <th>Population</th>\n",
       "    </tr>\n",
       "    <tr>\n",
       "      <th>PSGC</th>\n",
       "      <th></th>\n",
       "      <th></th>\n",
       "      <th></th>\n",
       "      <th></th>\n",
       "      <th></th>\n",
       "    </tr>\n",
       "  </thead>\n",
       "  <tbody>\n",
       "    <tr>\n",
       "      <th>012801000</th>\n",
       "      <td>ADAMS</td>\n",
       "      <td>Mun</td>\n",
       "      <td>UNK</td>\n",
       "      <td>5th</td>\n",
       "      <td>1792</td>\n",
       "    </tr>\n",
       "    <tr>\n",
       "      <th>012802000</th>\n",
       "      <td>BACARRA</td>\n",
       "      <td>Mun</td>\n",
       "      <td>UNK</td>\n",
       "      <td>3rd</td>\n",
       "      <td>32215</td>\n",
       "    </tr>\n",
       "    <tr>\n",
       "      <th>012803000</th>\n",
       "      <td>BADOC</td>\n",
       "      <td>Mun</td>\n",
       "      <td>UNK</td>\n",
       "      <td>3rd</td>\n",
       "      <td>31616</td>\n",
       "    </tr>\n",
       "    <tr>\n",
       "      <th>012804000</th>\n",
       "      <td>BANGUI</td>\n",
       "      <td>Mun</td>\n",
       "      <td>UNK</td>\n",
       "      <td>4th</td>\n",
       "      <td>14672</td>\n",
       "    </tr>\n",
       "    <tr>\n",
       "      <th>012805000</th>\n",
       "      <td>CITY OF BATAC</td>\n",
       "      <td>City</td>\n",
       "      <td>CC</td>\n",
       "      <td>5th</td>\n",
       "      <td>55201</td>\n",
       "    </tr>\n",
       "  </tbody>\n",
       "</table>\n",
       "</div>"
      ],
      "text/plain": [
       "                    Name Geographic Level City Class Income Classification  \\\n",
       "PSGC                                                                         \n",
       "012801000          ADAMS              Mun        UNK                   5th   \n",
       "012802000        BACARRA              Mun        UNK                   3rd   \n",
       "012803000          BADOC              Mun        UNK                   3rd   \n",
       "012804000         BANGUI              Mun        UNK                   4th   \n",
       "012805000  CITY OF BATAC             City         CC                   5th   \n",
       "\n",
       "           Population  \n",
       "PSGC                   \n",
       "012801000        1792  \n",
       "012802000       32215  \n",
       "012803000       31616  \n",
       "012804000       14672  \n",
       "012805000       55201  "
      ]
     },
     "execution_count": 112,
     "metadata": {},
     "output_type": "execute_result"
    }
   ],
   "source": [
    "df_cityindex.sort_values('PSGC', inplace = True)\n",
    "df_cityindex.set_index('PSGC', inplace = True)"
   ]
  },
  {
   "cell_type": "markdown",
   "metadata": {},
   "source": [
    "6. For consistency, we transform city name to lower case."
   ]
  },
  {
   "cell_type": "code",
   "execution_count": 113,
   "metadata": {},
   "outputs": [],
   "source": [
    "df_cityindex.Name = df_cityindex.Name.str.lower()"
   ]
  },
  {
   "cell_type": "markdown",
   "metadata": {},
   "source": [
    "7. Then we change the features into category type."
   ]
  },
  {
   "cell_type": "code",
   "execution_count": 114,
   "metadata": {},
   "outputs": [],
   "source": [
    "df_cityindex = df_cityindex.astype(dtype = {'Name':'category',\n",
    "                                            'Geographic Level':'category',\n",
    "                                            'City Class':'category',\n",
    "                                            'Income Classification':'category'})"
   ]
  },
  {
   "cell_type": "code",
   "execution_count": 115,
   "metadata": {},
   "outputs": [
    {
     "name": "stdout",
     "output_type": "stream",
     "text": [
      "<class 'pandas.core.frame.DataFrame'>\n",
      "Index: 1648 entries, 012801000 to 175917000\n",
      "Data columns (total 5 columns):\n",
      " #   Column                 Non-Null Count  Dtype   \n",
      "---  ------                 --------------  -----   \n",
      " 0   Name                   1648 non-null   category\n",
      " 1   Geographic Level       1648 non-null   category\n",
      " 2   City Class             1648 non-null   category\n",
      " 3   Income Classification  1648 non-null   category\n",
      " 4   Population             1648 non-null   int64   \n",
      "dtypes: category(4), int64(1)\n",
      "memory usage: 85.8+ KB\n"
     ]
    }
   ],
   "source": [
    "df_cityindex.info()"
   ]
  },
  {
   "cell_type": "code",
   "execution_count": 116,
   "metadata": {
    "scrolled": true
   },
   "outputs": [
    {
     "data": {
      "text/html": [
       "<div>\n",
       "<style scoped>\n",
       "    .dataframe tbody tr th:only-of-type {\n",
       "        vertical-align: middle;\n",
       "    }\n",
       "\n",
       "    .dataframe tbody tr th {\n",
       "        vertical-align: top;\n",
       "    }\n",
       "\n",
       "    .dataframe thead th {\n",
       "        text-align: right;\n",
       "    }\n",
       "</style>\n",
       "<table border=\"1\" class=\"dataframe\">\n",
       "  <thead>\n",
       "    <tr style=\"text-align: right;\">\n",
       "      <th></th>\n",
       "      <th>Name</th>\n",
       "      <th>Geographic Level</th>\n",
       "      <th>City Class</th>\n",
       "      <th>Income Classification</th>\n",
       "      <th>Population</th>\n",
       "    </tr>\n",
       "    <tr>\n",
       "      <th>PSGC</th>\n",
       "      <th></th>\n",
       "      <th></th>\n",
       "      <th></th>\n",
       "      <th></th>\n",
       "      <th></th>\n",
       "    </tr>\n",
       "  </thead>\n",
       "  <tbody>\n",
       "    <tr>\n",
       "      <th>012801000</th>\n",
       "      <td>adams</td>\n",
       "      <td>Mun</td>\n",
       "      <td>UNK</td>\n",
       "      <td>5th</td>\n",
       "      <td>1792</td>\n",
       "    </tr>\n",
       "    <tr>\n",
       "      <th>012802000</th>\n",
       "      <td>bacarra</td>\n",
       "      <td>Mun</td>\n",
       "      <td>UNK</td>\n",
       "      <td>3rd</td>\n",
       "      <td>32215</td>\n",
       "    </tr>\n",
       "    <tr>\n",
       "      <th>012803000</th>\n",
       "      <td>badoc</td>\n",
       "      <td>Mun</td>\n",
       "      <td>UNK</td>\n",
       "      <td>3rd</td>\n",
       "      <td>31616</td>\n",
       "    </tr>\n",
       "    <tr>\n",
       "      <th>012804000</th>\n",
       "      <td>bangui</td>\n",
       "      <td>Mun</td>\n",
       "      <td>UNK</td>\n",
       "      <td>4th</td>\n",
       "      <td>14672</td>\n",
       "    </tr>\n",
       "    <tr>\n",
       "      <th>012805000</th>\n",
       "      <td>city of batac</td>\n",
       "      <td>City</td>\n",
       "      <td>CC</td>\n",
       "      <td>5th</td>\n",
       "      <td>55201</td>\n",
       "    </tr>\n",
       "  </tbody>\n",
       "</table>\n",
       "</div>"
      ],
      "text/plain": [
       "                    Name Geographic Level City Class Income Classification  \\\n",
       "PSGC                                                                         \n",
       "012801000          adams              Mun        UNK                   5th   \n",
       "012802000        bacarra              Mun        UNK                   3rd   \n",
       "012803000          badoc              Mun        UNK                   3rd   \n",
       "012804000         bangui              Mun        UNK                   4th   \n",
       "012805000  city of batac             City         CC                   5th   \n",
       "\n",
       "           Population  \n",
       "PSGC                   \n",
       "012801000        1792  \n",
       "012802000       32215  \n",
       "012803000       31616  \n",
       "012804000       14672  \n",
       "012805000       55201  "
      ]
     },
     "execution_count": 116,
     "metadata": {},
     "output_type": "execute_result"
    }
   ],
   "source": [
    "df_cityindex.head()"
   ]
  },
  {
   "cell_type": "code",
   "execution_count": 132,
   "metadata": {},
   "outputs": [
    {
     "data": {
      "text/html": [
       "<div>\n",
       "<style scoped>\n",
       "    .dataframe tbody tr th:only-of-type {\n",
       "        vertical-align: middle;\n",
       "    }\n",
       "\n",
       "    .dataframe tbody tr th {\n",
       "        vertical-align: top;\n",
       "    }\n",
       "\n",
       "    .dataframe thead th {\n",
       "        text-align: right;\n",
       "    }\n",
       "</style>\n",
       "<table border=\"1\" class=\"dataframe\">\n",
       "  <thead>\n",
       "    <tr style=\"text-align: right;\">\n",
       "      <th></th>\n",
       "      <th>Name</th>\n",
       "      <th>Geographic Level</th>\n",
       "      <th>City Class</th>\n",
       "      <th>Income Classification</th>\n",
       "      <th>Population</th>\n",
       "    </tr>\n",
       "    <tr>\n",
       "      <th>PSGC</th>\n",
       "      <th></th>\n",
       "      <th></th>\n",
       "      <th></th>\n",
       "      <th></th>\n",
       "      <th></th>\n",
       "    </tr>\n",
       "  </thead>\n",
       "  <tbody>\n",
       "    <tr>\n",
       "      <th>012805000</th>\n",
       "      <td>city of batac</td>\n",
       "      <td>City</td>\n",
       "      <td>CC</td>\n",
       "      <td>5th</td>\n",
       "      <td>55201</td>\n",
       "    </tr>\n",
       "    <tr>\n",
       "      <th>012812000</th>\n",
       "      <td>city of laoag (capital)</td>\n",
       "      <td>City</td>\n",
       "      <td>CC</td>\n",
       "      <td>3rd</td>\n",
       "      <td>111125</td>\n",
       "    </tr>\n",
       "    <tr>\n",
       "      <th>012906000</th>\n",
       "      <td>city of candon</td>\n",
       "      <td>City</td>\n",
       "      <td>CC</td>\n",
       "      <td>4th</td>\n",
       "      <td>60623</td>\n",
       "    </tr>\n",
       "    <tr>\n",
       "      <th>012934000</th>\n",
       "      <td>city of vigan (capital)</td>\n",
       "      <td>City</td>\n",
       "      <td>CC</td>\n",
       "      <td>4th</td>\n",
       "      <td>53879</td>\n",
       "    </tr>\n",
       "    <tr>\n",
       "      <th>013314000</th>\n",
       "      <td>city of san fernando (capital)</td>\n",
       "      <td>City</td>\n",
       "      <td>CC</td>\n",
       "      <td>3rd</td>\n",
       "      <td>121812</td>\n",
       "    </tr>\n",
       "    <tr>\n",
       "      <th>...</th>\n",
       "      <td>...</td>\n",
       "      <td>...</td>\n",
       "      <td>...</td>\n",
       "      <td>...</td>\n",
       "      <td>...</td>\n",
       "    </tr>\n",
       "    <tr>\n",
       "      <th>166724000</th>\n",
       "      <td>city of surigao (capital)</td>\n",
       "      <td>City</td>\n",
       "      <td>CC</td>\n",
       "      <td>3rd</td>\n",
       "      <td>154137</td>\n",
       "    </tr>\n",
       "    <tr>\n",
       "      <th>166803000</th>\n",
       "      <td>city of bislig</td>\n",
       "      <td>City</td>\n",
       "      <td>CC</td>\n",
       "      <td>3rd</td>\n",
       "      <td>94535</td>\n",
       "    </tr>\n",
       "    <tr>\n",
       "      <th>166819000</th>\n",
       "      <td>city of tandag (capital)</td>\n",
       "      <td>City</td>\n",
       "      <td>CC</td>\n",
       "      <td>5th</td>\n",
       "      <td>56364</td>\n",
       "    </tr>\n",
       "    <tr>\n",
       "      <th>175205000</th>\n",
       "      <td>city of calapan (capital)</td>\n",
       "      <td>City</td>\n",
       "      <td>CC</td>\n",
       "      <td>3rd</td>\n",
       "      <td>133893</td>\n",
       "    </tr>\n",
       "    <tr>\n",
       "      <th>175316000</th>\n",
       "      <td>city of puerto princesa (capital)</td>\n",
       "      <td>City</td>\n",
       "      <td>HUC</td>\n",
       "      <td>1st</td>\n",
       "      <td>255116</td>\n",
       "    </tr>\n",
       "  </tbody>\n",
       "</table>\n",
       "<p>146 rows × 5 columns</p>\n",
       "</div>"
      ],
      "text/plain": [
       "                                        Name Geographic Level City Class  \\\n",
       "PSGC                                                                       \n",
       "012805000                      city of batac             City         CC   \n",
       "012812000            city of laoag (capital)             City         CC   \n",
       "012906000                     city of candon             City         CC   \n",
       "012934000            city of vigan (capital)             City         CC   \n",
       "013314000     city of san fernando (capital)             City         CC   \n",
       "...                                      ...              ...        ...   \n",
       "166724000          city of surigao (capital)             City         CC   \n",
       "166803000                     city of bislig             City         CC   \n",
       "166819000           city of tandag (capital)             City         CC   \n",
       "175205000          city of calapan (capital)             City         CC   \n",
       "175316000  city of puerto princesa (capital)             City        HUC   \n",
       "\n",
       "          Income Classification  Population  \n",
       "PSGC                                         \n",
       "012805000                   5th       55201  \n",
       "012812000                   3rd      111125  \n",
       "012906000                   4th       60623  \n",
       "012934000                   4th       53879  \n",
       "013314000                   3rd      121812  \n",
       "...                         ...         ...  \n",
       "166724000                   3rd      154137  \n",
       "166803000                   3rd       94535  \n",
       "166819000                   5th       56364  \n",
       "175205000                   3rd      133893  \n",
       "175316000                   1st      255116  \n",
       "\n",
       "[146 rows x 5 columns]"
      ]
     },
     "execution_count": 132,
     "metadata": {},
     "output_type": "execute_result"
    }
   ],
   "source": [
    "#check use of \"city of\" or \"<city name> city\"\n",
    "df_cityindex.loc[df_cityindex.Name.str.contains('city'),:]"
   ]
  },
  {
   "cell_type": "code",
   "execution_count": 145,
   "metadata": {},
   "outputs": [],
   "source": [
    "df_cityindex['Name2'] = df_cityindex.Name.str.replace('city of','')\n",
    "df_cityindex['Name2'] = df_cityindex.Name2.str.replace(r'\\(capital\\)','')"
   ]
  },
  {
   "cell_type": "code",
   "execution_count": 146,
   "metadata": {},
   "outputs": [
    {
     "data": {
      "text/html": [
       "<div>\n",
       "<style scoped>\n",
       "    .dataframe tbody tr th:only-of-type {\n",
       "        vertical-align: middle;\n",
       "    }\n",
       "\n",
       "    .dataframe tbody tr th {\n",
       "        vertical-align: top;\n",
       "    }\n",
       "\n",
       "    .dataframe thead th {\n",
       "        text-align: right;\n",
       "    }\n",
       "</style>\n",
       "<table border=\"1\" class=\"dataframe\">\n",
       "  <thead>\n",
       "    <tr style=\"text-align: right;\">\n",
       "      <th></th>\n",
       "      <th>Name</th>\n",
       "      <th>Geographic Level</th>\n",
       "      <th>City Class</th>\n",
       "      <th>Income Classification</th>\n",
       "      <th>Population</th>\n",
       "      <th>Name2</th>\n",
       "    </tr>\n",
       "    <tr>\n",
       "      <th>PSGC</th>\n",
       "      <th></th>\n",
       "      <th></th>\n",
       "      <th></th>\n",
       "      <th></th>\n",
       "      <th></th>\n",
       "      <th></th>\n",
       "    </tr>\n",
       "  </thead>\n",
       "  <tbody>\n",
       "    <tr>\n",
       "      <th>012805000</th>\n",
       "      <td>city of batac</td>\n",
       "      <td>City</td>\n",
       "      <td>CC</td>\n",
       "      <td>5th</td>\n",
       "      <td>55201</td>\n",
       "      <td>batac</td>\n",
       "    </tr>\n",
       "    <tr>\n",
       "      <th>012812000</th>\n",
       "      <td>city of laoag (capital)</td>\n",
       "      <td>City</td>\n",
       "      <td>CC</td>\n",
       "      <td>3rd</td>\n",
       "      <td>111125</td>\n",
       "      <td>laoag</td>\n",
       "    </tr>\n",
       "    <tr>\n",
       "      <th>012906000</th>\n",
       "      <td>city of candon</td>\n",
       "      <td>City</td>\n",
       "      <td>CC</td>\n",
       "      <td>4th</td>\n",
       "      <td>60623</td>\n",
       "      <td>candon</td>\n",
       "    </tr>\n",
       "    <tr>\n",
       "      <th>012934000</th>\n",
       "      <td>city of vigan (capital)</td>\n",
       "      <td>City</td>\n",
       "      <td>CC</td>\n",
       "      <td>4th</td>\n",
       "      <td>53879</td>\n",
       "      <td>vigan</td>\n",
       "    </tr>\n",
       "    <tr>\n",
       "      <th>013314000</th>\n",
       "      <td>city of san fernando (capital)</td>\n",
       "      <td>City</td>\n",
       "      <td>CC</td>\n",
       "      <td>3rd</td>\n",
       "      <td>121812</td>\n",
       "      <td>san fernando</td>\n",
       "    </tr>\n",
       "    <tr>\n",
       "      <th>...</th>\n",
       "      <td>...</td>\n",
       "      <td>...</td>\n",
       "      <td>...</td>\n",
       "      <td>...</td>\n",
       "      <td>...</td>\n",
       "      <td>...</td>\n",
       "    </tr>\n",
       "    <tr>\n",
       "      <th>166724000</th>\n",
       "      <td>city of surigao (capital)</td>\n",
       "      <td>City</td>\n",
       "      <td>CC</td>\n",
       "      <td>3rd</td>\n",
       "      <td>154137</td>\n",
       "      <td>surigao</td>\n",
       "    </tr>\n",
       "    <tr>\n",
       "      <th>166803000</th>\n",
       "      <td>city of bislig</td>\n",
       "      <td>City</td>\n",
       "      <td>CC</td>\n",
       "      <td>3rd</td>\n",
       "      <td>94535</td>\n",
       "      <td>bislig</td>\n",
       "    </tr>\n",
       "    <tr>\n",
       "      <th>166819000</th>\n",
       "      <td>city of tandag (capital)</td>\n",
       "      <td>City</td>\n",
       "      <td>CC</td>\n",
       "      <td>5th</td>\n",
       "      <td>56364</td>\n",
       "      <td>tandag</td>\n",
       "    </tr>\n",
       "    <tr>\n",
       "      <th>175205000</th>\n",
       "      <td>city of calapan (capital)</td>\n",
       "      <td>City</td>\n",
       "      <td>CC</td>\n",
       "      <td>3rd</td>\n",
       "      <td>133893</td>\n",
       "      <td>calapan</td>\n",
       "    </tr>\n",
       "    <tr>\n",
       "      <th>175316000</th>\n",
       "      <td>city of puerto princesa (capital)</td>\n",
       "      <td>City</td>\n",
       "      <td>HUC</td>\n",
       "      <td>1st</td>\n",
       "      <td>255116</td>\n",
       "      <td>puerto princesa</td>\n",
       "    </tr>\n",
       "  </tbody>\n",
       "</table>\n",
       "<p>146 rows × 6 columns</p>\n",
       "</div>"
      ],
      "text/plain": [
       "                                        Name Geographic Level City Class  \\\n",
       "PSGC                                                                       \n",
       "012805000                      city of batac             City         CC   \n",
       "012812000            city of laoag (capital)             City         CC   \n",
       "012906000                     city of candon             City         CC   \n",
       "012934000            city of vigan (capital)             City         CC   \n",
       "013314000     city of san fernando (capital)             City         CC   \n",
       "...                                      ...              ...        ...   \n",
       "166724000          city of surigao (capital)             City         CC   \n",
       "166803000                     city of bislig             City         CC   \n",
       "166819000           city of tandag (capital)             City         CC   \n",
       "175205000          city of calapan (capital)             City         CC   \n",
       "175316000  city of puerto princesa (capital)             City        HUC   \n",
       "\n",
       "          Income Classification  Population              Name2  \n",
       "PSGC                                                            \n",
       "012805000                   5th       55201              batac  \n",
       "012812000                   3rd      111125             laoag   \n",
       "012906000                   4th       60623             candon  \n",
       "012934000                   4th       53879             vigan   \n",
       "013314000                   3rd      121812      san fernando   \n",
       "...                         ...         ...                ...  \n",
       "166724000                   3rd      154137           surigao   \n",
       "166803000                   3rd       94535             bislig  \n",
       "166819000                   5th       56364            tandag   \n",
       "175205000                   3rd      133893           calapan   \n",
       "175316000                   1st      255116   puerto princesa   \n",
       "\n",
       "[146 rows x 6 columns]"
      ]
     },
     "execution_count": 146,
     "metadata": {},
     "output_type": "execute_result"
    }
   ],
   "source": [
    "df_cityindex.loc[df_cityindex.Name.str.contains('city'),:]"
   ]
  },
  {
   "cell_type": "markdown",
   "metadata": {},
   "source": [
    "### Cities Geodata"
   ]
  },
  {
   "cell_type": "markdown",
   "metadata": {},
   "source": [
    "1. We load the geojson data on Philippine cities and municipalities."
   ]
  },
  {
   "cell_type": "code",
   "execution_count": 124,
   "metadata": {},
   "outputs": [
    {
     "data": {
      "text/html": [
       "<div>\n",
       "<style scoped>\n",
       "    .dataframe tbody tr th:only-of-type {\n",
       "        vertical-align: middle;\n",
       "    }\n",
       "\n",
       "    .dataframe tbody tr th {\n",
       "        vertical-align: top;\n",
       "    }\n",
       "\n",
       "    .dataframe thead th {\n",
       "        text-align: right;\n",
       "    }\n",
       "</style>\n",
       "<table border=\"1\" class=\"dataframe\">\n",
       "  <thead>\n",
       "    <tr style=\"text-align: right;\">\n",
       "      <th></th>\n",
       "      <th>ID_0</th>\n",
       "      <th>ISO</th>\n",
       "      <th>NAME_0</th>\n",
       "      <th>ID_1</th>\n",
       "      <th>NAME_1</th>\n",
       "      <th>ID_2</th>\n",
       "      <th>NAME_2</th>\n",
       "      <th>NL_NAME_2</th>\n",
       "      <th>VARNAME_2</th>\n",
       "      <th>TYPE_2</th>\n",
       "      <th>ENGTYPE_2</th>\n",
       "      <th>PROVINCE</th>\n",
       "      <th>REGION</th>\n",
       "      <th>geometry</th>\n",
       "    </tr>\n",
       "  </thead>\n",
       "  <tbody>\n",
       "    <tr>\n",
       "      <th>0</th>\n",
       "      <td>177</td>\n",
       "      <td>PHL</td>\n",
       "      <td>Philippines</td>\n",
       "      <td>1</td>\n",
       "      <td>Abra</td>\n",
       "      <td>20</td>\n",
       "      <td>Sallapadan</td>\n",
       "      <td></td>\n",
       "      <td></td>\n",
       "      <td>Bayan|Munisipyo</td>\n",
       "      <td>Municipality</td>\n",
       "      <td>Abra</td>\n",
       "      <td>Cordillera Administrative Region (CAR)</td>\n",
       "      <td>POLYGON ((120.78956 17.41699, 120.76131 17.416...</td>\n",
       "    </tr>\n",
       "    <tr>\n",
       "      <th>1</th>\n",
       "      <td>177</td>\n",
       "      <td>PHL</td>\n",
       "      <td>Philippines</td>\n",
       "      <td>1</td>\n",
       "      <td>Abra</td>\n",
       "      <td>21</td>\n",
       "      <td>San Isidro</td>\n",
       "      <td></td>\n",
       "      <td></td>\n",
       "      <td>Bayan|Munisipyo</td>\n",
       "      <td>Municipality</td>\n",
       "      <td>Abra</td>\n",
       "      <td>Cordillera Administrative Region (CAR)</td>\n",
       "      <td>POLYGON ((120.63078 17.43194, 120.57896 17.441...</td>\n",
       "    </tr>\n",
       "    <tr>\n",
       "      <th>2</th>\n",
       "      <td>177</td>\n",
       "      <td>PHL</td>\n",
       "      <td>Philippines</td>\n",
       "      <td>1</td>\n",
       "      <td>Abra</td>\n",
       "      <td>22</td>\n",
       "      <td>San Juan</td>\n",
       "      <td></td>\n",
       "      <td></td>\n",
       "      <td>Bayan|Munisipyo</td>\n",
       "      <td>Municipality</td>\n",
       "      <td>Abra</td>\n",
       "      <td>Cordillera Administrative Region (CAR)</td>\n",
       "      <td>POLYGON ((120.78275 17.71497, 120.77975 17.665...</td>\n",
       "    </tr>\n",
       "    <tr>\n",
       "      <th>3</th>\n",
       "      <td>177</td>\n",
       "      <td>PHL</td>\n",
       "      <td>Philippines</td>\n",
       "      <td>1</td>\n",
       "      <td>Abra</td>\n",
       "      <td>23</td>\n",
       "      <td>San Quintin</td>\n",
       "      <td></td>\n",
       "      <td></td>\n",
       "      <td>Bayan|Munisipyo</td>\n",
       "      <td>Municipality</td>\n",
       "      <td>Abra</td>\n",
       "      <td>Cordillera Administrative Region (CAR)</td>\n",
       "      <td>POLYGON ((120.58414 17.48283, 120.58454 17.476...</td>\n",
       "    </tr>\n",
       "    <tr>\n",
       "      <th>4</th>\n",
       "      <td>177</td>\n",
       "      <td>PHL</td>\n",
       "      <td>Philippines</td>\n",
       "      <td>1</td>\n",
       "      <td>Abra</td>\n",
       "      <td>24</td>\n",
       "      <td>Tayum</td>\n",
       "      <td></td>\n",
       "      <td></td>\n",
       "      <td>Bayan|Munisipyo</td>\n",
       "      <td>Municipality</td>\n",
       "      <td>Abra</td>\n",
       "      <td>Cordillera Administrative Region (CAR)</td>\n",
       "      <td>POLYGON ((120.71574 17.62419, 120.72351 17.623...</td>\n",
       "    </tr>\n",
       "  </tbody>\n",
       "</table>\n",
       "</div>"
      ],
      "text/plain": [
       "   ID_0  ISO       NAME_0  ID_1 NAME_1  ID_2       NAME_2 NL_NAME_2 VARNAME_2  \\\n",
       "0   177  PHL  Philippines     1   Abra    20   Sallapadan                       \n",
       "1   177  PHL  Philippines     1   Abra    21   San Isidro                       \n",
       "2   177  PHL  Philippines     1   Abra    22     San Juan                       \n",
       "3   177  PHL  Philippines     1   Abra    23  San Quintin                       \n",
       "4   177  PHL  Philippines     1   Abra    24        Tayum                       \n",
       "\n",
       "            TYPE_2     ENGTYPE_2 PROVINCE  \\\n",
       "0  Bayan|Munisipyo  Municipality     Abra   \n",
       "1  Bayan|Munisipyo  Municipality     Abra   \n",
       "2  Bayan|Munisipyo  Municipality     Abra   \n",
       "3  Bayan|Munisipyo  Municipality     Abra   \n",
       "4  Bayan|Munisipyo  Municipality     Abra   \n",
       "\n",
       "                                   REGION  \\\n",
       "0  Cordillera Administrative Region (CAR)   \n",
       "1  Cordillera Administrative Region (CAR)   \n",
       "2  Cordillera Administrative Region (CAR)   \n",
       "3  Cordillera Administrative Region (CAR)   \n",
       "4  Cordillera Administrative Region (CAR)   \n",
       "\n",
       "                                            geometry  \n",
       "0  POLYGON ((120.78956 17.41699, 120.76131 17.416...  \n",
       "1  POLYGON ((120.63078 17.43194, 120.57896 17.441...  \n",
       "2  POLYGON ((120.78275 17.71497, 120.77975 17.665...  \n",
       "3  POLYGON ((120.58414 17.48283, 120.58454 17.476...  \n",
       "4  POLYGON ((120.71574 17.62419, 120.72351 17.623...  "
      ]
     },
     "execution_count": 124,
     "metadata": {},
     "output_type": "execute_result"
    }
   ],
   "source": [
    "df1 = gpd.read_file('https://raw.githubusercontent.com/macoymejia/geojsonph/master/MuniCities/MuniCities.minimal.json')"
   ]
  },
  {
   "cell_type": "markdown",
   "metadata": {},
   "source": [
    "Note: Other possible geojson files\n",
    "\n",
    "'https://github.com/faeldon/philippines-json-maps/tree/master/geojson/municties/medres'\n",
    "'https://github.com/justinelliotmeyers/official_philippines_shapefile_data_2016'\n",
    "'https://raw.githubusercontent.com/macoymejia/geojsonph/master/MuniCities/MuniCities.json'"
   ]
  },
  {
   "cell_type": "markdown",
   "metadata": {},
   "source": [
    "2. As we are interested in finding out whether distance from the capital is a factor, we need to calculate the distance from Manila."
   ]
  },
  {
   "cell_type": "code",
   "execution_count": 125,
   "metadata": {},
   "outputs": [],
   "source": [
    "df1['Centroid'] = df1.geometry.centroid\n",
    "manila_loc = gpd.tools.geocode('Manila')\n",
    "df1['dist_mnl'] = gpd.GeoSeries(df1.Centroid).distance(manila_loc.iloc[0,0])\n",
    "\n",
    "#drop other invalid rows\n",
    "df1 = df1.loc[-df1.dist_mnl.isna(),:]"
   ]
  },
  {
   "cell_type": "markdown",
   "metadata": {},
   "source": [
    "3. And as usual, transform city name to lower case."
   ]
  },
  {
   "cell_type": "code",
   "execution_count": 128,
   "metadata": {},
   "outputs": [],
   "source": [
    "df1.NAME_2 = df1.NAME_2.str.lower()"
   ]
  },
  {
   "cell_type": "code",
   "execution_count": 142,
   "metadata": {},
   "outputs": [
    {
     "data": {
      "text/html": [
       "<div>\n",
       "<style scoped>\n",
       "    .dataframe tbody tr th:only-of-type {\n",
       "        vertical-align: middle;\n",
       "    }\n",
       "\n",
       "    .dataframe tbody tr th {\n",
       "        vertical-align: top;\n",
       "    }\n",
       "\n",
       "    .dataframe thead th {\n",
       "        text-align: right;\n",
       "    }\n",
       "</style>\n",
       "<table border=\"1\" class=\"dataframe\">\n",
       "  <thead>\n",
       "    <tr style=\"text-align: right;\">\n",
       "      <th></th>\n",
       "      <th>ID_0</th>\n",
       "      <th>ISO</th>\n",
       "      <th>NAME_0</th>\n",
       "      <th>ID_1</th>\n",
       "      <th>NAME_1</th>\n",
       "      <th>ID_2</th>\n",
       "      <th>NAME_2</th>\n",
       "      <th>NL_NAME_2</th>\n",
       "      <th>VARNAME_2</th>\n",
       "      <th>TYPE_2</th>\n",
       "      <th>ENGTYPE_2</th>\n",
       "      <th>PROVINCE</th>\n",
       "      <th>REGION</th>\n",
       "      <th>geometry</th>\n",
       "      <th>Centroid</th>\n",
       "      <th>dist_mnl</th>\n",
       "      <th>NAME_3</th>\n",
       "    </tr>\n",
       "  </thead>\n",
       "  <tbody>\n",
       "    <tr>\n",
       "      <th>9</th>\n",
       "      <td>177</td>\n",
       "      <td>PHL</td>\n",
       "      <td>Philippines</td>\n",
       "      <td>2</td>\n",
       "      <td>Agusan del Norte</td>\n",
       "      <td>29</td>\n",
       "      <td>butuan city</td>\n",
       "      <td></td>\n",
       "      <td></td>\n",
       "      <td>Lungsod|Siyudad</td>\n",
       "      <td>City</td>\n",
       "      <td>Agusan del Norte</td>\n",
       "      <td>Caraga (Region XIII)</td>\n",
       "      <td>POLYGON ((125.73562 9.04831, 125.72034 9.01183...</td>\n",
       "      <td>POINT (125.57624 8.91443)</td>\n",
       "      <td>7.300512</td>\n",
       "      <td>butuan</td>\n",
       "    </tr>\n",
       "    <tr>\n",
       "      <th>10</th>\n",
       "      <td>177</td>\n",
       "      <td>PHL</td>\n",
       "      <td>Philippines</td>\n",
       "      <td>2</td>\n",
       "      <td>Agusan del Norte</td>\n",
       "      <td>30</td>\n",
       "      <td>cabadbaran city</td>\n",
       "      <td></td>\n",
       "      <td></td>\n",
       "      <td>Lungsod|Siyudad</td>\n",
       "      <td>City</td>\n",
       "      <td>Agusan del Norte</td>\n",
       "      <td>Caraga (Region XIII)</td>\n",
       "      <td>POLYGON ((125.75833 9.21637, 125.76751 9.16362...</td>\n",
       "      <td>POINT (125.65467 9.13876)</td>\n",
       "      <td>7.178639</td>\n",
       "      <td>cabadbaran</td>\n",
       "    </tr>\n",
       "    <tr>\n",
       "      <th>23</th>\n",
       "      <td>177</td>\n",
       "      <td>PHL</td>\n",
       "      <td>Philippines</td>\n",
       "      <td>37</td>\n",
       "      <td>Isabela</td>\n",
       "      <td>725</td>\n",
       "      <td>santiago city</td>\n",
       "      <td></td>\n",
       "      <td></td>\n",
       "      <td>Lungsod|Siyudad</td>\n",
       "      <td>City</td>\n",
       "      <td>Isabela</td>\n",
       "      <td>Cagayan Valley (Region II)</td>\n",
       "      <td>POLYGON ((121.59323 16.73898, 121.62401 16.698...</td>\n",
       "      <td>POINT (121.49556 16.72124)</td>\n",
       "      <td>2.201463</td>\n",
       "      <td>santiago</td>\n",
       "    </tr>\n",
       "    <tr>\n",
       "      <th>31</th>\n",
       "      <td>177</td>\n",
       "      <td>PHL</td>\n",
       "      <td>Philippines</td>\n",
       "      <td>38</td>\n",
       "      <td>Kalinga</td>\n",
       "      <td>733</td>\n",
       "      <td>tabuk city</td>\n",
       "      <td></td>\n",
       "      <td></td>\n",
       "      <td>Lungsod|Siyudad</td>\n",
       "      <td>City</td>\n",
       "      <td>Kalinga</td>\n",
       "      <td>Cordillera Administrative Region (CAR)</td>\n",
       "      <td>POLYGON ((121.60453 17.39660, 121.54975 17.279...</td>\n",
       "      <td>POINT (121.44016 17.41317)</td>\n",
       "      <td>2.868903</td>\n",
       "      <td>tabuk</td>\n",
       "    </tr>\n",
       "    <tr>\n",
       "      <th>69</th>\n",
       "      <td>177</td>\n",
       "      <td>PHL</td>\n",
       "      <td>Philippines</td>\n",
       "      <td>81</td>\n",
       "      <td>Zamboanga del Sur</td>\n",
       "      <td>1631</td>\n",
       "      <td>zamboanga city</td>\n",
       "      <td></td>\n",
       "      <td></td>\n",
       "      <td>Lungsod|Siyudad</td>\n",
       "      <td>City</td>\n",
       "      <td>Zamboanga del Sur</td>\n",
       "      <td>Zamboanga Peninsula (Region IX)</td>\n",
       "      <td>MULTIPOLYGON (((122.16861 6.89417, 122.16750 6...</td>\n",
       "      <td>POINT (122.14249 7.14989)</td>\n",
       "      <td>7.523533</td>\n",
       "      <td>zamboanga</td>\n",
       "    </tr>\n",
       "    <tr>\n",
       "      <th>...</th>\n",
       "      <td>...</td>\n",
       "      <td>...</td>\n",
       "      <td>...</td>\n",
       "      <td>...</td>\n",
       "      <td>...</td>\n",
       "      <td>...</td>\n",
       "      <td>...</td>\n",
       "      <td>...</td>\n",
       "      <td>...</td>\n",
       "      <td>...</td>\n",
       "      <td>...</td>\n",
       "      <td>...</td>\n",
       "      <td>...</td>\n",
       "      <td>...</td>\n",
       "      <td>...</td>\n",
       "      <td>...</td>\n",
       "      <td>...</td>\n",
       "    </tr>\n",
       "    <tr>\n",
       "      <th>1568</th>\n",
       "      <td>177</td>\n",
       "      <td>PHL</td>\n",
       "      <td>Philippines</td>\n",
       "      <td>77</td>\n",
       "      <td>Tarlac</td>\n",
       "      <td>1549</td>\n",
       "      <td>tarlac city</td>\n",
       "      <td></td>\n",
       "      <td></td>\n",
       "      <td>Lungsod|Siyudad</td>\n",
       "      <td>City</td>\n",
       "      <td>Tarlac</td>\n",
       "      <td>Central Luzon (Region III)</td>\n",
       "      <td>POLYGON ((120.62286 15.55543, 120.62885 15.542...</td>\n",
       "      <td>POINT (120.60133 15.48421)</td>\n",
       "      <td>0.976217</td>\n",
       "      <td>tarlac</td>\n",
       "    </tr>\n",
       "    <tr>\n",
       "      <th>1587</th>\n",
       "      <td>177</td>\n",
       "      <td>PHL</td>\n",
       "      <td>Philippines</td>\n",
       "      <td>79</td>\n",
       "      <td>Zambales</td>\n",
       "      <td>1568</td>\n",
       "      <td>olongapo city</td>\n",
       "      <td></td>\n",
       "      <td></td>\n",
       "      <td>Lungsod|Siyudad</td>\n",
       "      <td>City</td>\n",
       "      <td>Zambales</td>\n",
       "      <td>Central Luzon (Region III)</td>\n",
       "      <td>POLYGON ((120.33790 14.82836, 120.29444 14.800...</td>\n",
       "      <td>POINT (120.34275 14.88586)</td>\n",
       "      <td>0.701185</td>\n",
       "      <td>olongapo</td>\n",
       "    </tr>\n",
       "    <tr>\n",
       "      <th>1597</th>\n",
       "      <td>177</td>\n",
       "      <td>PHL</td>\n",
       "      <td>Philippines</td>\n",
       "      <td>80</td>\n",
       "      <td>Zamboanga del Norte</td>\n",
       "      <td>1578</td>\n",
       "      <td>dapitan city</td>\n",
       "      <td></td>\n",
       "      <td></td>\n",
       "      <td>Lungsod|Siyudad</td>\n",
       "      <td>City</td>\n",
       "      <td>Zamboanga del Norte</td>\n",
       "      <td>Zamboanga Peninsula (Region IX)</td>\n",
       "      <td>POLYGON ((123.49164 8.69655, 123.49044 8.68033...</td>\n",
       "      <td>POINT (123.43949 8.58958)</td>\n",
       "      <td>6.479731</td>\n",
       "      <td>dapitan</td>\n",
       "    </tr>\n",
       "    <tr>\n",
       "      <th>1598</th>\n",
       "      <td>177</td>\n",
       "      <td>PHL</td>\n",
       "      <td>Philippines</td>\n",
       "      <td>80</td>\n",
       "      <td>Zamboanga del Norte</td>\n",
       "      <td>1579</td>\n",
       "      <td>dipolog city</td>\n",
       "      <td></td>\n",
       "      <td></td>\n",
       "      <td>Lungsod|Siyudad</td>\n",
       "      <td>City</td>\n",
       "      <td>Zamboanga del Norte</td>\n",
       "      <td>Zamboanga Peninsula (Region IX)</td>\n",
       "      <td>POLYGON ((123.35082 8.63138, 123.35824 8.62827...</td>\n",
       "      <td>POINT (123.35539 8.46096)</td>\n",
       "      <td>6.567920</td>\n",
       "      <td>dipolog</td>\n",
       "    </tr>\n",
       "    <tr>\n",
       "      <th>1639</th>\n",
       "      <td>177</td>\n",
       "      <td>PHL</td>\n",
       "      <td>Philippines</td>\n",
       "      <td>81</td>\n",
       "      <td>Zamboanga del Sur</td>\n",
       "      <td>1620</td>\n",
       "      <td>pagadian city</td>\n",
       "      <td></td>\n",
       "      <td></td>\n",
       "      <td>Lungsod|Siyudad</td>\n",
       "      <td>City</td>\n",
       "      <td>Zamboanga del Sur</td>\n",
       "      <td>Zamboanga Peninsula (Region IX)</td>\n",
       "      <td>POLYGON ((123.48585 7.82222, 123.46152 7.81139...</td>\n",
       "      <td>POINT (123.34435 7.88426)</td>\n",
       "      <td>7.104789</td>\n",
       "      <td>pagadian</td>\n",
       "    </tr>\n",
       "  </tbody>\n",
       "</table>\n",
       "<p>124 rows × 17 columns</p>\n",
       "</div>"
      ],
      "text/plain": [
       "      ID_0  ISO       NAME_0  ID_1               NAME_1  ID_2  \\\n",
       "9      177  PHL  Philippines     2     Agusan del Norte    29   \n",
       "10     177  PHL  Philippines     2     Agusan del Norte    30   \n",
       "23     177  PHL  Philippines    37              Isabela   725   \n",
       "31     177  PHL  Philippines    38              Kalinga   733   \n",
       "69     177  PHL  Philippines    81    Zamboanga del Sur  1631   \n",
       "...    ...  ...          ...   ...                  ...   ...   \n",
       "1568   177  PHL  Philippines    77               Tarlac  1549   \n",
       "1587   177  PHL  Philippines    79             Zambales  1568   \n",
       "1597   177  PHL  Philippines    80  Zamboanga del Norte  1578   \n",
       "1598   177  PHL  Philippines    80  Zamboanga del Norte  1579   \n",
       "1639   177  PHL  Philippines    81    Zamboanga del Sur  1620   \n",
       "\n",
       "               NAME_2 NL_NAME_2 VARNAME_2           TYPE_2 ENGTYPE_2  \\\n",
       "9         butuan city                      Lungsod|Siyudad      City   \n",
       "10    cabadbaran city                      Lungsod|Siyudad      City   \n",
       "23      santiago city                      Lungsod|Siyudad      City   \n",
       "31         tabuk city                      Lungsod|Siyudad      City   \n",
       "69     zamboanga city                      Lungsod|Siyudad      City   \n",
       "...               ...       ...       ...              ...       ...   \n",
       "1568      tarlac city                      Lungsod|Siyudad      City   \n",
       "1587    olongapo city                      Lungsod|Siyudad      City   \n",
       "1597     dapitan city                      Lungsod|Siyudad      City   \n",
       "1598     dipolog city                      Lungsod|Siyudad      City   \n",
       "1639    pagadian city                      Lungsod|Siyudad      City   \n",
       "\n",
       "                 PROVINCE                                  REGION  \\\n",
       "9        Agusan del Norte                    Caraga (Region XIII)   \n",
       "10       Agusan del Norte                    Caraga (Region XIII)   \n",
       "23                Isabela              Cagayan Valley (Region II)   \n",
       "31                Kalinga  Cordillera Administrative Region (CAR)   \n",
       "69      Zamboanga del Sur         Zamboanga Peninsula (Region IX)   \n",
       "...                   ...                                     ...   \n",
       "1568               Tarlac              Central Luzon (Region III)   \n",
       "1587             Zambales              Central Luzon (Region III)   \n",
       "1597  Zamboanga del Norte         Zamboanga Peninsula (Region IX)   \n",
       "1598  Zamboanga del Norte         Zamboanga Peninsula (Region IX)   \n",
       "1639    Zamboanga del Sur         Zamboanga Peninsula (Region IX)   \n",
       "\n",
       "                                               geometry  \\\n",
       "9     POLYGON ((125.73562 9.04831, 125.72034 9.01183...   \n",
       "10    POLYGON ((125.75833 9.21637, 125.76751 9.16362...   \n",
       "23    POLYGON ((121.59323 16.73898, 121.62401 16.698...   \n",
       "31    POLYGON ((121.60453 17.39660, 121.54975 17.279...   \n",
       "69    MULTIPOLYGON (((122.16861 6.89417, 122.16750 6...   \n",
       "...                                                 ...   \n",
       "1568  POLYGON ((120.62286 15.55543, 120.62885 15.542...   \n",
       "1587  POLYGON ((120.33790 14.82836, 120.29444 14.800...   \n",
       "1597  POLYGON ((123.49164 8.69655, 123.49044 8.68033...   \n",
       "1598  POLYGON ((123.35082 8.63138, 123.35824 8.62827...   \n",
       "1639  POLYGON ((123.48585 7.82222, 123.46152 7.81139...   \n",
       "\n",
       "                        Centroid  dist_mnl      NAME_3  \n",
       "9      POINT (125.57624 8.91443)  7.300512      butuan  \n",
       "10     POINT (125.65467 9.13876)  7.178639  cabadbaran  \n",
       "23    POINT (121.49556 16.72124)  2.201463    santiago  \n",
       "31    POINT (121.44016 17.41317)  2.868903       tabuk  \n",
       "69     POINT (122.14249 7.14989)  7.523533   zamboanga  \n",
       "...                          ...       ...         ...  \n",
       "1568  POINT (120.60133 15.48421)  0.976217      tarlac  \n",
       "1587  POINT (120.34275 14.88586)  0.701185    olongapo  \n",
       "1597   POINT (123.43949 8.58958)  6.479731     dapitan  \n",
       "1598   POINT (123.35539 8.46096)  6.567920     dipolog  \n",
       "1639   POINT (123.34435 7.88426)  7.104789    pagadian  \n",
       "\n",
       "[124 rows x 17 columns]"
      ]
     },
     "execution_count": 142,
     "metadata": {},
     "output_type": "execute_result"
    }
   ],
   "source": [
    "df1.loc[df1.NAME_2.str.contains('city'),:]"
   ]
  },
  {
   "cell_type": "code",
   "execution_count": 140,
   "metadata": {},
   "outputs": [],
   "source": [
    "df1['NAME_3'] = df1.NAME_2.str.replace(' city','')"
   ]
  },
  {
   "cell_type": "code",
   "execution_count": 141,
   "metadata": {},
   "outputs": [
    {
     "data": {
      "text/html": [
       "<div>\n",
       "<style scoped>\n",
       "    .dataframe tbody tr th:only-of-type {\n",
       "        vertical-align: middle;\n",
       "    }\n",
       "\n",
       "    .dataframe tbody tr th {\n",
       "        vertical-align: top;\n",
       "    }\n",
       "\n",
       "    .dataframe thead th {\n",
       "        text-align: right;\n",
       "    }\n",
       "</style>\n",
       "<table border=\"1\" class=\"dataframe\">\n",
       "  <thead>\n",
       "    <tr style=\"text-align: right;\">\n",
       "      <th></th>\n",
       "      <th>ID_0</th>\n",
       "      <th>ISO</th>\n",
       "      <th>NAME_0</th>\n",
       "      <th>ID_1</th>\n",
       "      <th>NAME_1</th>\n",
       "      <th>ID_2</th>\n",
       "      <th>NAME_2</th>\n",
       "      <th>NL_NAME_2</th>\n",
       "      <th>VARNAME_2</th>\n",
       "      <th>TYPE_2</th>\n",
       "      <th>ENGTYPE_2</th>\n",
       "      <th>PROVINCE</th>\n",
       "      <th>REGION</th>\n",
       "      <th>geometry</th>\n",
       "      <th>Centroid</th>\n",
       "      <th>dist_mnl</th>\n",
       "      <th>NAME_3</th>\n",
       "    </tr>\n",
       "  </thead>\n",
       "  <tbody>\n",
       "    <tr>\n",
       "      <th>0</th>\n",
       "      <td>177</td>\n",
       "      <td>PHL</td>\n",
       "      <td>Philippines</td>\n",
       "      <td>1</td>\n",
       "      <td>Abra</td>\n",
       "      <td>20</td>\n",
       "      <td>sallapadan</td>\n",
       "      <td></td>\n",
       "      <td></td>\n",
       "      <td>Bayan|Munisipyo</td>\n",
       "      <td>Municipality</td>\n",
       "      <td>Abra</td>\n",
       "      <td>Cordillera Administrative Region (CAR)</td>\n",
       "      <td>POLYGON ((120.78956 17.41699, 120.76131 17.416...</td>\n",
       "      <td>POINT (120.79004 17.48027)</td>\n",
       "      <td>2.903896</td>\n",
       "      <td>sallapadan</td>\n",
       "    </tr>\n",
       "    <tr>\n",
       "      <th>1</th>\n",
       "      <td>177</td>\n",
       "      <td>PHL</td>\n",
       "      <td>Philippines</td>\n",
       "      <td>1</td>\n",
       "      <td>Abra</td>\n",
       "      <td>21</td>\n",
       "      <td>san isidro</td>\n",
       "      <td></td>\n",
       "      <td></td>\n",
       "      <td>Bayan|Munisipyo</td>\n",
       "      <td>Municipality</td>\n",
       "      <td>Abra</td>\n",
       "      <td>Cordillera Administrative Region (CAR)</td>\n",
       "      <td>POLYGON ((120.63078 17.43194, 120.57896 17.441...</td>\n",
       "      <td>POINT (120.61827 17.47013)</td>\n",
       "      <td>2.909800</td>\n",
       "      <td>san isidro</td>\n",
       "    </tr>\n",
       "    <tr>\n",
       "      <th>2</th>\n",
       "      <td>177</td>\n",
       "      <td>PHL</td>\n",
       "      <td>Philippines</td>\n",
       "      <td>1</td>\n",
       "      <td>Abra</td>\n",
       "      <td>22</td>\n",
       "      <td>san juan</td>\n",
       "      <td></td>\n",
       "      <td></td>\n",
       "      <td>Bayan|Munisipyo</td>\n",
       "      <td>Municipality</td>\n",
       "      <td>Abra</td>\n",
       "      <td>Cordillera Administrative Region (CAR)</td>\n",
       "      <td>POLYGON ((120.78275 17.71497, 120.77975 17.665...</td>\n",
       "      <td>POINT (120.75506 17.70716)</td>\n",
       "      <td>3.132617</td>\n",
       "      <td>san juan</td>\n",
       "    </tr>\n",
       "    <tr>\n",
       "      <th>3</th>\n",
       "      <td>177</td>\n",
       "      <td>PHL</td>\n",
       "      <td>Philippines</td>\n",
       "      <td>1</td>\n",
       "      <td>Abra</td>\n",
       "      <td>23</td>\n",
       "      <td>san quintin</td>\n",
       "      <td></td>\n",
       "      <td></td>\n",
       "      <td>Bayan|Munisipyo</td>\n",
       "      <td>Municipality</td>\n",
       "      <td>Abra</td>\n",
       "      <td>Cordillera Administrative Region (CAR)</td>\n",
       "      <td>POLYGON ((120.58414 17.48283, 120.58454 17.476...</td>\n",
       "      <td>POINT (120.51443 17.51870)</td>\n",
       "      <td>2.972311</td>\n",
       "      <td>san quintin</td>\n",
       "    </tr>\n",
       "    <tr>\n",
       "      <th>4</th>\n",
       "      <td>177</td>\n",
       "      <td>PHL</td>\n",
       "      <td>Philippines</td>\n",
       "      <td>1</td>\n",
       "      <td>Abra</td>\n",
       "      <td>24</td>\n",
       "      <td>tayum</td>\n",
       "      <td></td>\n",
       "      <td></td>\n",
       "      <td>Bayan|Munisipyo</td>\n",
       "      <td>Municipality</td>\n",
       "      <td>Abra</td>\n",
       "      <td>Cordillera Administrative Region (CAR)</td>\n",
       "      <td>POLYGON ((120.71574 17.62419, 120.72351 17.623...</td>\n",
       "      <td>POINT (120.67967 17.60724)</td>\n",
       "      <td>3.039348</td>\n",
       "      <td>tayum</td>\n",
       "    </tr>\n",
       "  </tbody>\n",
       "</table>\n",
       "</div>"
      ],
      "text/plain": [
       "   ID_0  ISO       NAME_0  ID_1 NAME_1  ID_2       NAME_2 NL_NAME_2 VARNAME_2  \\\n",
       "0   177  PHL  Philippines     1   Abra    20   sallapadan                       \n",
       "1   177  PHL  Philippines     1   Abra    21   san isidro                       \n",
       "2   177  PHL  Philippines     1   Abra    22     san juan                       \n",
       "3   177  PHL  Philippines     1   Abra    23  san quintin                       \n",
       "4   177  PHL  Philippines     1   Abra    24        tayum                       \n",
       "\n",
       "            TYPE_2     ENGTYPE_2 PROVINCE  \\\n",
       "0  Bayan|Munisipyo  Municipality     Abra   \n",
       "1  Bayan|Munisipyo  Municipality     Abra   \n",
       "2  Bayan|Munisipyo  Municipality     Abra   \n",
       "3  Bayan|Munisipyo  Municipality     Abra   \n",
       "4  Bayan|Munisipyo  Municipality     Abra   \n",
       "\n",
       "                                   REGION  \\\n",
       "0  Cordillera Administrative Region (CAR)   \n",
       "1  Cordillera Administrative Region (CAR)   \n",
       "2  Cordillera Administrative Region (CAR)   \n",
       "3  Cordillera Administrative Region (CAR)   \n",
       "4  Cordillera Administrative Region (CAR)   \n",
       "\n",
       "                                            geometry  \\\n",
       "0  POLYGON ((120.78956 17.41699, 120.76131 17.416...   \n",
       "1  POLYGON ((120.63078 17.43194, 120.57896 17.441...   \n",
       "2  POLYGON ((120.78275 17.71497, 120.77975 17.665...   \n",
       "3  POLYGON ((120.58414 17.48283, 120.58454 17.476...   \n",
       "4  POLYGON ((120.71574 17.62419, 120.72351 17.623...   \n",
       "\n",
       "                     Centroid  dist_mnl       NAME_3  \n",
       "0  POINT (120.79004 17.48027)  2.903896   sallapadan  \n",
       "1  POINT (120.61827 17.47013)  2.909800   san isidro  \n",
       "2  POINT (120.75506 17.70716)  3.132617     san juan  \n",
       "3  POINT (120.51443 17.51870)  2.972311  san quintin  \n",
       "4  POINT (120.67967 17.60724)  3.039348        tayum  "
      ]
     },
     "execution_count": 141,
     "metadata": {},
     "output_type": "execute_result"
    }
   ],
   "source": [
    "df1.head()"
   ]
  },
  {
   "cell_type": "code",
   "execution_count": 49,
   "metadata": {},
   "outputs": [],
   "source": [
    "# clean up NaNs\n",
    "\n"
   ]
  },
  {
   "cell_type": "code",
   "execution_count": 50,
   "metadata": {
    "scrolled": true
   },
   "outputs": [
    {
     "data": {
      "text/html": [
       "<div>\n",
       "<style scoped>\n",
       "    .dataframe tbody tr th:only-of-type {\n",
       "        vertical-align: middle;\n",
       "    }\n",
       "\n",
       "    .dataframe tbody tr th {\n",
       "        vertical-align: top;\n",
       "    }\n",
       "\n",
       "    .dataframe thead th {\n",
       "        text-align: right;\n",
       "    }\n",
       "</style>\n",
       "<table border=\"1\" class=\"dataframe\">\n",
       "  <thead>\n",
       "    <tr style=\"text-align: right;\">\n",
       "      <th></th>\n",
       "      <th>ID_0</th>\n",
       "      <th>ISO</th>\n",
       "      <th>NAME_0</th>\n",
       "      <th>ID_1</th>\n",
       "      <th>NAME_1</th>\n",
       "      <th>ID_2</th>\n",
       "      <th>NAME_2</th>\n",
       "      <th>NL_NAME_2</th>\n",
       "      <th>VARNAME_2</th>\n",
       "      <th>TYPE_2</th>\n",
       "      <th>ENGTYPE_2</th>\n",
       "      <th>PROVINCE</th>\n",
       "      <th>REGION</th>\n",
       "      <th>geometry</th>\n",
       "      <th>Centroid</th>\n",
       "      <th>dist_mnl</th>\n",
       "    </tr>\n",
       "  </thead>\n",
       "  <tbody>\n",
       "    <tr>\n",
       "      <th>995</th>\n",
       "      <td>177</td>\n",
       "      <td>PHL</td>\n",
       "      <td>Philippines</td>\n",
       "      <td>47</td>\n",
       "      <td>Metropolitan Manila</td>\n",
       "      <td>955</td>\n",
       "      <td>Manila</td>\n",
       "      <td></td>\n",
       "      <td>City of Manila|Manila, City of</td>\n",
       "      <td>Lungsod|Siyudad</td>\n",
       "      <td>City</td>\n",
       "      <td>Metropolitan Manila</td>\n",
       "      <td>Metropolitan Manila</td>\n",
       "      <td>POLYGON ((120.98952 14.63567, 120.98637 14.625...</td>\n",
       "      <td>POINT (120.98570 14.59947)</td>\n",
       "      <td>0.020368</td>\n",
       "    </tr>\n",
       "    <tr>\n",
       "      <th>1000</th>\n",
       "      <td>177</td>\n",
       "      <td>PHL</td>\n",
       "      <td>Philippines</td>\n",
       "      <td>47</td>\n",
       "      <td>Metropolitan Manila</td>\n",
       "      <td>960</td>\n",
       "      <td>Pasay City</td>\n",
       "      <td></td>\n",
       "      <td></td>\n",
       "      <td>Lungsod|Siyudad</td>\n",
       "      <td>City</td>\n",
       "      <td>Metropolitan Manila</td>\n",
       "      <td>Metropolitan Manila</td>\n",
       "      <td>POLYGON ((121.00084 14.50921, 120.99825 14.535...</td>\n",
       "      <td>POINT (121.00359 14.53193)</td>\n",
       "      <td>0.057981</td>\n",
       "    </tr>\n",
       "    <tr>\n",
       "      <th>1004</th>\n",
       "      <td>177</td>\n",
       "      <td>PHL</td>\n",
       "      <td>Philippines</td>\n",
       "      <td>47</td>\n",
       "      <td>Metropolitan Manila</td>\n",
       "      <td>964</td>\n",
       "      <td>San Juan</td>\n",
       "      <td></td>\n",
       "      <td></td>\n",
       "      <td>Lungsod|Siyudad</td>\n",
       "      <td>City</td>\n",
       "      <td>Metropolitan Manila</td>\n",
       "      <td>Metropolitan Manila</td>\n",
       "      <td>POLYGON ((121.05712 14.60199, 121.03236 14.591...</td>\n",
       "      <td>POINT (121.03392 14.60252)</td>\n",
       "      <td>0.062499</td>\n",
       "    </tr>\n",
       "    <tr>\n",
       "      <th>994</th>\n",
       "      <td>177</td>\n",
       "      <td>PHL</td>\n",
       "      <td>Philippines</td>\n",
       "      <td>47</td>\n",
       "      <td>Metropolitan Manila</td>\n",
       "      <td>954</td>\n",
       "      <td>Mandaluyong</td>\n",
       "      <td></td>\n",
       "      <td>Mandaluyong, City of</td>\n",
       "      <td>Lungsod|Siyudad</td>\n",
       "      <td>City</td>\n",
       "      <td>Metropolitan Manila</td>\n",
       "      <td>Metropolitan Manila</td>\n",
       "      <td>POLYGON ((121.05753 14.58912, 121.05501 14.574...</td>\n",
       "      <td>POINT (121.03895 14.58382)</td>\n",
       "      <td>0.064168</td>\n",
       "    </tr>\n",
       "    <tr>\n",
       "      <th>992</th>\n",
       "      <td>177</td>\n",
       "      <td>PHL</td>\n",
       "      <td>Philippines</td>\n",
       "      <td>47</td>\n",
       "      <td>Metropolitan Manila</td>\n",
       "      <td>952</td>\n",
       "      <td>Makati City</td>\n",
       "      <td></td>\n",
       "      <td>Makati, City of</td>\n",
       "      <td>Lungsod|Siyudad</td>\n",
       "      <td>City</td>\n",
       "      <td>Metropolitan Manila</td>\n",
       "      <td>Metropolitan Manila</td>\n",
       "      <td>POLYGON ((121.04446 14.56964, 121.06603 14.560...</td>\n",
       "      <td>POINT (121.03380 14.54904)</td>\n",
       "      <td>0.067708</td>\n",
       "    </tr>\n",
       "    <tr>\n",
       "      <th>...</th>\n",
       "      <td>...</td>\n",
       "      <td>...</td>\n",
       "      <td>...</td>\n",
       "      <td>...</td>\n",
       "      <td>...</td>\n",
       "      <td>...</td>\n",
       "      <td>...</td>\n",
       "      <td>...</td>\n",
       "      <td>...</td>\n",
       "      <td>...</td>\n",
       "      <td>...</td>\n",
       "      <td>...</td>\n",
       "      <td>...</td>\n",
       "      <td>...</td>\n",
       "      <td>...</td>\n",
       "      <td>...</td>\n",
       "    </tr>\n",
       "    <tr>\n",
       "      <th>1432</th>\n",
       "      <td>177</td>\n",
       "      <td>PHL</td>\n",
       "      <td>Philippines</td>\n",
       "      <td>67</td>\n",
       "      <td>Sarangani</td>\n",
       "      <td>1392</td>\n",
       "      <td>Glan</td>\n",
       "      <td></td>\n",
       "      <td></td>\n",
       "      <td>Bayan|Munisipyo</td>\n",
       "      <td>Municipality</td>\n",
       "      <td>Sarangani</td>\n",
       "      <td>SOCCSKSARGEN (Region XII)</td>\n",
       "      <td>POLYGON ((125.32195 5.56896, 125.29401 5.58252...</td>\n",
       "      <td>POINT (125.34123 5.78852)</td>\n",
       "      <td>9.818124</td>\n",
       "    </tr>\n",
       "    <tr>\n",
       "      <th>583</th>\n",
       "      <td>177</td>\n",
       "      <td>PHL</td>\n",
       "      <td>Philippines</td>\n",
       "      <td>28</td>\n",
       "      <td>Davao del Sur</td>\n",
       "      <td>521</td>\n",
       "      <td>Jose Abad Santos</td>\n",
       "      <td></td>\n",
       "      <td>Jose Abad Santos (Trinidad)</td>\n",
       "      <td>Bayan|Munisipyo</td>\n",
       "      <td>Municipality</td>\n",
       "      <td>Davao del Sur</td>\n",
       "      <td>Davao Region (Region XI)</td>\n",
       "      <td>POLYGON ((125.70303 6.03556, 125.69486 6.02094...</td>\n",
       "      <td>POINT (125.52328 5.84084)</td>\n",
       "      <td>9.853988</td>\n",
       "    </tr>\n",
       "    <tr>\n",
       "      <th>1575</th>\n",
       "      <td>177</td>\n",
       "      <td>PHL</td>\n",
       "      <td>Philippines</td>\n",
       "      <td>78</td>\n",
       "      <td>Tawi-Tawi</td>\n",
       "      <td>1556</td>\n",
       "      <td>Sibutu</td>\n",
       "      <td></td>\n",
       "      <td></td>\n",
       "      <td>Bayan|Munisipyo</td>\n",
       "      <td>Municipality</td>\n",
       "      <td>Tawi-Tawi</td>\n",
       "      <td>Autonomous Region of Muslim Mindanao (ARMM)</td>\n",
       "      <td>POLYGON ((119.45611 4.91389, 119.46306 4.90750...</td>\n",
       "      <td>POINT (119.47613 4.78048)</td>\n",
       "      <td>9.915684</td>\n",
       "    </tr>\n",
       "    <tr>\n",
       "      <th>1577</th>\n",
       "      <td>177</td>\n",
       "      <td>PHL</td>\n",
       "      <td>Philippines</td>\n",
       "      <td>78</td>\n",
       "      <td>Tawi-Tawi</td>\n",
       "      <td>1558</td>\n",
       "      <td>Sitangkai</td>\n",
       "      <td></td>\n",
       "      <td></td>\n",
       "      <td>Bayan|Munisipyo</td>\n",
       "      <td>Municipality</td>\n",
       "      <td>Tawi-Tawi</td>\n",
       "      <td>Autonomous Region of Muslim Mindanao (ARMM)</td>\n",
       "      <td>MULTIPOLYGON (((119.42111 4.76444, 119.41917 4...</td>\n",
       "      <td>POINT (119.40502 4.74571)</td>\n",
       "      <td>9.961017</td>\n",
       "    </tr>\n",
       "    <tr>\n",
       "      <th>592</th>\n",
       "      <td>177</td>\n",
       "      <td>PHL</td>\n",
       "      <td>Philippines</td>\n",
       "      <td>28</td>\n",
       "      <td>Davao del Sur</td>\n",
       "      <td>530</td>\n",
       "      <td>Sarangani</td>\n",
       "      <td></td>\n",
       "      <td></td>\n",
       "      <td>Bayan|Munisipyo</td>\n",
       "      <td>Municipality</td>\n",
       "      <td>Davao del Sur</td>\n",
       "      <td>Davao Region (Region XI)</td>\n",
       "      <td>MULTIPOLYGON (((125.39778 5.43583, 125.42760 5...</td>\n",
       "      <td>POINT (125.42366 5.41888)</td>\n",
       "      <td>10.186260</td>\n",
       "    </tr>\n",
       "  </tbody>\n",
       "</table>\n",
       "<p>1641 rows × 16 columns</p>\n",
       "</div>"
      ],
      "text/plain": [
       "      ID_0  ISO       NAME_0  ID_1               NAME_1  ID_2  \\\n",
       "995    177  PHL  Philippines    47  Metropolitan Manila   955   \n",
       "1000   177  PHL  Philippines    47  Metropolitan Manila   960   \n",
       "1004   177  PHL  Philippines    47  Metropolitan Manila   964   \n",
       "994    177  PHL  Philippines    47  Metropolitan Manila   954   \n",
       "992    177  PHL  Philippines    47  Metropolitan Manila   952   \n",
       "...    ...  ...          ...   ...                  ...   ...   \n",
       "1432   177  PHL  Philippines    67            Sarangani  1392   \n",
       "583    177  PHL  Philippines    28        Davao del Sur   521   \n",
       "1575   177  PHL  Philippines    78            Tawi-Tawi  1556   \n",
       "1577   177  PHL  Philippines    78            Tawi-Tawi  1558   \n",
       "592    177  PHL  Philippines    28        Davao del Sur   530   \n",
       "\n",
       "                NAME_2 NL_NAME_2                       VARNAME_2  \\\n",
       "995             Manila            City of Manila|Manila, City of   \n",
       "1000        Pasay City                                             \n",
       "1004          San Juan                                             \n",
       "994        Mandaluyong                      Mandaluyong, City of   \n",
       "992        Makati City                           Makati, City of   \n",
       "...                ...       ...                             ...   \n",
       "1432              Glan                                             \n",
       "583   Jose Abad Santos               Jose Abad Santos (Trinidad)   \n",
       "1575            Sibutu                                             \n",
       "1577         Sitangkai                                             \n",
       "592          Sarangani                                             \n",
       "\n",
       "               TYPE_2     ENGTYPE_2             PROVINCE  \\\n",
       "995   Lungsod|Siyudad          City  Metropolitan Manila   \n",
       "1000  Lungsod|Siyudad          City  Metropolitan Manila   \n",
       "1004  Lungsod|Siyudad          City  Metropolitan Manila   \n",
       "994   Lungsod|Siyudad          City  Metropolitan Manila   \n",
       "992   Lungsod|Siyudad          City  Metropolitan Manila   \n",
       "...               ...           ...                  ...   \n",
       "1432  Bayan|Munisipyo  Municipality            Sarangani   \n",
       "583   Bayan|Munisipyo  Municipality        Davao del Sur   \n",
       "1575  Bayan|Munisipyo  Municipality            Tawi-Tawi   \n",
       "1577  Bayan|Munisipyo  Municipality            Tawi-Tawi   \n",
       "592   Bayan|Munisipyo  Municipality        Davao del Sur   \n",
       "\n",
       "                                           REGION  \\\n",
       "995                           Metropolitan Manila   \n",
       "1000                          Metropolitan Manila   \n",
       "1004                          Metropolitan Manila   \n",
       "994                           Metropolitan Manila   \n",
       "992                           Metropolitan Manila   \n",
       "...                                           ...   \n",
       "1432                    SOCCSKSARGEN (Region XII)   \n",
       "583                      Davao Region (Region XI)   \n",
       "1575  Autonomous Region of Muslim Mindanao (ARMM)   \n",
       "1577  Autonomous Region of Muslim Mindanao (ARMM)   \n",
       "592                      Davao Region (Region XI)   \n",
       "\n",
       "                                               geometry  \\\n",
       "995   POLYGON ((120.98952 14.63567, 120.98637 14.625...   \n",
       "1000  POLYGON ((121.00084 14.50921, 120.99825 14.535...   \n",
       "1004  POLYGON ((121.05712 14.60199, 121.03236 14.591...   \n",
       "994   POLYGON ((121.05753 14.58912, 121.05501 14.574...   \n",
       "992   POLYGON ((121.04446 14.56964, 121.06603 14.560...   \n",
       "...                                                 ...   \n",
       "1432  POLYGON ((125.32195 5.56896, 125.29401 5.58252...   \n",
       "583   POLYGON ((125.70303 6.03556, 125.69486 6.02094...   \n",
       "1575  POLYGON ((119.45611 4.91389, 119.46306 4.90750...   \n",
       "1577  MULTIPOLYGON (((119.42111 4.76444, 119.41917 4...   \n",
       "592   MULTIPOLYGON (((125.39778 5.43583, 125.42760 5...   \n",
       "\n",
       "                        Centroid   dist_mnl  \n",
       "995   POINT (120.98570 14.59947)   0.020368  \n",
       "1000  POINT (121.00359 14.53193)   0.057981  \n",
       "1004  POINT (121.03392 14.60252)   0.062499  \n",
       "994   POINT (121.03895 14.58382)   0.064168  \n",
       "992   POINT (121.03380 14.54904)   0.067708  \n",
       "...                          ...        ...  \n",
       "1432   POINT (125.34123 5.78852)   9.818124  \n",
       "583    POINT (125.52328 5.84084)   9.853988  \n",
       "1575   POINT (119.47613 4.78048)   9.915684  \n",
       "1577   POINT (119.40502 4.74571)   9.961017  \n",
       "592    POINT (125.42366 5.41888)  10.186260  \n",
       "\n",
       "[1641 rows x 16 columns]"
      ]
     },
     "execution_count": 50,
     "metadata": {},
     "output_type": "execute_result"
    }
   ],
   "source": [
    "df1.sort_values(by = 'dist_mnl')"
   ]
  },
  {
   "cell_type": "markdown",
   "metadata": {},
   "source": [
    "### Merge data"
   ]
  },
  {
   "cell_type": "code",
   "execution_count": 148,
   "metadata": {},
   "outputs": [],
   "source": [
    "df3 = df_cityindex.copy()"
   ]
  },
  {
   "cell_type": "code",
   "execution_count": 152,
   "metadata": {},
   "outputs": [
    {
     "data": {
      "text/html": [
       "<div>\n",
       "<style scoped>\n",
       "    .dataframe tbody tr th:only-of-type {\n",
       "        vertical-align: middle;\n",
       "    }\n",
       "\n",
       "    .dataframe tbody tr th {\n",
       "        vertical-align: top;\n",
       "    }\n",
       "\n",
       "    .dataframe thead th {\n",
       "        text-align: right;\n",
       "    }\n",
       "</style>\n",
       "<table border=\"1\" class=\"dataframe\">\n",
       "  <thead>\n",
       "    <tr style=\"text-align: right;\">\n",
       "      <th></th>\n",
       "      <th>Name</th>\n",
       "      <th>Geographic Level</th>\n",
       "      <th>City Class</th>\n",
       "      <th>Income Classification</th>\n",
       "      <th>Population</th>\n",
       "      <th>Name2</th>\n",
       "      <th>ID_0</th>\n",
       "      <th>ISO</th>\n",
       "      <th>NAME_0</th>\n",
       "      <th>ID_1</th>\n",
       "      <th>...</th>\n",
       "      <th>NL_NAME_2</th>\n",
       "      <th>VARNAME_2</th>\n",
       "      <th>TYPE_2</th>\n",
       "      <th>ENGTYPE_2</th>\n",
       "      <th>PROVINCE</th>\n",
       "      <th>REGION</th>\n",
       "      <th>geometry</th>\n",
       "      <th>Centroid</th>\n",
       "      <th>dist_mnl</th>\n",
       "      <th>NAME_3</th>\n",
       "    </tr>\n",
       "  </thead>\n",
       "  <tbody>\n",
       "    <tr>\n",
       "      <th>651.0</th>\n",
       "      <td>adams</td>\n",
       "      <td>Mun</td>\n",
       "      <td>UNK</td>\n",
       "      <td>5th</td>\n",
       "      <td>1792</td>\n",
       "      <td>adams</td>\n",
       "      <td>177.0</td>\n",
       "      <td>PHL</td>\n",
       "      <td>Philippines</td>\n",
       "      <td>34.0</td>\n",
       "      <td>...</td>\n",
       "      <td></td>\n",
       "      <td></td>\n",
       "      <td>Bayan|Munisipyo</td>\n",
       "      <td>Municipality</td>\n",
       "      <td>Ilocos Norte</td>\n",
       "      <td>Ilocos Region (Region I)</td>\n",
       "      <td>POLYGON ((120.96944 18.51512, 120.96105 18.447...</td>\n",
       "      <td>POINT (120.92128 18.44913)</td>\n",
       "      <td>3.867239</td>\n",
       "      <td>adams</td>\n",
       "    </tr>\n",
       "    <tr>\n",
       "      <th>652.0</th>\n",
       "      <td>bacarra</td>\n",
       "      <td>Mun</td>\n",
       "      <td>UNK</td>\n",
       "      <td>3rd</td>\n",
       "      <td>32215</td>\n",
       "      <td>bacarra</td>\n",
       "      <td>177.0</td>\n",
       "      <td>PHL</td>\n",
       "      <td>Philippines</td>\n",
       "      <td>34.0</td>\n",
       "      <td>...</td>\n",
       "      <td></td>\n",
       "      <td></td>\n",
       "      <td>Bayan|Munisipyo</td>\n",
       "      <td>Municipality</td>\n",
       "      <td>Ilocos Norte</td>\n",
       "      <td>Ilocos Region (Region I)</td>\n",
       "      <td>POLYGON ((120.66060 18.29522, 120.62473 18.222...</td>\n",
       "      <td>POINT (120.61190 18.26428)</td>\n",
       "      <td>3.699856</td>\n",
       "      <td>bacarra</td>\n",
       "    </tr>\n",
       "    <tr>\n",
       "      <th>653.0</th>\n",
       "      <td>badoc</td>\n",
       "      <td>Mun</td>\n",
       "      <td>UNK</td>\n",
       "      <td>3rd</td>\n",
       "      <td>31616</td>\n",
       "      <td>badoc</td>\n",
       "      <td>177.0</td>\n",
       "      <td>PHL</td>\n",
       "      <td>Philippines</td>\n",
       "      <td>34.0</td>\n",
       "      <td>...</td>\n",
       "      <td></td>\n",
       "      <td></td>\n",
       "      <td>Bayan|Munisipyo</td>\n",
       "      <td>Municipality</td>\n",
       "      <td>Ilocos Norte</td>\n",
       "      <td>Ilocos Region (Region I)</td>\n",
       "      <td>POLYGON ((120.47794 17.97738, 120.47594 17.969...</td>\n",
       "      <td>POINT (120.50966 17.90989)</td>\n",
       "      <td>3.359981</td>\n",
       "      <td>badoc</td>\n",
       "    </tr>\n",
       "    <tr>\n",
       "      <th>654.0</th>\n",
       "      <td>bangui</td>\n",
       "      <td>Mun</td>\n",
       "      <td>UNK</td>\n",
       "      <td>4th</td>\n",
       "      <td>14672</td>\n",
       "      <td>bangui</td>\n",
       "      <td>177.0</td>\n",
       "      <td>PHL</td>\n",
       "      <td>Philippines</td>\n",
       "      <td>34.0</td>\n",
       "      <td>...</td>\n",
       "      <td></td>\n",
       "      <td></td>\n",
       "      <td>Bayan|Munisipyo</td>\n",
       "      <td>Municipality</td>\n",
       "      <td>Ilocos Norte</td>\n",
       "      <td>Ilocos Region (Region I)</td>\n",
       "      <td>POLYGON ((120.84267 18.52399, 120.81868 18.531...</td>\n",
       "      <td>POINT (120.75302 18.47065)</td>\n",
       "      <td>3.894712</td>\n",
       "      <td>bangui</td>\n",
       "    </tr>\n",
       "    <tr>\n",
       "      <th>NaN</th>\n",
       "      <td>city of batac</td>\n",
       "      <td>City</td>\n",
       "      <td>CC</td>\n",
       "      <td>5th</td>\n",
       "      <td>55201</td>\n",
       "      <td>batac</td>\n",
       "      <td>NaN</td>\n",
       "      <td>NaN</td>\n",
       "      <td>NaN</td>\n",
       "      <td>NaN</td>\n",
       "      <td>...</td>\n",
       "      <td>NaN</td>\n",
       "      <td>NaN</td>\n",
       "      <td>NaN</td>\n",
       "      <td>NaN</td>\n",
       "      <td>NaN</td>\n",
       "      <td>NaN</td>\n",
       "      <td>None</td>\n",
       "      <td>None</td>\n",
       "      <td>NaN</td>\n",
       "      <td>NaN</td>\n",
       "    </tr>\n",
       "    <tr>\n",
       "      <th>...</th>\n",
       "      <td>...</td>\n",
       "      <td>...</td>\n",
       "      <td>...</td>\n",
       "      <td>...</td>\n",
       "      <td>...</td>\n",
       "      <td>...</td>\n",
       "      <td>...</td>\n",
       "      <td>...</td>\n",
       "      <td>...</td>\n",
       "      <td>...</td>\n",
       "      <td>...</td>\n",
       "      <td>...</td>\n",
       "      <td>...</td>\n",
       "      <td>...</td>\n",
       "      <td>...</td>\n",
       "      <td>...</td>\n",
       "      <td>...</td>\n",
       "      <td>...</td>\n",
       "      <td>...</td>\n",
       "      <td>...</td>\n",
       "      <td>...</td>\n",
       "    </tr>\n",
       "    <tr>\n",
       "      <th>931.0</th>\n",
       "      <td>santa fe</td>\n",
       "      <td>Mun</td>\n",
       "      <td>UNK</td>\n",
       "      <td>5th</td>\n",
       "      <td>16098</td>\n",
       "      <td>santa fe</td>\n",
       "      <td>177.0</td>\n",
       "      <td>PHL</td>\n",
       "      <td>Philippines</td>\n",
       "      <td>43.0</td>\n",
       "      <td>...</td>\n",
       "      <td></td>\n",
       "      <td></td>\n",
       "      <td>Bayan|Munisipyo</td>\n",
       "      <td>Municipality</td>\n",
       "      <td>Leyte</td>\n",
       "      <td>Eastern Visayas (Region VIII)</td>\n",
       "      <td>POLYGON ((124.91300 11.14173, 124.90653 11.152...</td>\n",
       "      <td>POINT (124.93598 11.18877)</td>\n",
       "      <td>5.216005</td>\n",
       "      <td>santa fe</td>\n",
       "    </tr>\n",
       "    <tr>\n",
       "      <th>1203.0</th>\n",
       "      <td>santa fe</td>\n",
       "      <td>Mun</td>\n",
       "      <td>UNK</td>\n",
       "      <td>5th</td>\n",
       "      <td>16098</td>\n",
       "      <td>santa fe</td>\n",
       "      <td>177.0</td>\n",
       "      <td>PHL</td>\n",
       "      <td>Philippines</td>\n",
       "      <td>56.0</td>\n",
       "      <td>...</td>\n",
       "      <td></td>\n",
       "      <td></td>\n",
       "      <td>Bayan|Munisipyo</td>\n",
       "      <td>Municipality</td>\n",
       "      <td>Nueva Vizcaya</td>\n",
       "      <td>Cagayan Valley (Region II)</td>\n",
       "      <td>POLYGON ((121.07488 16.11435, 121.02647 16.126...</td>\n",
       "      <td>POINT (120.91639 16.18142)</td>\n",
       "      <td>1.600229</td>\n",
       "      <td>santa fe</td>\n",
       "    </tr>\n",
       "    <tr>\n",
       "      <th>1403.0</th>\n",
       "      <td>santa fe</td>\n",
       "      <td>Mun</td>\n",
       "      <td>UNK</td>\n",
       "      <td>5th</td>\n",
       "      <td>16098</td>\n",
       "      <td>santa fe</td>\n",
       "      <td>177.0</td>\n",
       "      <td>PHL</td>\n",
       "      <td>Philippines</td>\n",
       "      <td>65.0</td>\n",
       "      <td>...</td>\n",
       "      <td></td>\n",
       "      <td></td>\n",
       "      <td>Bayan|Munisipyo</td>\n",
       "      <td>Municipality</td>\n",
       "      <td>Romblon</td>\n",
       "      <td>MIMAROPA (Region IV-B)</td>\n",
       "      <td>POLYGON ((122.04117 12.20728, 122.04727 12.209...</td>\n",
       "      <td>POINT (122.01087 12.16993)</td>\n",
       "      <td>2.625412</td>\n",
       "      <td>santa fe</td>\n",
       "    </tr>\n",
       "    <tr>\n",
       "      <th>1394.0</th>\n",
       "      <td>ferrol</td>\n",
       "      <td>Mun</td>\n",
       "      <td>UNK</td>\n",
       "      <td>6th</td>\n",
       "      <td>6964</td>\n",
       "      <td>ferrol</td>\n",
       "      <td>177.0</td>\n",
       "      <td>PHL</td>\n",
       "      <td>Philippines</td>\n",
       "      <td>65.0</td>\n",
       "      <td>...</td>\n",
       "      <td></td>\n",
       "      <td></td>\n",
       "      <td>Bayan|Munisipyo</td>\n",
       "      <td>Municipality</td>\n",
       "      <td>Romblon</td>\n",
       "      <td>MIMAROPA (Region IV-B)</td>\n",
       "      <td>POLYGON ((121.97763 12.31213, 121.94639 12.292...</td>\n",
       "      <td>POINT (121.94887 12.32630)</td>\n",
       "      <td>2.457263</td>\n",
       "      <td>ferrol</td>\n",
       "    </tr>\n",
       "    <tr>\n",
       "      <th>NaN</th>\n",
       "      <td>santa maria (imelda)</td>\n",
       "      <td>Mun</td>\n",
       "      <td>UNK</td>\n",
       "      <td>5th</td>\n",
       "      <td>8508</td>\n",
       "      <td>santa maria (imelda)</td>\n",
       "      <td>NaN</td>\n",
       "      <td>NaN</td>\n",
       "      <td>NaN</td>\n",
       "      <td>NaN</td>\n",
       "      <td>...</td>\n",
       "      <td>NaN</td>\n",
       "      <td>NaN</td>\n",
       "      <td>NaN</td>\n",
       "      <td>NaN</td>\n",
       "      <td>NaN</td>\n",
       "      <td>NaN</td>\n",
       "      <td>None</td>\n",
       "      <td>None</td>\n",
       "      <td>NaN</td>\n",
       "      <td>NaN</td>\n",
       "    </tr>\n",
       "  </tbody>\n",
       "</table>\n",
       "<p>2549 rows × 23 columns</p>\n",
       "</div>"
      ],
      "text/plain": [
       "                        Name Geographic Level City Class  \\\n",
       "651.0                  adams              Mun        UNK   \n",
       "652.0                bacarra              Mun        UNK   \n",
       "653.0                  badoc              Mun        UNK   \n",
       "654.0                 bangui              Mun        UNK   \n",
       "NaN            city of batac             City         CC   \n",
       "...                      ...              ...        ...   \n",
       "931.0               santa fe              Mun        UNK   \n",
       "1203.0              santa fe              Mun        UNK   \n",
       "1403.0              santa fe              Mun        UNK   \n",
       "1394.0                ferrol              Mun        UNK   \n",
       "NaN     santa maria (imelda)              Mun        UNK   \n",
       "\n",
       "       Income Classification  Population                 Name2   ID_0  ISO  \\\n",
       "651.0                    5th        1792                 adams  177.0  PHL   \n",
       "652.0                    3rd       32215               bacarra  177.0  PHL   \n",
       "653.0                    3rd       31616                 badoc  177.0  PHL   \n",
       "654.0                    4th       14672                bangui  177.0  PHL   \n",
       "NaN                      5th       55201                 batac    NaN  NaN   \n",
       "...                      ...         ...                   ...    ...  ...   \n",
       "931.0                    5th       16098              santa fe  177.0  PHL   \n",
       "1203.0                   5th       16098              santa fe  177.0  PHL   \n",
       "1403.0                   5th       16098              santa fe  177.0  PHL   \n",
       "1394.0                   6th        6964                ferrol  177.0  PHL   \n",
       "NaN                      5th        8508  santa maria (imelda)    NaN  NaN   \n",
       "\n",
       "             NAME_0  ID_1  ... NL_NAME_2  VARNAME_2           TYPE_2  \\\n",
       "651.0   Philippines  34.0  ...                       Bayan|Munisipyo   \n",
       "652.0   Philippines  34.0  ...                       Bayan|Munisipyo   \n",
       "653.0   Philippines  34.0  ...                       Bayan|Munisipyo   \n",
       "654.0   Philippines  34.0  ...                       Bayan|Munisipyo   \n",
       "NaN             NaN   NaN  ...       NaN        NaN              NaN   \n",
       "...             ...   ...  ...       ...        ...              ...   \n",
       "931.0   Philippines  43.0  ...                       Bayan|Munisipyo   \n",
       "1203.0  Philippines  56.0  ...                       Bayan|Munisipyo   \n",
       "1403.0  Philippines  65.0  ...                       Bayan|Munisipyo   \n",
       "1394.0  Philippines  65.0  ...                       Bayan|Munisipyo   \n",
       "NaN             NaN   NaN  ...       NaN        NaN              NaN   \n",
       "\n",
       "           ENGTYPE_2       PROVINCE                         REGION  \\\n",
       "651.0   Municipality   Ilocos Norte       Ilocos Region (Region I)   \n",
       "652.0   Municipality   Ilocos Norte       Ilocos Region (Region I)   \n",
       "653.0   Municipality   Ilocos Norte       Ilocos Region (Region I)   \n",
       "654.0   Municipality   Ilocos Norte       Ilocos Region (Region I)   \n",
       "NaN              NaN            NaN                            NaN   \n",
       "...              ...            ...                            ...   \n",
       "931.0   Municipality          Leyte  Eastern Visayas (Region VIII)   \n",
       "1203.0  Municipality  Nueva Vizcaya     Cagayan Valley (Region II)   \n",
       "1403.0  Municipality        Romblon         MIMAROPA (Region IV-B)   \n",
       "1394.0  Municipality        Romblon         MIMAROPA (Region IV-B)   \n",
       "NaN              NaN            NaN                            NaN   \n",
       "\n",
       "                                                 geometry  \\\n",
       "651.0   POLYGON ((120.96944 18.51512, 120.96105 18.447...   \n",
       "652.0   POLYGON ((120.66060 18.29522, 120.62473 18.222...   \n",
       "653.0   POLYGON ((120.47794 17.97738, 120.47594 17.969...   \n",
       "654.0   POLYGON ((120.84267 18.52399, 120.81868 18.531...   \n",
       "NaN                                                  None   \n",
       "...                                                   ...   \n",
       "931.0   POLYGON ((124.91300 11.14173, 124.90653 11.152...   \n",
       "1203.0  POLYGON ((121.07488 16.11435, 121.02647 16.126...   \n",
       "1403.0  POLYGON ((122.04117 12.20728, 122.04727 12.209...   \n",
       "1394.0  POLYGON ((121.97763 12.31213, 121.94639 12.292...   \n",
       "NaN                                                  None   \n",
       "\n",
       "                          Centroid  dist_mnl    NAME_3  \n",
       "651.0   POINT (120.92128 18.44913)  3.867239     adams  \n",
       "652.0   POINT (120.61190 18.26428)  3.699856   bacarra  \n",
       "653.0   POINT (120.50966 17.90989)  3.359981     badoc  \n",
       "654.0   POINT (120.75302 18.47065)  3.894712    bangui  \n",
       "NaN                           None       NaN       NaN  \n",
       "...                            ...       ...       ...  \n",
       "931.0   POINT (124.93598 11.18877)  5.216005  santa fe  \n",
       "1203.0  POINT (120.91639 16.18142)  1.600229  santa fe  \n",
       "1403.0  POINT (122.01087 12.16993)  2.625412  santa fe  \n",
       "1394.0  POINT (121.94887 12.32630)  2.457263    ferrol  \n",
       "NaN                           None       NaN       NaN  \n",
       "\n",
       "[2549 rows x 23 columns]"
      ]
     },
     "execution_count": 152,
     "metadata": {},
     "output_type": "execute_result"
    }
   ],
   "source": [
    "df3.merge(df1, how = 'left', left_index=True, left_on = 'Name2', right_on ='NAME_3')"
   ]
  },
  {
   "cell_type": "code",
   "execution_count": null,
   "metadata": {},
   "outputs": [],
   "source": [
    "df_merged = df_cases_by_city"
   ]
  },
  {
   "cell_type": "code",
   "execution_count": null,
   "metadata": {},
   "outputs": [],
   "source": [
    "df_merged = df_merged.merge(df_cityindex, how = 'left', left_index=True, right_index=True)"
   ]
  },
  {
   "cell_type": "code",
   "execution_count": null,
   "metadata": {},
   "outputs": [],
   "source": [
    "df_merged = df_merged.merge(df_poverty, how = 'left', left_index=True, right_index=True)"
   ]
  },
  {
   "cell_type": "code",
   "execution_count": null,
   "metadata": {},
   "outputs": [],
   "source": [
    "df_merged"
   ]
  },
  {
   "cell_type": "markdown",
   "metadata": {},
   "source": [
    "#### calculate case/pop as predicted variable\n",
    "calculate distance from manila as additional feature"
   ]
  },
  {
   "cell_type": "code",
   "execution_count": null,
   "metadata": {},
   "outputs": [],
   "source": [
    "df_merged['Case Per Capita'] = df_merged.Cases/df_merged.Population"
   ]
  },
  {
   "cell_type": "code",
   "execution_count": null,
   "metadata": {},
   "outputs": [],
   "source": [
    "df_merged.dropna(axis=0, how='any', thresh=None, subset=None, inplace=True)"
   ]
  },
  {
   "cell_type": "code",
   "execution_count": null,
   "metadata": {},
   "outputs": [],
   "source": [
    "df_merged.shape"
   ]
  },
  {
   "cell_type": "markdown",
   "metadata": {},
   "source": [
    "### "
   ]
  },
  {
   "cell_type": "markdown",
   "metadata": {},
   "source": [
    "### Exploratory Data Analysis\n",
    "So now we have a dataset of cities and municipalities with feature statistics like city class, income classification, population and poverty incidences as possible predictors of cases per capita."
   ]
  },
  {
   "cell_type": "code",
   "execution_count": null,
   "metadata": {},
   "outputs": [],
   "source": [
    "df_merged.sort_values('Case Per Capita', ascending = False)"
   ]
  },
  {
   "cell_type": "code",
   "execution_count": null,
   "metadata": {},
   "outputs": [],
   "source": [
    "df_merged.info()"
   ]
  },
  {
   "cell_type": "markdown",
   "metadata": {},
   "source": [
    "Since we have explicitly changed NaNs to literal UNK categorical values, it would be worth checking how many UNKs are there."
   ]
  },
  {
   "cell_type": "code",
   "execution_count": null,
   "metadata": {},
   "outputs": [],
   "source": [
    "#change UNK for different columns\n",
    "for columns in df_merged.columns:\n",
    "    print(f'Percent UNK Column {columns} = {((sum(df_merged[columns] == \"UNK\"))/len(df_merged[columns])):.0%}')"
   ]
  },
  {
   "cell_type": "markdown",
   "metadata": {},
   "source": [
    "This points to feature City Class to have mostly UNKs so let's get that off our list of features."
   ]
  },
  {
   "cell_type": "code",
   "execution_count": null,
   "metadata": {},
   "outputs": [],
   "source": [
    "df_merged = df_merged[['Geographic Level','Income Classification',\n",
    "           'Population','Poverty Incidence','Case Per Capita']]"
   ]
  },
  {
   "cell_type": "code",
   "execution_count": null,
   "metadata": {},
   "outputs": [],
   "source": [
    "df_merged.tail()"
   ]
  },
  {
   "cell_type": "markdown",
   "metadata": {},
   "source": [
    "1. Doing pairplots and correlattion analysis shows that of the features mentioned above, none is a strong predictor."
   ]
  },
  {
   "cell_type": "code",
   "execution_count": null,
   "metadata": {},
   "outputs": [],
   "source": [
    "g = sns.pairplot(df_merged)\n",
    "g.fig.suptitle(\"Pair Plot\", y=1.08)"
   ]
  },
  {
   "cell_type": "code",
   "execution_count": null,
   "metadata": {},
   "outputs": [],
   "source": [
    "sns.heatmap(df_merged.corr(),annot=True,lw=1)"
   ]
  },
  {
   "cell_type": "code",
   "execution_count": null,
   "metadata": {},
   "outputs": [],
   "source": [
    "df_merged.corr()"
   ]
  },
  {
   "cell_type": "markdown",
   "metadata": {},
   "source": [
    "2. Separating the analysis by geographic level shows correlation to be stronger at City level."
   ]
  },
  {
   "cell_type": "markdown",
   "metadata": {},
   "source": [
    "Let us now explore our data if we group them according to Geographic Level and Income Classification."
   ]
  },
  {
   "cell_type": "markdown",
   "metadata": {},
   "source": [
    "First let's do a quick pairplot correlation analysis while differentiating the colors by Geographic Level."
   ]
  },
  {
   "cell_type": "code",
   "execution_count": null,
   "metadata": {},
   "outputs": [],
   "source": [
    "sns.pairplot(df_merged, hue = \"Geographic Level\")"
   ]
  },
  {
   "cell_type": "code",
   "execution_count": null,
   "metadata": {},
   "outputs": [],
   "source": [
    "geo_levels = df_merged['Geographic Level'].unique()"
   ]
  },
  {
   "cell_type": "code",
   "execution_count": null,
   "metadata": {},
   "outputs": [],
   "source": [
    "for level in geo_levels:\n",
    "    sub_df = df_merged.loc[df_merged['Geographic Level'] == level,['Population', 'Poverty Incidence','Case Per Capita']]\n",
    "    print(level)\n",
    "    #print('\\n')\n",
    "    print(sub_df_cases_raw.corr())\n",
    "    print('\\n\\n')\n",
    "    g = sns.pairplot(sub_df)\n",
    "    g.fig.suptitle(level, y=1.08)"
   ]
  },
  {
   "cell_type": "markdown",
   "metadata": {},
   "source": [
    "We can also see no strong correlation. Relatively, the strongest correlation we see is with Poverty Incidence at -0.52, a moderately negative correlation between Poverty Incidence and Case Per Capita."
   ]
  },
  {
   "cell_type": "markdown",
   "metadata": {},
   "source": [
    "Examining the effects if we group them by Income Classification."
   ]
  },
  {
   "cell_type": "code",
   "execution_count": null,
   "metadata": {},
   "outputs": [],
   "source": [
    "sns.pairplot(df_merged, hue = \"Income Classification\")"
   ]
  },
  {
   "cell_type": "code",
   "execution_count": null,
   "metadata": {},
   "outputs": [],
   "source": [
    "income_classes = df_merged['Income Classification'].unique()\n",
    "\n",
    "for level in income_classes:\n",
    "    sub_df = df_merged.loc[df_merged['Income Classification'] == level,['Population', 'Poverty Incidence','Case Per Capita']]\n",
    "    print(level)\n",
    "    #print('\\n')\n",
    "    print(sub_df_cases_raw.corr())\n",
    "    print('\\n\\n')\n",
    "    g = sns.pairplot(sub_df)\n",
    "    g.fig.suptitle(level, y=1.08)"
   ]
  },
  {
   "cell_type": "markdown",
   "metadata": {},
   "source": [
    "We can also see no strong correlation. Although only moderate, we do see a moderate positive correlation between Population and Cases per Capita when you're a 6th Class City at 0.64. We also see a moderate negative correlation between Poverty Incidence and Cases per Capita when you are an unclassified city or municipality."
   ]
  },
  {
   "cell_type": "markdown",
   "metadata": {},
   "source": [
    "Since most the of cases occur in Metro Manila, let us see if there's Poverty Incidence is a strong predictor of Cases Per Capita in the Metro Manila Area."
   ]
  },
  {
   "cell_type": "markdown",
   "metadata": {},
   "source": [
    "We know that cities in the National Capital Region of Metro Manila has a PSGC of 130000000 or more. Limiting our dataset to Metro Manila cities we have:"
   ]
  },
  {
   "cell_type": "code",
   "execution_count": null,
   "metadata": {},
   "outputs": [],
   "source": [
    "#psgc_mm = ['133900000', '137401000', '137402000', '137403000', '137404000', '137405000', '137501000', '137502000', '137503000', '137504000', '137601000', '137602000', '137603000', '137604000', '137606000', '137605000', '137607000']\n",
    "psgc_mm = ['137401000', '137402000', '137403000', '137404000', '137405000', '137501000', '137502000', '137503000', '137504000', '137601000', '137602000', '137603000', '137604000', '137606000', '137605000', '137607000']\n",
    "df_mm = df_merged.loc[psgc_mm]"
   ]
  },
  {
   "cell_type": "code",
   "execution_count": null,
   "metadata": {},
   "outputs": [],
   "source": [
    "sns.pairplot(df_mm)"
   ]
  },
  {
   "cell_type": "code",
   "execution_count": null,
   "metadata": {},
   "outputs": [],
   "source": [
    "sns.heatmap(df_mm.corr(),annot=True,lw=1)"
   ]
  },
  {
   "cell_type": "code",
   "execution_count": null,
   "metadata": {},
   "outputs": [],
   "source": [
    "df_mm.corr()"
   ]
  },
  {
   "cell_type": "markdown",
   "metadata": {},
   "source": [
    "We can also see no strong correlation. We also see a moderate negative correlation between Population and Cases per Capita for the largest cities in the Philippines and the epicenter of the pandemic.\n",
    "\n",
    "For now, we can conclude that Poverty Incidence is not a strong predictor of severity as measured by Cases Per Capita."
   ]
  },
  {
   "cell_type": "code",
   "execution_count": null,
   "metadata": {},
   "outputs": [],
   "source": []
  },
  {
   "cell_type": "code",
   "execution_count": null,
   "metadata": {},
   "outputs": [],
   "source": [
    "#dummy variables\n",
    "\n",
    "#change UNK for different columns\n",
    "for columns in df_merged.columns:\n",
    "    print(f'Number of Unknowns for Column {columns} = {sum(df_merged[columns] == \"UNK\")}')"
   ]
  },
  {
   "cell_type": "code",
   "execution_count": null,
   "metadata": {},
   "outputs": [],
   "source": [
    "df_merged = pd.get_dummies(df_merged, \n",
    "               columns = ['Geographic Level', 'Income Classification'], \n",
    "               prefix = ['GL','IC'])"
   ]
  },
  {
   "cell_type": "code",
   "execution_count": null,
   "metadata": {},
   "outputs": [],
   "source": [
    "df_merged = df_merged[['Name', 'Population', 'Poverty Incidence', 'GL_City', \n",
    "     'GL_Mun', 'GL_SubMun', 'IC_1st', 'IC_2nd','IC_3rd', 'IC_4th', \n",
    "     'IC_5th', 'IC_6th', 'IC_Special', 'IC_UNK','Case Per Capita']]"
   ]
  },
  {
   "cell_type": "code",
   "execution_count": null,
   "metadata": {},
   "outputs": [],
   "source": [
    "#check histogram of population\n",
    "df_merged['Population'][df_merged['IC_3rd'] == 1].hist()"
   ]
  },
  {
   "cell_type": "code",
   "execution_count": null,
   "metadata": {},
   "outputs": [],
   "source": [
    "#normalize population\\\n",
    "ss = StandardScaler()\n",
    "df_merged['Population Normalized'] = ss.fit_transform(df_merged[['Population']])"
   ]
  },
  {
   "cell_type": "code",
   "execution_count": null,
   "metadata": {},
   "outputs": [],
   "source": [
    "df_merged.corr().loc['Case Per Capita']"
   ]
  },
  {
   "cell_type": "code",
   "execution_count": null,
   "metadata": {},
   "outputs": [],
   "source": [
    "df_merged.head()"
   ]
  },
  {
   "cell_type": "markdown",
   "metadata": {},
   "source": [
    "### Inference"
   ]
  },
  {
   "cell_type": "code",
   "execution_count": null,
   "metadata": {},
   "outputs": [],
   "source": [
    "#define target variable\n",
    "y = df_merged['Case Per Capita']"
   ]
  },
  {
   "cell_type": "code",
   "execution_count": null,
   "metadata": {},
   "outputs": [],
   "source": [
    "y"
   ]
  },
  {
   "cell_type": "code",
   "execution_count": null,
   "metadata": {},
   "outputs": [],
   "source": [
    "X = df_merged[['Population Normalized', 'Poverty Incidence', 'GL_City', 'GL_Mun', 'GL_SubMun', 'IC_1st', 'IC_2nd','IC_3rd', 'IC_4th', 'IC_5th', 'IC_6th', 'IC_Special', 'IC_UNK']]"
   ]
  },
  {
   "cell_type": "code",
   "execution_count": null,
   "metadata": {},
   "outputs": [],
   "source": [
    "X"
   ]
  },
  {
   "cell_type": "code",
   "execution_count": null,
   "metadata": {},
   "outputs": [],
   "source": [
    "#split into training and test sets\n",
    "X_train, X_valid, y_train, y_valid = train_test_split(X,y, test_size=0.2)\n",
    "print(X_train.shape, X_valid.shape, y_train.shape, y_valid.shape)"
   ]
  },
  {
   "cell_type": "code",
   "execution_count": null,
   "metadata": {},
   "outputs": [],
   "source": [
    "#fitting a linear model\n",
    "lm = LinearRegression()\n",
    "lm.fit(X_train,y_train)"
   ]
  },
  {
   "cell_type": "code",
   "execution_count": null,
   "metadata": {},
   "outputs": [],
   "source": [
    "lm.score(X_train,y_train)"
   ]
  },
  {
   "cell_type": "code",
   "execution_count": null,
   "metadata": {},
   "outputs": [],
   "source": [
    "lm.score(X_valid,y_valid)"
   ]
  },
  {
   "cell_type": "code",
   "execution_count": null,
   "metadata": {},
   "outputs": [],
   "source": [
    "y_pred = lm.predict(X_valid)\n",
    "rmse = np.sqrt(metrics.mean_squared_error(y_pred, y_valid))\n",
    "rmse"
   ]
  },
  {
   "cell_type": "code",
   "execution_count": null,
   "metadata": {},
   "outputs": [],
   "source": [
    "rdgCV = RidgeCV(alphas=[0.01,0.1,1,10,100,1000], cv=5)\n",
    "rdgCV.fit(X_train,y_train)"
   ]
  },
  {
   "cell_type": "code",
   "execution_count": null,
   "metadata": {},
   "outputs": [],
   "source": [
    "print(rdgCV.alpha_)"
   ]
  },
  {
   "cell_type": "code",
   "execution_count": null,
   "metadata": {},
   "outputs": [],
   "source": [
    "rdg = Ridge(alpha=10)\n",
    "rdg.fit(X_train, y_train)\n",
    "rdg.score(X_valid, y_valid)"
   ]
  },
  {
   "cell_type": "code",
   "execution_count": null,
   "metadata": {},
   "outputs": [],
   "source": [
    "y_pred = rdg.predict(X_valid)\n",
    "rmse = np.sqrt(metrics.mean_squared_error(y_pred, y_valid))\n",
    "rmse"
   ]
  },
  {
   "cell_type": "code",
   "execution_count": null,
   "metadata": {},
   "outputs": [],
   "source": [
    "rfr = RandomForestRegressor(n_jobs=-1, n_estimators=100)\n",
    "rfr.fit(X,y)"
   ]
  },
  {
   "cell_type": "code",
   "execution_count": null,
   "metadata": {},
   "outputs": [],
   "source": [
    "rfr.score(X_valid,y_valid)"
   ]
  },
  {
   "cell_type": "code",
   "execution_count": null,
   "metadata": {},
   "outputs": [],
   "source": [
    "y_pred = rfr.predict(X_valid)\n",
    "rmse = np.sqrt(metrics.mean_squared_error(y_pred, y_valid))\n",
    "rmse"
   ]
  },
  {
   "cell_type": "code",
   "execution_count": null,
   "metadata": {},
   "outputs": [],
   "source": [
    "print(lm.coef_)\n",
    "print(np.argmax(lm.coef_))\n",
    "print(df_merged.columns[np.argmax(lm.coef_)])\n",
    "print(rdgCV.coef_)\n",
    "print(np.argmax(rdgCV.coef_))"
   ]
  },
  {
   "cell_type": "code",
   "execution_count": null,
   "metadata": {},
   "outputs": [],
   "source": [
    "rfr.fit(X_train,y_train)\n",
    "\n",
    "y_lm_pred = lm.predict(X_train)\n",
    "y_rdgCV_pred = rdgCV.predict(X_train)\n",
    "y_rfr_pred = rfr.predict(X_train)\n",
    "\n",
    "print('-----training score ---')\n",
    "print(lm.score(X_train, y_train))\n",
    "print(rdgCV.score(X_train, y_train))\n",
    "print(rfr.score(X_train, y_train))\n",
    "print('----Validation score ---')\n",
    "print(lm.score(X_valid, y_valid))\n",
    "print(rdgCV.score(X_valid, y_valid))\n",
    "print(rfr.score(X_valid, y_valid))"
   ]
  },
  {
   "cell_type": "code",
   "execution_count": null,
   "metadata": {},
   "outputs": [],
   "source": [
    "sns.heatmap(df_merged.corr().loc['Case Per Capita'], robust = True)"
   ]
  },
  {
   "cell_type": "markdown",
   "metadata": {},
   "source": [
    "# Results\n",
    "section where you discuss the results."
   ]
  },
  {
   "cell_type": "markdown",
   "metadata": {},
   "source": [
    "# Discussion\n",
    "section where you discuss any observations you noted and any recommendations you can make based on the results."
   ]
  },
  {
   "cell_type": "markdown",
   "metadata": {},
   "source": [
    "# Conclusion\n",
    "section where you conclude the report."
   ]
  },
  {
   "cell_type": "code",
   "execution_count": null,
   "metadata": {},
   "outputs": [],
   "source": []
  },
  {
   "cell_type": "markdown",
   "metadata": {},
   "source": [
    "# Extras below\n",
    "## Next Steps\n",
    "* merge geojson in main dataframe\n",
    "* calculate distance from manila\n",
    "* determine correlation between distance from manila\n",
    "* do same analysis as earlier with baranggay level"
   ]
  },
  {
   "cell_type": "code",
   "execution_count": null,
   "metadata": {},
   "outputs": [],
   "source": [
    "feature_to_remove = 'Geographic Level'"
   ]
  },
  {
   "cell_type": "code",
   "execution_count": null,
   "metadata": {},
   "outputs": [],
   "source": [
    "sub_df = df_merged"
   ]
  },
  {
   "cell_type": "code",
   "execution_count": null,
   "metadata": {},
   "outputs": [],
   "source": [
    "col_list_new = list(sub_df_cases_raw.columns)\n",
    "col_list_new"
   ]
  },
  {
   "cell_type": "code",
   "execution_count": null,
   "metadata": {},
   "outputs": [],
   "source": [
    "sns.pairplot(df_merged[['Geographic Level','Population','Poverty Incidence','Case Per Capita']], hue = 'Geographic Level',\n",
    "            diag_kind=\"hist\")"
   ]
  },
  {
   "cell_type": "code",
   "execution_count": null,
   "metadata": {},
   "outputs": [],
   "source": [
    "def corr_by_level(dataframe, variable):\n",
    "    for level in geo_levels:\n",
    "        sub_df = df_merged.loc[df_merged['Geographic Level'] == level,['Population', 'Poverty Incidence','Case Per Capita']]\n",
    "    print(level)\n",
    "    print('\\n')\n",
    "    #print(sub_df_cases_raw.corr().loc['Case Per Capita'])\n",
    "    sns.pairplot(sub_df)\n",
    "    print('\\n\\n')"
   ]
  },
  {
   "cell_type": "code",
   "execution_count": null,
   "metadata": {},
   "outputs": [],
   "source": [
    "for level in geo_levels:\n",
    "    sub_df = df_merged.loc[df_merged['Geographic Level'] == level,['Population', 'Poverty Incidence','Case Per Capita']]\n",
    "    print(level)\n",
    "    print('\\n')\n",
    "    #print(sub_df_cases_raw.corr().loc['Case Per Capita'])\n",
    "    sns.pairplot(sub_df)\n",
    "    print('\\n\\n')"
   ]
  },
  {
   "cell_type": "code",
   "execution_count": null,
   "metadata": {},
   "outputs": [],
   "source": [
    "df_merged.columns"
   ]
  },
  {
   "cell_type": "code",
   "execution_count": null,
   "metadata": {},
   "outputs": [],
   "source": [
    "df_merged['Geographic Level'].unique()"
   ]
  },
  {
   "cell_type": "code",
   "execution_count": null,
   "metadata": {},
   "outputs": [],
   "source": [
    "df_merged.loc[df_merged['Geographic Level'] == 'Mun',['Population', 'Poverty Incidence']]"
   ]
  },
  {
   "cell_type": "code",
   "execution_count": null,
   "metadata": {},
   "outputs": [],
   "source": [
    "for level in df_merged['Geographic Level'].unique():\n",
    "    sub_df = df_merged.loc[df_merged['Geographic Level'] == level,['Population', 'Poverty Incidence','Case Per Capita']]\n",
    "    print(level)\n",
    "    print('\\n')\n",
    "    #print(sub_df_cases_raw.corr().loc['Case Per Capita'])\n",
    "    sns.pairplot(sub_df)\n",
    "    print('\\n\\n')"
   ]
  },
  {
   "cell_type": "code",
   "execution_count": null,
   "metadata": {},
   "outputs": [],
   "source": [
    "df_merged['Income Classification'].unique()"
   ]
  }
 ],
 "metadata": {
  "kernelspec": {
   "display_name": "Python 3",
   "language": "python",
   "name": "python3"
  },
  "language_info": {
   "codemirror_mode": {
    "name": "ipython",
    "version": 3
   },
   "file_extension": ".py",
   "mimetype": "text/x-python",
   "name": "python",
   "nbconvert_exporter": "python",
   "pygments_lexer": "ipython3",
   "version": "3.8.2"
  }
 },
 "nbformat": 4,
 "nbformat_minor": 4
}
